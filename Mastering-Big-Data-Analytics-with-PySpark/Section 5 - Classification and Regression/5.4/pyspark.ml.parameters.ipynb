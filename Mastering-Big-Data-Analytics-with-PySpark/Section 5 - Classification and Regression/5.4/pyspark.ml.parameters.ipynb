{
 "cells": [
  {
   "cell_type": "markdown",
   "metadata": {},
   "source": [
    "# Parameters\n",
    "MLlib `Estimators` and `Transformers` use a uniform API for specifying parameters.\n",
    "\n",
    "A Param is a named parameter with self-contained documentation. A ParamMap is a set of (parameter, value) pairs.\n",
    "\n",
    "There are two main ways to pass parameters to an algorithm:\n",
    "\n",
    "- Set parameters for an instance. E.g., if `lr` is an instance of `LogisticRegression`, one could call `lr.setMaxIter(10)` to make `lr.fit()` use at most 10 iterations. This API resembles the API used in spark.mllib package.\n",
    "\n",
    "- Pass a `ParamMap` to `.fit()` or `.transform()`. Any parameters in the `ParamMap` will override parameters previously specified via setter methods.\n",
    "\n",
    "Parameters belong to specific instances of `Estimators` and `Transformers`. For example, if we have two LogisticRegression instances `lr1` and `lr2`, then we can build a ParamMap with both `maxIter` parameters specified: `ParamMap({lr1.maxIter: 10, lr2.maxIter:  20})`. This is useful if there are two algorithms with the `maxIter` parameter in a `Pipeline`.\n",
    "\n",
    "\n",
    "### Example\n",
    "This example was adapted from Spark's MLlib: Main Guide. Link to original:  \n",
    "https://spark.apache.org/docs/2.4.3/ml-pipeline.html#example-estimator-transformer-and-param"
   ]
  },
  {
   "cell_type": "code",
   "execution_count": null,
   "metadata": {},
   "outputs": [],
   "source": [
    "from IPython.core.display import display, HTML\n",
    "from pyspark.sql import SparkSession\n",
    "from pyspark.ml.linalg import Vectors\n",
    "from pyspark.ml.classification import LogisticRegression\n",
    "\n",
    "spark = SparkSession.builder.getOrCreate()\n",
    "\n",
    "# Prepare training data from a list of (label, features) tuples.\n",
    "training = spark.createDataFrame(\n",
    "    [\n",
    "        (1.0, Vectors.dense([0.0, 1.1, 0.1])),\n",
    "        (0.0, Vectors.dense([2.0, 1.0, -1.0])),\n",
    "        (0.0, Vectors.dense([2.0, 1.3, 1.0])),\n",
    "        (1.0, Vectors.dense([0.0, 1.2, -0.5])),\n",
    "    ],\n",
    "    [\"label\", \"features\"],\n",
    ")\n",
    "\n",
    "# Prepare test data\n",
    "test = spark.createDataFrame(\n",
    "    [\n",
    "        (1.0, Vectors.dense([-1.0, 1.5, 1.3])),\n",
    "        (0.0, Vectors.dense([3.0, 2.0, -0.1])),\n",
    "        (1.0, Vectors.dense([0.0, 2.2, -1.5])),\n",
    "    ],\n",
    "    [\"label\", \"features\"],\n",
    ")\n"
   ]
  },
  {
   "cell_type": "code",
   "execution_count": 182,
   "metadata": {},
   "outputs": [
    {
     "name": "stdout",
     "output_type": "stream",
     "text": [
      "LogisticRegression parameters:\n",
      "aggregationDepth: suggested depth for treeAggregate (>= 2). (default: 2)\n",
      "elasticNetParam: the ElasticNet mixing parameter, in range [0, 1]. For alpha = 0, the penalty is an L2 penalty. For alpha = 1, it is an L1 penalty. (default: 0.0)\n",
      "family: The name of family which is a description of the label distribution to be used in the model. Supported options: auto, binomial, multinomial (default: auto)\n",
      "featuresCol: features column name. (default: features)\n",
      "fitIntercept: whether to fit an intercept term. (default: True)\n",
      "labelCol: label column name. (default: label)\n",
      "lowerBoundsOnCoefficients: The lower bounds on coefficients if fitting under bound constrained optimization. The bound matrix must be compatible with the shape (1, number of features) for binomial regression, or (number of classes, number of features) for multinomial regression. (undefined)\n",
      "lowerBoundsOnIntercepts: The lower bounds on intercepts if fitting under bound constrained optimization. The bounds vector size must beequal with 1 for binomial regression, or the number oflasses for multinomial regression. (undefined)\n",
      "maxIter: max number of iterations (>= 0). (default: 100, current: 10)\n",
      "predictionCol: prediction column name. (default: prediction)\n",
      "probabilityCol: Column name for predicted class conditional probabilities. Note: Not all models output well-calibrated probability estimates! These probabilities should be treated as confidences, not precise probabilities. (default: probability)\n",
      "rawPredictionCol: raw prediction (a.k.a. confidence) column name. (default: rawPrediction)\n",
      "regParam: regularization parameter (>= 0). (default: 0.0, current: 0.01)\n",
      "standardization: whether to standardize the training features before fitting the model. (default: True)\n",
      "threshold: Threshold in binary classification prediction, in range [0, 1]. If threshold and thresholds are both set, they must match.e.g. if threshold is p, then thresholds must be equal to [1-p, p]. (default: 0.5)\n",
      "thresholds: Thresholds in multi-class classification to adjust the probability of predicting each class. Array must have length equal to the number of classes, with values > 0, excepting that at most one value may be 0. The class with largest value p/t is predicted, where p is the original probability of that class and t is the class's threshold. (undefined)\n",
      "tol: the convergence tolerance for iterative algorithms (>= 0). (default: 1e-06)\n",
      "upperBoundsOnCoefficients: The upper bounds on coefficients if fitting under bound constrained optimization. The bound matrix must be compatible with the shape (1, number of features) for binomial regression, or (number of classes, number of features) for multinomial regression. (undefined)\n",
      "upperBoundsOnIntercepts: The upper bounds on intercepts if fitting under bound constrained optimization. The bound vector size must be equal with 1 for binomial regression, or the number of classes for multinomial regression. (undefined)\n",
      "weightCol: weight column name. If this is not set or empty, we treat all instance weights as 1.0. (undefined)\n"
     ]
    }
   ],
   "source": [
    "# Create a LogisticRegression instance. This instance is an Estimator.\n",
    "# maxIter and regParam are parameters\n",
    "lr = LogisticRegression(maxIter=10, regParam=0.01)\n",
    "\n",
    "# Print out the parameters, documentation, and any default values.\n",
    "print(f\"LogisticRegression parameters:\\n{lr.explainParams()}\")"
   ]
  },
  {
   "cell_type": "code",
   "execution_count": 183,
   "metadata": {},
   "outputs": [],
   "source": [
    "# I developed two simple helper scripts to help display\n",
    "# the content of Params and ParamMaps in a more readable way\n",
    "\n",
    "\n",
    "def print_explainParams(cls, font_size=1):\n",
    "    \"\"\"Helper class for pretty printing MLlib parameters, \n",
    "    and similar output for use in Jupyter / IPython.\n",
    "    \n",
    "    Usage example:\n",
    "    > print_explainParams(pyspark.ml.LogisticRegression)\n",
    "    \n",
    "    Parameters\n",
    "    ----------\n",
    "    cls\n",
    "        input class (should be able to run the explainParams method)\n",
    "        \n",
    "    font_size : int\n",
    "        control displayed font size (default = 1)\n",
    "    \"\"\"\n",
    "    title = f\"<h2>Parameters for: {str(cls)}</h2>\"\n",
    "    params = str(cls.explainParams()).split(\"\\n\")\n",
    "    html_body = \"\\n\".join([f'<h4>{p.replace(\":\", \"</h4> <p>\", 1)}</p>' for p in params])\n",
    "    display(HTML(f\"<font size='{font_size}'>{title} {html_body}</font>\"))\n",
    "\n",
    "\n",
    "def print_explainParamMap(cls, display_docs=True, font_size=1):\n",
    "    \"\"\"Helper class for pretty printing MLlib parameters, \n",
    "    and similar output for use in Jupyter / IPython.\n",
    "    \n",
    "    Usage example:\n",
    "    > lr = pyspark.ml.LogisticRegressionModel\n",
    "    > print_explainParamMap(lr)\n",
    "    > print_explainParamMap(lr, False)\n",
    "    \n",
    "    Parameters\n",
    "    ----------\n",
    "    cls\n",
    "        input class (should be able to run the explainParamMap method)\n",
    "        \n",
    "    font_size : int\n",
    "        control displayed font size (default = 1)\n",
    "        \n",
    "    display_docs : bool\n",
    "        toggles displaying the docs or not\n",
    "    \"\"\"\n",
    "    title = f'<font size=\"{font_size}\"><h3>Parameter Map </h3>{model1}</font>'\n",
    "    param_map: dict = model1.extractParamMap()\n",
    "    html = []\n",
    "    if display_docs:\n",
    "        html.append(title)\n",
    "    for p in param_map.items():\n",
    "        param = p[0]\n",
    "        value = p[1]\n",
    "        if display_docs:\n",
    "            html.append(\n",
    "                f\"\"\"\n",
    "            <font size=\"{font_size}\"><h4>{param.name}</h4></font>\n",
    "            <p>\n",
    "                <font size=\"{font_size - 1}\">doc: <i>{param.doc}</i><br/>\n",
    "                value: </font><font size=\"{font_size + 1}\">{value}</font>\n",
    "            </p>\n",
    "            \"\"\"\n",
    "            )\n",
    "        else:\n",
    "            html.append(\n",
    "                f'<li><font size=\"{font_size}\"><b>{param.name}:</b> {value}</font></li>'\n",
    "            )\n",
    "\n",
    "    display(HTML(f'{\"\".join(html)}'))\n"
   ]
  },
  {
   "cell_type": "code",
   "execution_count": 184,
   "metadata": {},
   "outputs": [
    {
     "data": {
      "text/html": [
       "<font size='1'><h2>Parameters for: LogisticRegression_49aa5a3b7809</h2> <h4>aggregationDepth</h4> <p> suggested depth for treeAggregate (>= 2). (default: 2)</p>\n",
       "<h4>elasticNetParam</h4> <p> the ElasticNet mixing parameter, in range [0, 1]. For alpha = 0, the penalty is an L2 penalty. For alpha = 1, it is an L1 penalty. (default: 0.0)</p>\n",
       "<h4>family</h4> <p> The name of family which is a description of the label distribution to be used in the model. Supported options: auto, binomial, multinomial (default: auto)</p>\n",
       "<h4>featuresCol</h4> <p> features column name. (default: features)</p>\n",
       "<h4>fitIntercept</h4> <p> whether to fit an intercept term. (default: True)</p>\n",
       "<h4>labelCol</h4> <p> label column name. (default: label)</p>\n",
       "<h4>lowerBoundsOnCoefficients</h4> <p> The lower bounds on coefficients if fitting under bound constrained optimization. The bound matrix must be compatible with the shape (1, number of features) for binomial regression, or (number of classes, number of features) for multinomial regression. (undefined)</p>\n",
       "<h4>lowerBoundsOnIntercepts</h4> <p> The lower bounds on intercepts if fitting under bound constrained optimization. The bounds vector size must beequal with 1 for binomial regression, or the number oflasses for multinomial regression. (undefined)</p>\n",
       "<h4>maxIter</h4> <p> max number of iterations (>= 0). (default: 100, current: 10)</p>\n",
       "<h4>predictionCol</h4> <p> prediction column name. (default: prediction)</p>\n",
       "<h4>probabilityCol</h4> <p> Column name for predicted class conditional probabilities. Note: Not all models output well-calibrated probability estimates! These probabilities should be treated as confidences, not precise probabilities. (default: probability)</p>\n",
       "<h4>rawPredictionCol</h4> <p> raw prediction (a.k.a. confidence) column name. (default: rawPrediction)</p>\n",
       "<h4>regParam</h4> <p> regularization parameter (>= 0). (default: 0.0, current: 0.01)</p>\n",
       "<h4>standardization</h4> <p> whether to standardize the training features before fitting the model. (default: True)</p>\n",
       "<h4>threshold</h4> <p> Threshold in binary classification prediction, in range [0, 1]. If threshold and thresholds are both set, they must match.e.g. if threshold is p, then thresholds must be equal to [1-p, p]. (default: 0.5)</p>\n",
       "<h4>thresholds</h4> <p> Thresholds in multi-class classification to adjust the probability of predicting each class. Array must have length equal to the number of classes, with values > 0, excepting that at most one value may be 0. The class with largest value p/t is predicted, where p is the original probability of that class and t is the class's threshold. (undefined)</p>\n",
       "<h4>tol</h4> <p> the convergence tolerance for iterative algorithms (>= 0). (default: 1e-06)</p>\n",
       "<h4>upperBoundsOnCoefficients</h4> <p> The upper bounds on coefficients if fitting under bound constrained optimization. The bound matrix must be compatible with the shape (1, number of features) for binomial regression, or (number of classes, number of features) for multinomial regression. (undefined)</p>\n",
       "<h4>upperBoundsOnIntercepts</h4> <p> The upper bounds on intercepts if fitting under bound constrained optimization. The bound vector size must be equal with 1 for binomial regression, or the number of classes for multinomial regression. (undefined)</p>\n",
       "<h4>weightCol</h4> <p> weight column name. If this is not set or empty, we treat all instance weights as 1.0. (undefined)</p></font>"
      ],
      "text/plain": [
       "<IPython.core.display.HTML object>"
      ]
     },
     "metadata": {},
     "output_type": "display_data"
    }
   ],
   "source": [
    "print_explainParams(lr)"
   ]
  },
  {
   "cell_type": "code",
   "execution_count": 185,
   "metadata": {},
   "outputs": [
    {
     "name": "stdout",
     "output_type": "stream",
     "text": [
      "Model 1 was fit using parameters: \n",
      "{Param(parent='LogisticRegression_49aa5a3b7809', name='aggregationDepth', doc='suggested depth for treeAggregate (>= 2)'): 2, Param(parent='LogisticRegression_49aa5a3b7809', name='elasticNetParam', doc='the ElasticNet mixing parameter, in range [0, 1]. For alpha = 0, the penalty is an L2 penalty. For alpha = 1, it is an L1 penalty'): 0.0, Param(parent='LogisticRegression_49aa5a3b7809', name='family', doc='The name of family which is a description of the label distribution to be used in the model. Supported options: auto, binomial, multinomial.'): 'auto', Param(parent='LogisticRegression_49aa5a3b7809', name='featuresCol', doc='features column name'): 'features', Param(parent='LogisticRegression_49aa5a3b7809', name='fitIntercept', doc='whether to fit an intercept term'): True, Param(parent='LogisticRegression_49aa5a3b7809', name='labelCol', doc='label column name'): 'label', Param(parent='LogisticRegression_49aa5a3b7809', name='maxIter', doc='maximum number of iterations (>= 0)'): 10, Param(parent='LogisticRegression_49aa5a3b7809', name='predictionCol', doc='prediction column name'): 'prediction', Param(parent='LogisticRegression_49aa5a3b7809', name='probabilityCol', doc='Column name for predicted class conditional probabilities. Note: Not all models output well-calibrated probability estimates! These probabilities should be treated as confidences, not precise probabilities'): 'probability', Param(parent='LogisticRegression_49aa5a3b7809', name='rawPredictionCol', doc='raw prediction (a.k.a. confidence) column name'): 'rawPrediction', Param(parent='LogisticRegression_49aa5a3b7809', name='regParam', doc='regularization parameter (>= 0)'): 0.01, Param(parent='LogisticRegression_49aa5a3b7809', name='standardization', doc='whether to standardize the training features before fitting the model'): True, Param(parent='LogisticRegression_49aa5a3b7809', name='threshold', doc='threshold in binary classification prediction, in range [0, 1]'): 0.5, Param(parent='LogisticRegression_49aa5a3b7809', name='tol', doc='the convergence tolerance for iterative algorithms (>= 0)'): 1e-06}\n"
     ]
    }
   ],
   "source": [
    "# Learn a LogisticRegression model. This uses the parameters stored in lr.\n",
    "model1 = lr.fit(training)\n",
    "\n",
    "# Since model1 is a Model (i.e., a transformer produced by an Estimator),\n",
    "# we can view the parameters it used during fit().\n",
    "# This prints the parameter (name: value) pairs, where names are unique IDs for this\n",
    "# LogisticRegression instance.\n",
    "print(\"Model 1 was fit using parameters: \")\n",
    "print(model1.extractParamMap())\n"
   ]
  },
  {
   "cell_type": "code",
   "execution_count": 186,
   "metadata": {},
   "outputs": [
    {
     "data": {
      "text/html": [
       "<font size=\"1\"><h3>Parameter Map </h3>LogisticRegressionModel: uid = LogisticRegression_49aa5a3b7809, numClasses = 2, numFeatures = 3</font>\n",
       "            <font size=\"1\"><h4>aggregationDepth</h4></font>\n",
       "            <p>\n",
       "                <font size=\"0\">doc: <i>suggested depth for treeAggregate (>= 2)</i><br/>\n",
       "                value: </font><font size=\"2\">2</font>\n",
       "            </p>\n",
       "            \n",
       "            <font size=\"1\"><h4>elasticNetParam</h4></font>\n",
       "            <p>\n",
       "                <font size=\"0\">doc: <i>the ElasticNet mixing parameter, in range [0, 1]. For alpha = 0, the penalty is an L2 penalty. For alpha = 1, it is an L1 penalty</i><br/>\n",
       "                value: </font><font size=\"2\">0.0</font>\n",
       "            </p>\n",
       "            \n",
       "            <font size=\"1\"><h4>family</h4></font>\n",
       "            <p>\n",
       "                <font size=\"0\">doc: <i>The name of family which is a description of the label distribution to be used in the model. Supported options: auto, binomial, multinomial.</i><br/>\n",
       "                value: </font><font size=\"2\">auto</font>\n",
       "            </p>\n",
       "            \n",
       "            <font size=\"1\"><h4>featuresCol</h4></font>\n",
       "            <p>\n",
       "                <font size=\"0\">doc: <i>features column name</i><br/>\n",
       "                value: </font><font size=\"2\">features</font>\n",
       "            </p>\n",
       "            \n",
       "            <font size=\"1\"><h4>fitIntercept</h4></font>\n",
       "            <p>\n",
       "                <font size=\"0\">doc: <i>whether to fit an intercept term</i><br/>\n",
       "                value: </font><font size=\"2\">True</font>\n",
       "            </p>\n",
       "            \n",
       "            <font size=\"1\"><h4>labelCol</h4></font>\n",
       "            <p>\n",
       "                <font size=\"0\">doc: <i>label column name</i><br/>\n",
       "                value: </font><font size=\"2\">label</font>\n",
       "            </p>\n",
       "            \n",
       "            <font size=\"1\"><h4>maxIter</h4></font>\n",
       "            <p>\n",
       "                <font size=\"0\">doc: <i>maximum number of iterations (>= 0)</i><br/>\n",
       "                value: </font><font size=\"2\">10</font>\n",
       "            </p>\n",
       "            \n",
       "            <font size=\"1\"><h4>predictionCol</h4></font>\n",
       "            <p>\n",
       "                <font size=\"0\">doc: <i>prediction column name</i><br/>\n",
       "                value: </font><font size=\"2\">prediction</font>\n",
       "            </p>\n",
       "            \n",
       "            <font size=\"1\"><h4>probabilityCol</h4></font>\n",
       "            <p>\n",
       "                <font size=\"0\">doc: <i>Column name for predicted class conditional probabilities. Note: Not all models output well-calibrated probability estimates! These probabilities should be treated as confidences, not precise probabilities</i><br/>\n",
       "                value: </font><font size=\"2\">probability</font>\n",
       "            </p>\n",
       "            \n",
       "            <font size=\"1\"><h4>rawPredictionCol</h4></font>\n",
       "            <p>\n",
       "                <font size=\"0\">doc: <i>raw prediction (a.k.a. confidence) column name</i><br/>\n",
       "                value: </font><font size=\"2\">rawPrediction</font>\n",
       "            </p>\n",
       "            \n",
       "            <font size=\"1\"><h4>regParam</h4></font>\n",
       "            <p>\n",
       "                <font size=\"0\">doc: <i>regularization parameter (>= 0)</i><br/>\n",
       "                value: </font><font size=\"2\">0.01</font>\n",
       "            </p>\n",
       "            \n",
       "            <font size=\"1\"><h4>standardization</h4></font>\n",
       "            <p>\n",
       "                <font size=\"0\">doc: <i>whether to standardize the training features before fitting the model</i><br/>\n",
       "                value: </font><font size=\"2\">True</font>\n",
       "            </p>\n",
       "            \n",
       "            <font size=\"1\"><h4>threshold</h4></font>\n",
       "            <p>\n",
       "                <font size=\"0\">doc: <i>threshold in binary classification prediction, in range [0, 1]</i><br/>\n",
       "                value: </font><font size=\"2\">0.5</font>\n",
       "            </p>\n",
       "            \n",
       "            <font size=\"1\"><h4>tol</h4></font>\n",
       "            <p>\n",
       "                <font size=\"0\">doc: <i>the convergence tolerance for iterative algorithms (>= 0)</i><br/>\n",
       "                value: </font><font size=\"2\">1e-06</font>\n",
       "            </p>\n",
       "            "
      ],
      "text/plain": [
       "<IPython.core.display.HTML object>"
      ]
     },
     "metadata": {},
     "output_type": "display_data"
    }
   ],
   "source": [
    "print_explainParamMap(model1)"
   ]
  },
  {
   "cell_type": "code",
   "execution_count": 188,
   "metadata": {},
   "outputs": [
    {
     "name": "stdout",
     "output_type": "stream",
     "text": [
      "Model 2 fit used these parameters: \n"
     ]
    },
    {
     "data": {
      "text/html": [
       "<li><font size=\"1\"><b>aggregationDepth:</b> 2</font></li><li><font size=\"1\"><b>elasticNetParam:</b> 0.0</font></li><li><font size=\"1\"><b>family:</b> auto</font></li><li><font size=\"1\"><b>featuresCol:</b> features</font></li><li><font size=\"1\"><b>fitIntercept:</b> True</font></li><li><font size=\"1\"><b>labelCol:</b> label</font></li><li><font size=\"1\"><b>maxIter:</b> 10</font></li><li><font size=\"1\"><b>predictionCol:</b> prediction</font></li><li><font size=\"1\"><b>probabilityCol:</b> probability</font></li><li><font size=\"1\"><b>rawPredictionCol:</b> rawPrediction</font></li><li><font size=\"1\"><b>regParam:</b> 0.01</font></li><li><font size=\"1\"><b>standardization:</b> True</font></li><li><font size=\"1\"><b>threshold:</b> 0.5</font></li><li><font size=\"1\"><b>tol:</b> 1e-06</font></li>"
      ],
      "text/plain": [
       "<IPython.core.display.HTML object>"
      ]
     },
     "metadata": {},
     "output_type": "display_data"
    }
   ],
   "source": [
    "# We may alternatively specify parameters using a Python dictionary as a paramMap\n",
    "paramMap = {lr.maxIter: 20}\n",
    "paramMap[lr.maxIter] = 30  # Specify 1 Param, overwriting the original maxIter.\n",
    "paramMap.update({lr.regParam: 0.1, lr.threshold: 0.55})  # Specify multiple Params.\n",
    "\n",
    "# You can combine paramMaps, which are python dictionaries.\n",
    "paramMap2 = {lr.probabilityCol: \"myProbability\"}  # Change output column name\n",
    "paramMapCombined = paramMap.copy()\n",
    "paramMapCombined.update(paramMap2)\n",
    "\n",
    "# Now learn a new model using the paramMapCombined parameters.\n",
    "# paramMapCombined overrides all parameters set earlier via lr.set* methods.\n",
    "model2 = lr.fit(training, paramMapCombined)\n",
    "\n",
    "print(\"Model 2 fit used these parameters: \")\n",
    "print_explainParamMap(model2, False)"
   ]
  },
  {
   "cell_type": "code",
   "execution_count": 189,
   "metadata": {},
   "outputs": [
    {
     "name": "stdout",
     "output_type": "stream",
     "text": [
      "features=[-1.0,1.5,1.3], label=1.0 -> prob=[0.057073041710340174,0.9429269582896599], prediction=1.0\n",
      "features=[3.0,2.0,-0.1], label=0.0 -> prob=[0.9238522311704104,0.07614776882958973], prediction=0.0\n",
      "features=[0.0,2.2,-1.5], label=1.0 -> prob=[0.10972776114779419,0.8902722388522057], prediction=1.0\n"
     ]
    }
   ],
   "source": [
    "# Make predictions on test data using the Transformer.transform() method.\n",
    "# LogisticRegression.transform will only use the 'features' column.\n",
    "# Note that model2.transform() outputs a \"myProbability\" column instead of the usual\n",
    "# 'probability' column since we renamed the lr.probabilityCol parameter previously.\n",
    "prediction = model2.transform(test)\n",
    "result = prediction.select(\"features\", \"label\", \"myProbability\", \"prediction\").collect()\n",
    "\n",
    "for row in result:\n",
    "    print(\n",
    "        \"features=%s, label=%s -> prob=%s, prediction=%s\"\n",
    "        % (row.features, row.label, row.myProbability, row.prediction)\n",
    "    )"
   ]
  },
  {
   "cell_type": "code",
   "execution_count": null,
   "metadata": {},
   "outputs": [],
   "source": []
  }
 ],
 "metadata": {
  "kernelspec": {
   "display_name": "Python 3",
   "language": "python",
   "name": "python3"
  },
  "language_info": {
   "codemirror_mode": {
    "name": "ipython",
    "version": 3
   },
   "file_extension": ".py",
   "mimetype": "text/x-python",
   "name": "python",
   "nbconvert_exporter": "python",
   "pygments_lexer": "ipython3",
   "version": "3.7.3"
  }
 },
 "nbformat": 4,
 "nbformat_minor": 2
}
