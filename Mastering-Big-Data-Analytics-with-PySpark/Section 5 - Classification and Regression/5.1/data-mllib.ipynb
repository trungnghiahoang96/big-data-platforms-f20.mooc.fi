{
 "cells": [
  {
   "cell_type": "markdown",
   "metadata": {},
   "source": [
    "# All files present in the data/mllib folder\n",
    "\n",
    "Spark ships with a good number of test data sets that can be used for all kinds of training and testing.\n",
    "\n",
    "This data can be explored by browsing to the installation path of Spark and checking out the folder marked `data`. In the case of this docker container that we are using throughout the course, this is the following path:  \n",
    "```shell\n",
    "$ /usr/local/spark-2.4.3-bin-hadoop2.7/data/mllib/\n",
    "```\n",
    "\n",
    "The datasets are tiny, but good enough for us to use for learning purposes."
   ]
  },
  {
   "cell_type": "code",
   "execution_count": 134,
   "metadata": {},
   "outputs": [
    {
     "data": {
      "text/html": [
       "<font face='courier' size='2'><strong>All files present in the data/mllib folder:</strong><br /><li><font color='rgba(0, 0, 0, 87)' size='1'>als/</font>sample_movielens_ratings.txt</li><li><font color='rgba(0, 0, 0, 87)' size='1'>als/</font>test.data</li><li><font color='rgba(0, 0, 0, 87)' size='1'>images/</font>license.txt</li><li><font color='rgba(0, 0, 0, 87)' size='1'>images/origin/kittens/</font>29.5.a_b_EGDP022204.jpg</li><li><font color='rgba(0, 0, 0, 87)' size='1'>images/origin/kittens/</font>54893.jpg</li><li><font color='rgba(0, 0, 0, 87)' size='1'>images/origin/kittens/</font>DP153539.jpg</li><li><font color='rgba(0, 0, 0, 87)' size='1'>images/origin/kittens/</font>DP802813.jpg</li><li><font color='rgba(0, 0, 0, 87)' size='1'>images/origin/kittens/</font>not-image.txt</li><li><font color='rgba(0, 0, 0, 87)' size='1'>images/origin/</font>license.txt</li><li><font color='rgba(0, 0, 0, 87)' size='1'>images/origin/multi-channel/</font>BGRA.png</li><li><font color='rgba(0, 0, 0, 87)' size='1'>images/origin/multi-channel/</font>BGRA_alpha_60.png</li><li><font color='rgba(0, 0, 0, 87)' size='1'>images/origin/multi-channel/</font>chr30.4.184.jpg</li><li><font color='rgba(0, 0, 0, 87)' size='1'>images/origin/multi-channel/</font>grayscale.jpg</li><li><font color='rgba(0, 0, 0, 87)' size='1'>images/partitioned/cls=kittens/date=2018-01/</font>29.5.a_b_EGDP022204.jpg</li><li><font color='rgba(0, 0, 0, 87)' size='1'>images/partitioned/cls=kittens/date=2018-01/</font>not-image.txt</li><li><font color='rgba(0, 0, 0, 87)' size='1'>images/partitioned/cls=kittens/date=2018-02/</font>54893.jpg</li><li><font color='rgba(0, 0, 0, 87)' size='1'>images/partitioned/cls=kittens/date=2018-02/</font>DP153539.jpg</li><li><font color='rgba(0, 0, 0, 87)' size='1'>images/partitioned/cls=kittens/date=2018-02/</font>DP802813.jpg</li><li><font color='rgba(0, 0, 0, 87)' size='1'>images/partitioned/cls=multichannel/date=2018-01/</font>BGRA.png</li><li><font color='rgba(0, 0, 0, 87)' size='1'>images/partitioned/cls=multichannel/date=2018-01/</font>BGRA_alpha_60.png</li><li><font color='rgba(0, 0, 0, 87)' size='1'>images/partitioned/cls=multichannel/date=2018-02/</font>chr30.4.184.jpg</li><li><font color='rgba(0, 0, 0, 87)' size='1'>images/partitioned/cls=multichannel/date=2018-02/</font>grayscale.jpg</li><li><font color='rgba(0, 0, 0, 87)' size='1'>ridge-data/</font>lpsa.data</li><li>gmm_data.txt</li><li>iris_libsvm.txt</li><li>kmeans_data.txt</li><li>pagerank_data.txt</li><li>pic_data.txt</li><li>sample_binary_classification_data.txt</li><li>sample_fpgrowth.txt</li><li>sample_isotonic_regression_libsvm_data.txt</li><li>sample_kmeans_data.txt</li><li>sample_lda_data.txt</li><li>sample_lda_libsvm_data.txt</li><li>sample_libsvm_data.txt</li><li>sample_linear_regression_data.txt</li><li>sample_movielens_data.txt</li><li>sample_multiclass_classification_data.txt</li><li>sample_svm_data.txt</li><li>streaming_kmeans_data_test.txt</li></font>"
      ],
      "text/plain": [
       "<IPython.core.display.HTML object>"
      ]
     },
     "execution_count": 134,
     "metadata": {},
     "output_type": "execute_result"
    }
   ],
   "source": [
    "from pathlib import Path\n",
    "from IPython.display import HTML\n",
    "\n",
    "PATH = \"/usr/local/spark-2.4.3-bin-hadoop2.7/data/mllib\"\n",
    "\n",
    "files = [str(x).replace(PATH + \"/\", \"\") for x in Path(PATH).glob(\"**/*\") if x.is_file()]\n",
    "files.sort()\n",
    "folders = [\n",
    "    f\"<font color='rgba(0, 0, 0, 87)' size='1'>{'/'.join(f.split('/')[:-1])}/</font>\"  # folder part\n",
    "    f\"{f.split('/')[-1]}\"  # file part\n",
    "    for f in files\n",
    "    if \"/\" in f\n",
    "]\n",
    "files = folders + [f for f in files if \"/\" not in f]\n",
    "\n",
    "HTML(\n",
    "    f\"<font face='courier' size='2'>\"\n",
    "    f\"<strong>All files present in the data/mllib folder:</strong><br />\"\n",
    "    f\"{''.join([f'<li>{str(f)}</li>' for f in files])}\"\n",
    "    f\"</font>\"\n",
    ")\n",
    "\n"
   ]
  },
  {
   "cell_type": "markdown",
   "metadata": {},
   "source": [
    "\n",
    "## The same as above, but through YAML\n",
    "\n",
    "Here is a (YAML) overview of all the files and folders in the `mllib` folder along with their respective sizes:\n",
    "\n",
    "```yaml\n",
    "- mllib:\n",
    "  \n",
    "  - als:\n",
    "    - sample_movielens_ratings.txt              32K\n",
    "    - test.data                                 128\n",
    "  \n",
    "  - images:\n",
    "    \n",
    "    - partitioned:\n",
    "      \n",
    "      - cls=kittens:\n",
    "      \n",
    "        - date=2018-01:\n",
    "          - 29.5.a_b_EGDP022204.jpg             27K\n",
    "          - not-image.txt                        13\n",
    "      \n",
    "        - date=2018-02:\n",
    "          - 54893.jpg                           36K\n",
    "          - DP153539.jpg                        26K\n",
    "          - DP802813.jpg                        30K\n",
    "      \n",
    "      - cls=multichannel:\n",
    "      \n",
    "        - date=2018-01:\n",
    "          - BGRA.png                            683\n",
    "          - BGRA_alpha_60.png                   747\n",
    "      \n",
    "        - date=2018-02:\n",
    "          - chr30.4.184.jpg                     59K\n",
    "          - grayscale.jpg                       36K\n",
    "\n",
    "    - origin:\n",
    "      \n",
    "      - kittens:\n",
    "        - 29.5.a_b_EGDP022204.jpg               27K\n",
    "        - 54893.jpg                             36K\n",
    "        - DP153539.jpg                          26K\n",
    "        - DP802813.jpg                          30K\n",
    "        - not-image.txt                          13\n",
    "      \n",
    "      - multichannel:\n",
    "        - BGRA.png                              683\n",
    "        - BGRA_alpha_60.png                     747\n",
    "        - chr30.4.184.jpg                       59K\n",
    "        - grayscale.jpg                         36K\n",
    "      \n",
    "      - license.txt                             830\n",
    "    \n",
    "    - license.txt                               830\n",
    "  \n",
    "  - ridge-data:\n",
    "    - lpsa.data                                 11K\n",
    "\n",
    "- gmm_data.txt                                  63K\n",
    "- iris_libsvm.txt                              4.2K\n",
    "- kmeans_data.txt                                72\n",
    "- pagerank_data.txt                              24\n",
    "- pic_data.txt                                  164\n",
    "- sample_binary_classification_data.txt        103K\n",
    "- sample_fpgrowth.txt                            68\n",
    "- sample_isotonic_regression_libsvm_data.txt   1.8K\n",
    "- sample_kmeans_data.txt                        120\n",
    "- sample_lda_data.txt                           264\n",
    "- sample_lda_libsvm_data.txt                    578\n",
    "- sample_libsvm_data.txt                       103K\n",
    "- sample_linear_regression_data.txt            117K\n",
    "- sample_movielens_data.txt                     15K\n",
    "- sample_multiclass_classification_data.txt    6.8K\n",
    "- sample_svm_data.txt                           39K\n",
    "- streaming_kmeans_data_test.txt                 46\n",
    "```"
   ]
  },
  {
   "cell_type": "code",
   "execution_count": null,
   "metadata": {},
   "outputs": [],
   "source": []
  }
 ],
 "metadata": {
  "kernelspec": {
   "display_name": "Python 3",
   "language": "python",
   "name": "python3"
  },
  "language_info": {
   "codemirror_mode": {
    "name": "ipython",
    "version": 3
   },
   "file_extension": ".py",
   "mimetype": "text/x-python",
   "name": "python",
   "nbconvert_exporter": "python",
   "pygments_lexer": "ipython3",
   "version": "3.7.3"
  }
 },
 "nbformat": 4,
 "nbformat_minor": 2
}
