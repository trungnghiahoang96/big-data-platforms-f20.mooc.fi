{
 "cells": [
  {
   "cell_type": "code",
   "execution_count": 3,
   "metadata": {},
   "outputs": [],
   "source": [
    "from pyspark.sql import SparkSession\n",
    "spark = SparkSession.builder.getOrCreate()"
   ]
  },
  {
   "cell_type": "markdown",
   "metadata": {},
   "source": [
    "Example of loading image data using the `kittens` dataset that ships with Spark\n",
    "\n",
    "Refer to ML Main Guide for more info: https://spark.apache.org/docs/latest/ml-datasource#image-data-source\n",
    "\n",
    "The schema of the image column is:\n",
    "- origin: StringType (represents the file path of the image)\n",
    "- height: IntegerType (height of the image)\n",
    "- width: IntegerType (width of the image)\n",
    "- nChannels: IntegerType (number of image channels)\n",
    "- mode: IntegerType (OpenCV-compatible type)\n",
    "- data: BinaryType (Image bytes in OpenCV-compatible order: row-wise BGR in most cases)"
   ]
  },
  {
   "cell_type": "code",
   "execution_count": 22,
   "metadata": {},
   "outputs": [
    {
     "data": {
      "text/html": [
       "<div>\n",
       "<style scoped>\n",
       "    .dataframe tbody tr th:only-of-type {\n",
       "        vertical-align: middle;\n",
       "    }\n",
       "\n",
       "    .dataframe tbody tr th {\n",
       "        vertical-align: top;\n",
       "    }\n",
       "\n",
       "    .dataframe thead th {\n",
       "        text-align: right;\n",
       "    }\n",
       "</style>\n",
       "<table border=\"1\" class=\"dataframe\">\n",
       "  <thead>\n",
       "    <tr style=\"text-align: right;\">\n",
       "      <th></th>\n",
       "      <th>origin</th>\n",
       "      <th>height</th>\n",
       "      <th>width</th>\n",
       "      <th>nChannels</th>\n",
       "      <th>mode</th>\n",
       "      <th>data</th>\n",
       "    </tr>\n",
       "  </thead>\n",
       "  <tbody>\n",
       "    <tr>\n",
       "      <th>0</th>\n",
       "      <td>file:///usr/local/spark-2.4.3-bin-hadoop2.7/da...</td>\n",
       "      <td>311</td>\n",
       "      <td>300</td>\n",
       "      <td>3</td>\n",
       "      <td>16</td>\n",
       "      <td>[193, 193, 193, 194, 194, 194, 194, 194, 194, ...</td>\n",
       "    </tr>\n",
       "    <tr>\n",
       "      <th>1</th>\n",
       "      <td>file:///usr/local/spark-2.4.3-bin-hadoop2.7/da...</td>\n",
       "      <td>313</td>\n",
       "      <td>199</td>\n",
       "      <td>3</td>\n",
       "      <td>16</td>\n",
       "      <td>[208, 229, 237, 202, 223, 231, 210, 231, 239, ...</td>\n",
       "    </tr>\n",
       "    <tr>\n",
       "      <th>2</th>\n",
       "      <td>file:///usr/local/spark-2.4.3-bin-hadoop2.7/da...</td>\n",
       "      <td>200</td>\n",
       "      <td>300</td>\n",
       "      <td>3</td>\n",
       "      <td>16</td>\n",
       "      <td>[88, 93, 96, 88, 93, 96, 88, 93, 96, 89, 94, 9...</td>\n",
       "    </tr>\n",
       "    <tr>\n",
       "      <th>3</th>\n",
       "      <td>file:///usr/local/spark-2.4.3-bin-hadoop2.7/da...</td>\n",
       "      <td>296</td>\n",
       "      <td>300</td>\n",
       "      <td>3</td>\n",
       "      <td>16</td>\n",
       "      <td>[203, 230, 244, 202, 229, 243, 201, 228, 242, ...</td>\n",
       "    </tr>\n",
       "  </tbody>\n",
       "</table>\n",
       "</div>"
      ],
      "text/plain": [
       "                                              origin  height  width  \\\n",
       "0  file:///usr/local/spark-2.4.3-bin-hadoop2.7/da...     311    300   \n",
       "1  file:///usr/local/spark-2.4.3-bin-hadoop2.7/da...     313    199   \n",
       "2  file:///usr/local/spark-2.4.3-bin-hadoop2.7/da...     200    300   \n",
       "3  file:///usr/local/spark-2.4.3-bin-hadoop2.7/da...     296    300   \n",
       "\n",
       "   nChannels  mode                                               data  \n",
       "0          3    16  [193, 193, 193, 194, 194, 194, 194, 194, 194, ...  \n",
       "1          3    16  [208, 229, 237, 202, 223, 231, 210, 231, 239, ...  \n",
       "2          3    16  [88, 93, 96, 88, 93, 96, 88, 93, 96, 89, 94, 9...  \n",
       "3          3    16  [203, 230, 244, 202, 229, 243, 201, 228, 242, ...  "
      ]
     },
     "execution_count": 22,
     "metadata": {},
     "output_type": "execute_result"
    }
   ],
   "source": [
    "PATH = \"/usr/local/spark-2.4.3-bin-hadoop2.7/data/mllib/images/origin/kittens\"\n",
    "df = (\n",
    "    spark.read.format(\"image\")\n",
    "    .option(\"dropInvalid\", True)\n",
    "    .load(PATH)\n",
    "    .select(\"image.origin\", \"image.height\", \"image.width\", \"image.nChannels\", \"image.mode\", \"image.data\")\n",
    ")\n",
    "df.toPandas()"
   ]
  },
  {
   "cell_type": "code",
   "execution_count": null,
   "metadata": {},
   "outputs": [],
   "source": []
  }
 ],
 "metadata": {
  "kernelspec": {
   "display_name": "Python 3",
   "language": "python",
   "name": "python3"
  },
  "language_info": {
   "codemirror_mode": {
    "name": "ipython",
    "version": 3
   },
   "file_extension": ".py",
   "mimetype": "text/x-python",
   "name": "python",
   "nbconvert_exporter": "python",
   "pygments_lexer": "ipython3",
   "version": "3.7.3"
  }
 },
 "nbformat": 4,
 "nbformat_minor": 2
}
