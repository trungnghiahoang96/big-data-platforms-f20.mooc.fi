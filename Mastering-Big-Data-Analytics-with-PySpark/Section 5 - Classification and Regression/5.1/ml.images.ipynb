{
 "cells": [
  {
   "cell_type": "code",
   "execution_count": 1,
   "metadata": {},
   "outputs": [
    {
     "name": "stderr",
     "output_type": "stream",
     "text": [
      "Warning: Ignoring non-Spark config property: [SPARK_LOCAL_CONFIGS]\n",
      "WARNING: An illegal reflective access operation has occurred\n",
      "WARNING: Illegal reflective access by org.apache.spark.unsafe.Platform (file:/home/nghiaht7/.sdkman/candidates/spark/3.1.2/jars/spark-unsafe_2.12-3.1.2.jar) to constructor java.nio.DirectByteBuffer(long,int)\n",
      "WARNING: Please consider reporting this to the maintainers of org.apache.spark.unsafe.Platform\n",
      "WARNING: Use --illegal-access=warn to enable warnings of further illegal reflective access operations\n",
      "WARNING: All illegal access operations will be denied in a future release\n",
      "Using Spark's default log4j profile: org/apache/spark/log4j-defaults.properties\n",
      "Setting default log level to \"WARN\".\n",
      "To adjust logging level use sc.setLogLevel(newLevel). For SparkR, use setLogLevel(newLevel).\n",
      "21/10/11 19:42:55 WARN Utils: Service 'SparkUI' could not bind on port 4040. Attempting port 4041.\n",
      "21/10/11 19:42:55 WARN Utils: Service 'SparkUI' could not bind on port 4041. Attempting port 4042.\n",
      "21/10/11 19:42:55 WARN Utils: Service 'SparkUI' could not bind on port 4042. Attempting port 4043.\n",
      "21/10/11 19:42:55 WARN Utils: Service 'SparkUI' could not bind on port 4043. Attempting port 4044.\n"
     ]
    }
   ],
   "source": [
    "from pyspark.sql import SparkSession\n",
    "spark = SparkSession.builder.getOrCreate()"
   ]
  },
  {
   "cell_type": "markdown",
   "metadata": {},
   "source": [
    "Example of loading image data using the `kittens` dataset that ships with Spark\n",
    "\n",
    "Refer to ML Main Guide for more info: https://spark.apache.org/docs/latest/ml-datasource#image-data-source\n",
    "\n",
    "The schema of the image column is:\n",
    "- origin: StringType (represents the file path of the image)\n",
    "- height: IntegerType (height of the image)\n",
    "- width: IntegerType (width of the image)\n",
    "- nChannels: IntegerType (number of image channels)\n",
    "- mode: IntegerType (OpenCV-compatible type)\n",
    "- data: BinaryType (Image bytes in OpenCV-compatible order: row-wise BGR in most cases)"
   ]
  },
  {
   "cell_type": "code",
   "execution_count": 2,
   "metadata": {},
   "outputs": [
    {
     "data": {
      "text/plain": [
       "['not-image.txt',\n",
       " '54893.jpg',\n",
       " 'DP802813.jpg',\n",
       " '29.5.a_b_EGDP022204.jpg',\n",
       " 'DP153539.jpg']"
      ]
     },
     "execution_count": 2,
     "metadata": {},
     "output_type": "execute_result"
    }
   ],
   "source": [
    "import os\n",
    "key = 'SPARK_HOME'\n",
    "\n",
    "spark_home = os.environ.get(key)\n",
    "PATH = spark_home + \"/data/mllib/images/origin/kittens\"\n",
    "os.listdir(PATH)"
   ]
  },
  {
   "cell_type": "code",
   "execution_count": 3,
   "metadata": {},
   "outputs": [
    {
     "name": "stderr",
     "output_type": "stream",
     "text": [
      "                                                                                \r"
     ]
    },
    {
     "data": {
      "text/html": [
       "<div>\n",
       "<style scoped>\n",
       "    .dataframe tbody tr th:only-of-type {\n",
       "        vertical-align: middle;\n",
       "    }\n",
       "\n",
       "    .dataframe tbody tr th {\n",
       "        vertical-align: top;\n",
       "    }\n",
       "\n",
       "    .dataframe thead th {\n",
       "        text-align: right;\n",
       "    }\n",
       "</style>\n",
       "<table border=\"1\" class=\"dataframe\">\n",
       "  <thead>\n",
       "    <tr style=\"text-align: right;\">\n",
       "      <th></th>\n",
       "      <th>origin</th>\n",
       "      <th>height</th>\n",
       "      <th>width</th>\n",
       "      <th>nChannels</th>\n",
       "      <th>mode</th>\n",
       "      <th>data</th>\n",
       "    </tr>\n",
       "  </thead>\n",
       "  <tbody>\n",
       "    <tr>\n",
       "      <th>0</th>\n",
       "      <td>file:///home/nghiaht7/.sdkman/candidates/spark...</td>\n",
       "      <td>311</td>\n",
       "      <td>300</td>\n",
       "      <td>3</td>\n",
       "      <td>16</td>\n",
       "      <td>[193, 193, 193, 194, 194, 194, 194, 194, 194, ...</td>\n",
       "    </tr>\n",
       "    <tr>\n",
       "      <th>1</th>\n",
       "      <td>file:///home/nghiaht7/.sdkman/candidates/spark...</td>\n",
       "      <td>313</td>\n",
       "      <td>199</td>\n",
       "      <td>3</td>\n",
       "      <td>16</td>\n",
       "      <td>[208, 229, 237, 202, 223, 231, 210, 231, 239, ...</td>\n",
       "    </tr>\n",
       "    <tr>\n",
       "      <th>2</th>\n",
       "      <td>file:///home/nghiaht7/.sdkman/candidates/spark...</td>\n",
       "      <td>200</td>\n",
       "      <td>300</td>\n",
       "      <td>3</td>\n",
       "      <td>16</td>\n",
       "      <td>[88, 93, 96, 88, 93, 96, 88, 93, 96, 89, 94, 9...</td>\n",
       "    </tr>\n",
       "    <tr>\n",
       "      <th>3</th>\n",
       "      <td>file:///home/nghiaht7/.sdkman/candidates/spark...</td>\n",
       "      <td>296</td>\n",
       "      <td>300</td>\n",
       "      <td>3</td>\n",
       "      <td>16</td>\n",
       "      <td>[203, 230, 244, 202, 229, 243, 201, 228, 242, ...</td>\n",
       "    </tr>\n",
       "  </tbody>\n",
       "</table>\n",
       "</div>"
      ],
      "text/plain": [
       "                                              origin  height  width  \\\n",
       "0  file:///home/nghiaht7/.sdkman/candidates/spark...     311    300   \n",
       "1  file:///home/nghiaht7/.sdkman/candidates/spark...     313    199   \n",
       "2  file:///home/nghiaht7/.sdkman/candidates/spark...     200    300   \n",
       "3  file:///home/nghiaht7/.sdkman/candidates/spark...     296    300   \n",
       "\n",
       "   nChannels  mode                                               data  \n",
       "0          3    16  [193, 193, 193, 194, 194, 194, 194, 194, 194, ...  \n",
       "1          3    16  [208, 229, 237, 202, 223, 231, 210, 231, 239, ...  \n",
       "2          3    16  [88, 93, 96, 88, 93, 96, 88, 93, 96, 89, 94, 9...  \n",
       "3          3    16  [203, 230, 244, 202, 229, 243, 201, 228, 242, ...  "
      ]
     },
     "execution_count": 3,
     "metadata": {},
     "output_type": "execute_result"
    }
   ],
   "source": [
    "# PATH = \"/usr/local/spark-2.4.3-bin-hadoop2.7/data/mllib/images/origin/kittens\"\n",
    "df = (\n",
    "    spark.read.format(\"image\")\n",
    "    .option(\"dropInvalid\", True)\n",
    "    .load(PATH)\n",
    "    .select(\"image.origin\", \"image.height\", \"image.width\", \"image.nChannels\", \"image.mode\", \"image.data\")\n",
    ")\n",
    "df.toPandas()"
   ]
  },
  {
   "cell_type": "code",
   "execution_count": 4,
   "metadata": {},
   "outputs": [],
   "source": [
    "spark.stop()"
   ]
  },
  {
   "cell_type": "code",
   "execution_count": null,
   "metadata": {},
   "outputs": [],
   "source": []
  }
 ],
 "metadata": {
  "kernelspec": {
   "display_name": "Python 3 (ipykernel)",
   "language": "python",
   "name": "python3"
  },
  "language_info": {
   "codemirror_mode": {
    "name": "ipython",
    "version": 3
   },
   "file_extension": ".py",
   "mimetype": "text/x-python",
   "name": "python",
   "nbconvert_exporter": "python",
   "pygments_lexer": "ipython3",
   "version": "3.8.10"
  }
 },
 "nbformat": 4,
 "nbformat_minor": 4
}
