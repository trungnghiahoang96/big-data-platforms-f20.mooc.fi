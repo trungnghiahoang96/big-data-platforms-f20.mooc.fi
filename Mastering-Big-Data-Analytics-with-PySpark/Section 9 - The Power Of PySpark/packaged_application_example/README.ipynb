{
 "cells": [
  {
   "cell_type": "markdown",
   "metadata": {},
   "source": [
    "# Example of pyspark compatible package structure\n",
    "\n",
    "This is just a tiny demo to show how a pyspark compatible package can look like.\n",
    "\n",
    "__Creating an `.egg file`__  \n",
    "Requires: `setuptools` (`pip install setuptools`)\n",
    "\n",
    "```bash\n",
    "python setup.py bdist_egg\n",
    "```\n",
    "\n",
    "\n",
    "__Creating a `.whl` file__  \n",
    "Requires: `wheel` (`pip install wheel`)\n",
    "\n",
    "```bash\n",
    "python setup.py bdist_wheel\n",
    "```\n",
    "\n",
    "Resulting package should look something like this:\n",
    "```yaml\n",
    "- package_test-0.0.1-py3.7.egg\n",
    "  - EGG-INFO\n",
    "    - dependency_links.txt\n",
    "    - PKG-INFO\n",
    "    - SOURCES.txt\n",
    "    - top_level.txt\n",
    "    - zip-safe\n",
    "  - src\n",
    "    - __init__.py\n",
    "    - jobs\n",
    "      - __init__.py\n",
    "      - hello_world_job.py\n",
    "    - main.py\n",
    "```\n",
    "\n",
    "This package can be submitted to spark using\n",
    "```bash\n",
    "spark-submit --py-files package_test-0.0.1-py3.7.egg main.py\n",
    "```\n",
    "> __note__: that for the above example to work, `main.py` and `package...egg` files need \n",
    "to be in the same directory. Else use absolute/relative paths to point to the files.\n"
   ]
  },
  {
   "cell_type": "code",
   "execution_count": null,
   "metadata": {},
   "outputs": [],
   "source": []
  }
 ],
 "metadata": {
  "kernelspec": {
   "display_name": "Python 3",
   "language": "python",
   "name": "python3"
  },
  "language_info": {
   "codemirror_mode": {
    "name": "ipython",
    "version": 3
   },
   "file_extension": ".py",
   "mimetype": "text/x-python",
   "name": "python",
   "nbconvert_exporter": "python",
   "pygments_lexer": "ipython3",
   "version": "3.7.3"
  }
 },
 "nbformat": 4,
 "nbformat_minor": 2
}
