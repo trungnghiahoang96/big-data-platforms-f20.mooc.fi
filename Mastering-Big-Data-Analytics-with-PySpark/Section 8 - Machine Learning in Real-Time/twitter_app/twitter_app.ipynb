{
 "cells": [
  {
   "cell_type": "code",
   "execution_count": 1,
   "metadata": {},
   "outputs": [],
   "source": [
    "# Before running this notebook, make sure to go to the secrets.py file and\n",
    "# Replace the values with your own Twitter API Keys, Secrets, and Tokens\n",
    "# Notebook execution will fail if not set\n",
    "from secrets import twitter_secrets as ts\n",
    "\n",
    "## SETTINGS\n",
    "\n",
    "# Path to write the data out to\n",
    "OUT_PATH = \"/home/jovyan/data-sets/twitter/\"\n",
    "\n",
    "# Which hashtag/phrase to grab data for\n",
    "QUERY = \"word\"\n",
    "\n",
    "# Controls after how many tweets the script shuts down\n",
    "STOP_AFTER = 50\n"
   ]
  },
  {
   "cell_type": "code",
   "execution_count": 2,
   "metadata": {},
   "outputs": [],
   "source": [
    "import json\n",
    "import tempfile\n",
    "import requests\n",
    "import pathlib\n",
    "from datetime import datetime as dt\n",
    "from uuid import uuid4\n",
    "from requests_oauthlib import OAuth1Session\n",
    "\n",
    "# Create output directory if it does not exist\n",
    "pathlib.Path(OUT_PATH).mkdir(parents=True, exist_ok=True)\n",
    "\n",
    "## SCRIPT STARTS HERE\n",
    "query_data = {\n",
    "    \"track\": f\"#{QUERY}\".replace(\"#\", \"\").lower(),\n",
    "    # Which language to use. We want this set to en for English\n",
    "    \"language\": \"en\",\n",
    "}\n",
    "\n",
    "# Establish connection\n",
    "twitter = OAuth1Session(\n",
    "    client_key=ts.CONSUMER_KEY,\n",
    "    client_secret=ts.CONSUMER_SECRET,\n",
    "    resource_owner_key=ts.ACCESS_TOKEN,\n",
    "    resource_owner_secret=ts.ACCESS_SECRET,\n",
    ")\n",
    "\n",
    "url = \"https://stream.twitter.com/1.1/statuses/filter.json\"\n",
    "query_url = f\"{url}?{'&'.join([f'{k}={v}' for k, v in query_data.items()])}\"\n",
    "\n",
    "print(f\"STREAMING {STOP_AFTER} TWEETS\")\n",
    "with twitter.get(query_url, stream=True) as response:\n",
    "    for i, raw_tweet in enumerate(response.iter_lines()):\n",
    "        if i == STOP_AFTER:\n",
    "            break\n",
    "\n",
    "        try:\n",
    "            tweet = json.loads(raw_tweet)\n",
    "            print(\n",
    "                f\"{i+1}/{STOP_AFTER}: {tweet['user']['screen_name']} @ {tweet['created_at'] }: {tweet['text']}\\n\"\n",
    "            )\n",
    "        except (json.JSONDecodeError, KeyError) as err:\n",
    "            # In case the JSON fails to decode, we just skip this tweet and move on\n",
    "            print(f\"{i+1}/{STOP_AFTER}: ERROR ===> Oof, encountered a mangled line of data here..\\n\")\n",
    "            continue\n",
    "        \n",
    "        # write to disk\n",
    "        with pathlib.Path(OUT_PATH) / f\"{dt.now().timestamp()}_{uuid4()}.json\" as F:\n",
    "            F.write_bytes(raw_tweet)\n"
   ]
  },
  {
   "cell_type": "code",
   "execution_count": null,
   "metadata": {},
   "outputs": [],
   "source": []
  }
 ],
 "metadata": {
  "kernelspec": {
   "display_name": "Python 3",
   "language": "python",
   "name": "python3"
  },
  "language_info": {
   "codemirror_mode": {
    "name": "ipython",
    "version": 3
   },
   "file_extension": ".py",
   "mimetype": "text/x-python",
   "name": "python",
   "nbconvert_exporter": "python",
   "pygments_lexer": "ipython3",
   "version": "3.7.3"
  }
 },
 "nbformat": 4,
 "nbformat_minor": 2
}
