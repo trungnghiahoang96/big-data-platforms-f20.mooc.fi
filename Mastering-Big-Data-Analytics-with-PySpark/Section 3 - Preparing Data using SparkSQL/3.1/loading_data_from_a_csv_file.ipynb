{
 "cells": [
  {
   "cell_type": "markdown",
   "metadata": {},
   "source": [
    "# Introduction to this tutorial\n",
    "\n",
    "This tutorial is an introduction to how to load data into Spark. For this tutorial we are going to be using the following Data Set:  \n",
    "__ratings.csv__: _100,000 ratings and 3,600 tag applications applied to 9,000 movies by 600 users._\n",
    "\n",
    "This Data Set is in CSV format."
   ]
  },
  {
   "cell_type": "markdown",
   "metadata": {},
   "source": [
    "## SparkSession and Settings\n",
    "Before we continue, set up a SparkSession."
   ]
  },
  {
   "cell_type": "code",
   "execution_count": null,
   "metadata": {},
   "outputs": [],
   "source": [
    "from pyspark.sql import SparkSession\n",
    "\n",
    "spark = SparkSession.builder.appName(\"31LoadingDataFromCSV\").getOrCreate()"
   ]
  },
  {
   "cell_type": "markdown",
   "metadata": {},
   "source": [
    "Additionally, we have to define some settings to ensure proper operations.\n",
    " - `RATINGS_CSV_LOCATION` is used to tell our Spark Application where to find the ratings.csv file"
   ]
  },
  {
   "cell_type": "code",
   "execution_count": null,
   "metadata": {},
   "outputs": [],
   "source": [
    "# Location of the ratings.csv  file\n",
    "RATINGS_CSV_LOCATION = \"/home/jovyan/data-sets/ml-latest-small/ratings.csv\""
   ]
  },
  {
   "cell_type": "markdown",
   "metadata": {},
   "source": [
    "# Part 1: Loading Data from a CSV file\n",
    "Take a moment to study the readme file that belongs to the MovieLens-latest-small dataset.\n",
    "\n",
    "[`pyspark.sql.DataFrameReader.read.csv`](https://spark.apache.org/docs/2.4.3/api/python/pyspark.sql.html#pyspark.sql.DataFrameReader) is used for reading csv files.\n",
    "\n",
    "We can access this, simply, by referencing our `SparkSession`, which we initated as an object we named `spark` in the previous cell. Hence, [`spark.read.csv()`](https://spark.apache.org/docs/2.4.3/api/python/pyspark.sql.html#pyspark.sql.DataFrameReader) is used to tell Spark to read from a csv file from a given location.\n",
    "\n",
    "So let's try this."
   ]
  },
  {
   "cell_type": "code",
   "execution_count": null,
   "metadata": {},
   "outputs": [],
   "source": [
    "df = spark.read.csv(RATINGS_CSV_LOCATION)"
   ]
  },
  {
   "cell_type": "markdown",
   "metadata": {},
   "source": [
    "You've now told Spark to load the data from the given CSV file. \n",
    "Because Spark is lazy, we have to explicitly tell it to show us something. \n",
    "\n",
    "Let's see the content by running `.show()` on our new DataFrame.  \n",
    "Let's also check the schema of what we loaded, by using `.printSchema()`."
   ]
  },
  {
   "cell_type": "code",
   "execution_count": null,
   "metadata": {},
   "outputs": [],
   "source": [
    "df.show()\n",
    "df.printSchema()"
   ]
  },
  {
   "cell_type": "markdown",
   "metadata": {},
   "source": [
    "What you can see, is that the data is being loaded, but it does not quite appear to be right. Additionally, all the columns appear to be cast as a StringType - which is not ideal."
   ]
  },
  {
   "cell_type": "markdown",
   "metadata": {},
   "source": [
    "### Parsing the CSV file correctly and DataTypes()\n",
    "\n",
    "\n",
    "We can fix the aformentioned issues by giving the `read.csv()` method the correct settings.\n",
    "\n",
    "To quote the `README.txt` that belongs to the MovieLens data:\n",
    "> The dataset files are written as [__comma__-separated values](http://en.wikipedia.org/wiki/Comma-separated_values) files with a __single header row__. Columns that contain commas (`,`) are __escaped using double-quotes__ (`\"`). These files are __encoded as UTF-8__.\n",
    "\n",
    "*__NOTE__: It is a good idea to read the full `README.txt`, since it explains in detail how the data should be interpreted.*  \n",
    "*__NOTE__: Take a moment to study the [documentation for `read.csv()`](https://spark.apache.org/docs/2.4.3/api/python/pyspark.sql.html#pyspark.sql.DataFrameReader) to learn about which possible things we can set.*\n",
    "\n",
    "To parse the CSV correctly, we are going to need to set the following on our `read.csv()` method:\n",
    " \n",
    " 1. We leave the same `path` as before, referring to `RATINGS_CSV_LOCATION` that we set previously.\n",
    " 2. Since we have __comma-seperated-values__, we need to set `sep` to `','`.\n",
    " 3. Since we have a __single header row__, we need to set `header` to `True`.\n",
    " 4. Since columns that contain commas (`,`) are __escaped using double-quotes__ (`\"`), we set `quote` to `'\"'`.\n",
    " 5. Since the files are __encoded as UTF-8__, we set `encoding` to `UTF-8`.\n",
    " 6. Additionally, since we observed that all values are cast to `StringType` by default, we set `inferSchema` to `True`."
   ]
  },
  {
   "cell_type": "code",
   "execution_count": null,
   "metadata": {},
   "outputs": [],
   "source": [
    "# Loading CSV file with proper parsing and inferSchema\n",
    "df = spark.read.csv(\n",
    "    path=RATINGS_CSV_LOCATION,\n",
    "    sep=\",\",\n",
    "    header=True,\n",
    "    quote='\"',\n",
    "    encoding=\"UTF-8\",\n",
    "    inferSchema=True,\n",
    ")\n",
    "\n",
    "# Displaying results of the load\n",
    "df.show()\n",
    "df.printSchema()"
   ]
  },
  {
   "cell_type": "markdown",
   "metadata": {},
   "source": [
    "Looking at the output we can notice a few things:\n",
    "\n",
    " - The header now appears properly parsed, no more `_c0`, `_c1`, etc.\n",
    " - The numeric value columns are cast to `IntegerType` and `DoubleType` thanks to `inferSchema`\n",
    " \n",
    "Using `inferSchema`, Spark casted the following types to our schema:\n",
    "\n",
    "> `|-- userId: integer (nullable = true)`  \n",
    "> `|-- movieId: integer (nullable = true)`  \n",
    "> `|-- rating: double (nullable = true)`  \n",
    "> `|-- timestamp: integer (nullable = true)`  \n",
    "\n",
    "In short, our data now appears to have a correct parsed schema with DataTypes that appear to match the current data. "
   ]
  },
  {
   "cell_type": "markdown",
   "metadata": {},
   "source": [
    "### Type Safety\n",
    "\n",
    "InferSchema is a great way to (quickly) set the schema for the data we are using. It is however good practice to be as explicit as possible when it comes to DataTypes and Schema - we call this [Type Safety](https://en.wikipedia.org/wiki/Type_safety).  \n",
    "Applying proper schema and ensuring Type Safety, is extra important once we start using more than one Data Source. For example, when trying to join two datasets, the join will not work as expected if the DataTypes of the join columns are not set correctly.\n",
    "\n",
    "*__NOTE__: Take a moment to read about [Spark DataTypes](https://spark.apache.org/docs/latest/sql-reference.html#data-types).*\n",
    "\n",
    "Let's now set out schema to an explicit value. We will do this by using the `schema` option belonging to [`read.csv()`](https://spark.apache.org/docs/2.4.3/api/python/pyspark.sql.html#pyspark.sql.DataFrameReader).\n",
    "\n",
    "`schema`'s description reads:\n",
    "\n",
    "> *an optional `pyspark.sql.types.StructType` for the input schema or a DDL-formatted string (For example `col0 INT, col1 DOUBLE`).*\n",
    "\n",
    "I won't cover `StructType` at this point in time, but we will be using a `DDL-formatted string`. Spark uses Apache Hive's DDL language.\n",
    "\n",
    "*__NOTE__: Take a moment to read about [Compatibility with Apache Hive](https://spark.apache.org/docs/2.4.3/sql-migration-guide-hive-compatibility.html#supported-hive-features) if you want to learn more about the Apache Hive DDL syntax that Spark uses.*\n",
    "\n",
    "In this case we will define our `DDL-formatted string` as:  \n",
    "`'userId INT, movieId INT, rating DOUBLE, timestamp INT'`"
   ]
  },
  {
   "cell_type": "code",
   "execution_count": null,
   "metadata": {},
   "outputs": [],
   "source": [
    "#  Type safe loading of ratings.csv file\n",
    "df = spark.read.csv(\n",
    "    path=RATINGS_CSV_LOCATION,\n",
    "    sep=\",\",\n",
    "    header=True,\n",
    "    quote='\"',\n",
    "    encoding=\"UTF-8\",\n",
    "    schema=\"userId INT, movieId INT, rating DOUBLE, timestamp INT\",\n",
    ")\n",
    "\n",
    "# Displaying results of the load\n",
    "df.show()\n",
    "df.printSchema()\n",
    "df.describe().show()\n",
    "df.explain()"
   ]
  },
  {
   "cell_type": "markdown",
   "metadata": {},
   "source": [
    "We now have the same output as before, but since we have an explicit schema we can ensure Type Safety\n",
    "\n",
    "## What we've learned so far:\n",
    "\n",
    "- How to use `read.csv()` to load CSV files, and how to control the settings of this method\n",
    "- By default, CSVs are parsed with all columns being cast to `StringType`\n",
    "- `inferSchema` allows Spark to guess what schema should be used\n",
    "- To ensure proper Type Safety, we can use Hive Schema DDL to set an explicit schema\n",
    "\n",
    "---"
   ]
  },
  {
   "cell_type": "code",
   "execution_count": null,
   "metadata": {},
   "outputs": [],
   "source": [
    "spark.stop()"
   ]
  },
  {
   "cell_type": "markdown",
   "metadata": {},
   "source": [
    "End of part 1"
   ]
  }
 ],
 "metadata": {
  "kernelspec": {
   "display_name": "Python 3",
   "language": "python",
   "name": "python3"
  },
  "language_info": {
   "codemirror_mode": {
    "name": "ipython",
    "version": 3
   },
   "file_extension": ".py",
   "mimetype": "text/x-python",
   "name": "python",
   "nbconvert_exporter": "python",
   "pygments_lexer": "ipython3",
   "version": "3.7.3"
  }
 },
 "nbformat": 4,
 "nbformat_minor": 2
}
