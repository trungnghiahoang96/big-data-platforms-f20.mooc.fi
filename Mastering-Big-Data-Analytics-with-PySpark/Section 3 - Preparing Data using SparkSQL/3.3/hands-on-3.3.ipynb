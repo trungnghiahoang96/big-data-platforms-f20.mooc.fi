{
 "cells": [
  {
   "cell_type": "code",
   "execution_count": 14,
   "metadata": {},
   "outputs": [],
   "source": [
    "from pyspark.sql import SparkSession\n",
    "from pyspark.sql import functions as f\n",
    "\n",
    "spark = SparkSession.builder.appName(\"MyFirstCSVLoad\").getOrCreate()"
   ]
  },
  {
   "cell_type": "code",
   "execution_count": 17,
   "metadata": {},
   "outputs": [],
   "source": [
    "ratings = (\n",
    "    spark.read.csv(\n",
    "        path=\"ratings.csv\",\n",
    "        sep=\",\",\n",
    "        header=True,\n",
    "        quote='\"',\n",
    "        schema=\"userId INT, movieId INT, rating DOUBLE, timestamp INT\",\n",
    "    )\n",
    "    .withColumn(\"timestamp\", f.to_timestamp(f.from_unixtime(\"timestamp\")))\n",
    ")"
   ]
  },
  {
   "cell_type": "code",
   "execution_count": 22,
   "metadata": {},
   "outputs": [
    {
     "name": "stdout",
     "output_type": "stream",
     "text": [
      "+-------+----------------------------------+-------------------------------------------+\n",
      "|movieId|title                             |genres                                     |\n",
      "+-------+----------------------------------+-------------------------------------------+\n",
      "|1      |Toy Story (1995)                  |Adventure|Animation|Children|Comedy|Fantasy|\n",
      "|2      |Jumanji (1995)                    |Adventure|Children|Fantasy                 |\n",
      "|3      |Grumpier Old Men (1995)           |Comedy|Romance                             |\n",
      "|4      |Waiting to Exhale (1995)          |Comedy|Drama|Romance                       |\n",
      "|5      |Father of the Bride Part II (1995)|Comedy                                     |\n",
      "|6      |Heat (1995)                       |Action|Crime|Thriller                      |\n",
      "|7      |Sabrina (1995)                    |Comedy|Romance                             |\n",
      "|8      |Tom and Huck (1995)               |Adventure|Children                         |\n",
      "|9      |Sudden Death (1995)               |Action                                     |\n",
      "|10     |GoldenEye (1995)                  |Action|Adventure|Thriller                  |\n",
      "|11     |American President, The (1995)    |Comedy|Drama|Romance                       |\n",
      "|12     |Dracula: Dead and Loving It (1995)|Comedy|Horror                              |\n",
      "|13     |Balto (1995)                      |Adventure|Animation|Children               |\n",
      "|14     |Nixon (1995)                      |Drama                                      |\n",
      "|15     |Cutthroat Island (1995)           |Action|Adventure|Romance                   |\n",
      "+-------+----------------------------------+-------------------------------------------+\n",
      "only showing top 15 rows\n",
      "\n",
      "root\n",
      " |-- movieId: integer (nullable = true)\n",
      " |-- title: string (nullable = true)\n",
      " |-- genres: string (nullable = true)\n",
      "\n"
     ]
    }
   ],
   "source": [
    "movies = (\n",
    "    spark.read.csv(\n",
    "        path=\"movies.csv\",\n",
    "        sep=\",\",\n",
    "        header=True,\n",
    "        quote='\"',\n",
    "        schema=\"movieId INT, title STRING, genres STRING\",\n",
    "    )\n",
    ")\n",
    "movies.show(15, truncate=False)\n",
    "movies.printSchema()"
   ]
  },
  {
   "cell_type": "code",
   "execution_count": 28,
   "metadata": {},
   "outputs": [
    {
     "name": "stdout",
     "output_type": "stream",
     "text": [
      "+-------+-----------------------------------------------------------+------+\n",
      "|movieId|title                                                      |genres|\n",
      "+-------+-----------------------------------------------------------+------+\n",
      "|9      |Sudden Death (1995)                                        |Action|\n",
      "|71     |Fair Game (1995)                                           |Action|\n",
      "|204    |Under Siege 2: Dark Territory (1995)                       |Action|\n",
      "|251    |Hunted, The (1995)                                         |Action|\n",
      "|667    |Bloodsport 2 (a.k.a. Bloodsport II: The Next Kumite) (1996)|Action|\n",
      "+-------+-----------------------------------------------------------+------+\n",
      "only showing top 5 rows\n",
      "\n",
      "+-------+-----------------------------------------------------------+------+\n",
      "|movieId|title                                                      |genres|\n",
      "+-------+-----------------------------------------------------------+------+\n",
      "|9      |Sudden Death (1995)                                        |Action|\n",
      "|71     |Fair Game (1995)                                           |Action|\n",
      "|204    |Under Siege 2: Dark Territory (1995)                       |Action|\n",
      "|251    |Hunted, The (1995)                                         |Action|\n",
      "|667    |Bloodsport 2 (a.k.a. Bloodsport II: The Next Kumite) (1996)|Action|\n",
      "+-------+-----------------------------------------------------------+------+\n",
      "only showing top 5 rows\n",
      "\n"
     ]
    }
   ],
   "source": [
    "movies.where(f.col(\"genres\") == \"Action\").show(5, False)\n",
    "movies.where(\"genres == 'Action'\").show(5, False)"
   ]
  },
  {
   "cell_type": "code",
   "execution_count": 38,
   "metadata": {},
   "outputs": [],
   "source": [
    "movie_genre = (\n",
    "    movies\n",
    "    .withColumn(\"genres_array\", f.split(\"genres\", \"\\|\"))\n",
    "    .withColumn(\"genre\", f.explode(\"genres_array\"))\n",
    "    .select(\"movieId\", \"title\", \"genre\")\n",
    ")"
   ]
  },
  {
   "cell_type": "code",
   "execution_count": 39,
   "metadata": {},
   "outputs": [
    {
     "name": "stdout",
     "output_type": "stream",
     "text": [
      "+-------+-----------------------+---------+\n",
      "|movieId|title                  |genre    |\n",
      "+-------+-----------------------+---------+\n",
      "|1      |Toy Story (1995)       |Adventure|\n",
      "|1      |Toy Story (1995)       |Animation|\n",
      "|1      |Toy Story (1995)       |Children |\n",
      "|1      |Toy Story (1995)       |Comedy   |\n",
      "|1      |Toy Story (1995)       |Fantasy  |\n",
      "|2      |Jumanji (1995)         |Adventure|\n",
      "|2      |Jumanji (1995)         |Children |\n",
      "|2      |Jumanji (1995)         |Fantasy  |\n",
      "|3      |Grumpier Old Men (1995)|Comedy   |\n",
      "|3      |Grumpier Old Men (1995)|Romance  |\n",
      "+-------+-----------------------+---------+\n",
      "only showing top 10 rows\n",
      "\n"
     ]
    }
   ],
   "source": [
    "movie_genre.show(10, False)"
   ]
  },
  {
   "cell_type": "code",
   "execution_count": 41,
   "metadata": {},
   "outputs": [],
   "source": [
    "available_genres = movie_genre.select(\"genre\").distinct()"
   ]
  },
  {
   "cell_type": "code",
   "execution_count": 42,
   "metadata": {},
   "outputs": [
    {
     "name": "stdout",
     "output_type": "stream",
     "text": [
      "+------------------+\n",
      "|             genre|\n",
      "+------------------+\n",
      "|             Crime|\n",
      "|           Romance|\n",
      "|          Thriller|\n",
      "|         Adventure|\n",
      "|             Drama|\n",
      "|               War|\n",
      "|       Documentary|\n",
      "|           Fantasy|\n",
      "|           Mystery|\n",
      "|           Musical|\n",
      "|         Animation|\n",
      "|         Film-Noir|\n",
      "|(no genres listed)|\n",
      "|              IMAX|\n",
      "|            Horror|\n",
      "|           Western|\n",
      "|            Comedy|\n",
      "|          Children|\n",
      "|            Action|\n",
      "|            Sci-Fi|\n",
      "+------------------+\n",
      "\n"
     ]
    }
   ],
   "source": [
    "available_genres.show()"
   ]
  },
  {
   "cell_type": "code",
   "execution_count": 43,
   "metadata": {},
   "outputs": [],
   "source": [
    "movies_without_genre = movies.where(f.col(\"genres\") == \"(no genres listed)\")"
   ]
  },
  {
   "cell_type": "code",
   "execution_count": 45,
   "metadata": {},
   "outputs": [
    {
     "name": "stdout",
     "output_type": "stream",
     "text": [
      "34\n",
      "+-------+--------------------+------------------+\n",
      "|movieId|               title|            genres|\n",
      "+-------+--------------------+------------------+\n",
      "| 114335|   La cravate (1957)|(no genres listed)|\n",
      "| 122888|      Ben-hur (2016)|(no genres listed)|\n",
      "| 122896|Pirates of the Ca...|(no genres listed)|\n",
      "| 129250|   Superfast! (2015)|(no genres listed)|\n",
      "| 132084| Let It Be Me (1995)|(no genres listed)|\n",
      "| 134861|Trevor Noah: Afri...|(no genres listed)|\n",
      "| 141131|    Guardians (2016)|(no genres listed)|\n",
      "| 141866|   Green Room (2015)|(no genres listed)|\n",
      "| 142456|The Brand New Tes...|(no genres listed)|\n",
      "| 143410|          Hyena Road|(no genres listed)|\n",
      "| 147250|The Adventures of...|(no genres listed)|\n",
      "| 149330|A Cosmic Christma...|(no genres listed)|\n",
      "| 152037|  Grease Live (2016)|(no genres listed)|\n",
      "| 155589|Noin 7 veljestä (...|(no genres listed)|\n",
      "| 156605|            Paterson|(no genres listed)|\n",
      "| 159161|Ali Wong: Baby Co...|(no genres listed)|\n",
      "| 159779|A Midsummer Night...|(no genres listed)|\n",
      "| 161008|The Forbidden Dan...|(no genres listed)|\n",
      "| 165489|Ethel & Ernest (2...|(no genres listed)|\n",
      "| 166024|     Whiplash (2013)|(no genres listed)|\n",
      "+-------+--------------------+------------------+\n",
      "only showing top 20 rows\n",
      "\n"
     ]
    }
   ],
   "source": [
    "print(movies_without_genre.count())\n",
    "movies_without_genre.show()"
   ]
  },
  {
   "cell_type": "code",
   "execution_count": null,
   "metadata": {},
   "outputs": [],
   "source": []
  }
 ],
 "metadata": {
  "kernelspec": {
   "display_name": "Python 3",
   "language": "python",
   "name": "python3"
  },
  "language_info": {
   "codemirror_mode": {
    "name": "ipython",
    "version": 3
   },
   "file_extension": ".py",
   "mimetype": "text/x-python",
   "name": "python",
   "nbconvert_exporter": "python",
   "pygments_lexer": "ipython3",
   "version": "3.7.3"
  }
 },
 "nbformat": 4,
 "nbformat_minor": 2
}
