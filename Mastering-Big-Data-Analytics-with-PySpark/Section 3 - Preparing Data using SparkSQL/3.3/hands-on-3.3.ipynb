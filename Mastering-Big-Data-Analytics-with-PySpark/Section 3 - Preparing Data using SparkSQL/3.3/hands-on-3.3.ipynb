{
 "cells": [
  {
   "cell_type": "code",
   "execution_count": 1,
   "metadata": {},
   "outputs": [
    {
     "name": "stderr",
     "output_type": "stream",
     "text": [
      "Warning: Ignoring non-Spark config property: [SPARK_LOCAL_CONFIGS]\n",
      "WARNING: An illegal reflective access operation has occurred\n",
      "WARNING: Illegal reflective access by org.apache.spark.unsafe.Platform (file:/home/nghiaht7/.sdkman/candidates/spark/3.1.2/jars/spark-unsafe_2.12-3.1.2.jar) to constructor java.nio.DirectByteBuffer(long,int)\n",
      "WARNING: Please consider reporting this to the maintainers of org.apache.spark.unsafe.Platform\n",
      "WARNING: Use --illegal-access=warn to enable warnings of further illegal reflective access operations\n",
      "WARNING: All illegal access operations will be denied in a future release\n",
      "Using Spark's default log4j profile: org/apache/spark/log4j-defaults.properties\n",
      "Setting default log level to \"WARN\".\n",
      "To adjust logging level use sc.setLogLevel(newLevel). For SparkR, use setLogLevel(newLevel).\n",
      "21/10/11 16:29:55 WARN Utils: Service 'SparkUI' could not bind on port 4040. Attempting port 4041.\n",
      "21/10/11 16:29:55 WARN Utils: Service 'SparkUI' could not bind on port 4041. Attempting port 4042.\n"
     ]
    }
   ],
   "source": [
    "from pyspark.sql import SparkSession\n",
    "from pyspark.sql import functions as f\n",
    "\n",
    "spark = SparkSession.builder.appName(\"MyFirstCSVLoad\").getOrCreate()"
   ]
  },
  {
   "cell_type": "code",
   "execution_count": 21,
   "metadata": {},
   "outputs": [],
   "source": [
    "rating_path = \"/home/nghiaht7/data-engineer/big-data-platforms-f20.mooc.fi/Mastering-Big-Data-Analytics-with-PySpark/data-sets/ml-latest-small/ratings.csv\" \n",
    "\n",
    "ratings = spark.read.csv(\n",
    "    path=rating_path,\n",
    "    sep=\",\",\n",
    "    header=True,\n",
    "    quote='\"',\n",
    "    schema=\"userId INT, movieId INT, rating DOUBLE, timestamp INT\",\n",
    ").withColumn(\"timestamp\", f.to_timestamp(f.from_unixtime(\"timestamp\")))"
   ]
  },
  {
   "cell_type": "code",
   "execution_count": 22,
   "metadata": {},
   "outputs": [
    {
     "name": "stdout",
     "output_type": "stream",
     "text": [
      "+-------+----------------------------------+-------------------------------------------+\n",
      "|movieId|title                             |genres                                     |\n",
      "+-------+----------------------------------+-------------------------------------------+\n",
      "|1      |Toy Story (1995)                  |Adventure|Animation|Children|Comedy|Fantasy|\n",
      "|2      |Jumanji (1995)                    |Adventure|Children|Fantasy                 |\n",
      "|3      |Grumpier Old Men (1995)           |Comedy|Romance                             |\n",
      "|4      |Waiting to Exhale (1995)          |Comedy|Drama|Romance                       |\n",
      "|5      |Father of the Bride Part II (1995)|Comedy                                     |\n",
      "|6      |Heat (1995)                       |Action|Crime|Thriller                      |\n",
      "|7      |Sabrina (1995)                    |Comedy|Romance                             |\n",
      "|8      |Tom and Huck (1995)               |Adventure|Children                         |\n",
      "|9      |Sudden Death (1995)               |Action                                     |\n",
      "|10     |GoldenEye (1995)                  |Action|Adventure|Thriller                  |\n",
      "|11     |American President, The (1995)    |Comedy|Drama|Romance                       |\n",
      "|12     |Dracula: Dead and Loving It (1995)|Comedy|Horror                              |\n",
      "|13     |Balto (1995)                      |Adventure|Animation|Children               |\n",
      "|14     |Nixon (1995)                      |Drama                                      |\n",
      "|15     |Cutthroat Island (1995)           |Action|Adventure|Romance                   |\n",
      "+-------+----------------------------------+-------------------------------------------+\n",
      "only showing top 15 rows\n",
      "\n",
      "root\n",
      " |-- movieId: integer (nullable = true)\n",
      " |-- title: string (nullable = true)\n",
      " |-- genres: string (nullable = true)\n",
      "\n"
     ]
    }
   ],
   "source": [
    "movies_path = \"/home/nghiaht7/data-engineer/big-data-platforms-f20.mooc.fi/Mastering-Big-Data-Analytics-with-PySpark/data-sets/ml-latest-small/movies.csv\"\n",
    "\n",
    "\n",
    "movies = spark.read.csv(\n",
    "    path=movies_path,\n",
    "    sep=\",\",\n",
    "    header=True,\n",
    "    quote='\"',\n",
    "    schema=\"movieId INT, title STRING, genres STRING\",\n",
    ")\n",
    "movies.show(15, truncate=False)\n",
    "movies.printSchema()"
   ]
  },
  {
   "cell_type": "code",
   "execution_count": 12,
   "metadata": {},
   "outputs": [
    {
     "name": "stdout",
     "output_type": "stream",
     "text": [
      "+-------+-----------------------------------------------------------+------+\n",
      "|movieId|title                                                      |genres|\n",
      "+-------+-----------------------------------------------------------+------+\n",
      "|9      |Sudden Death (1995)                                        |Action|\n",
      "|71     |Fair Game (1995)                                           |Action|\n",
      "|204    |Under Siege 2: Dark Territory (1995)                       |Action|\n",
      "|251    |Hunted, The (1995)                                         |Action|\n",
      "|667    |Bloodsport 2 (a.k.a. Bloodsport II: The Next Kumite) (1996)|Action|\n",
      "+-------+-----------------------------------------------------------+------+\n",
      "only showing top 5 rows\n",
      "\n",
      "+-------+-----------------------------------------------------------+------+\n",
      "|movieId|title                                                      |genres|\n",
      "+-------+-----------------------------------------------------------+------+\n",
      "|9      |Sudden Death (1995)                                        |Action|\n",
      "|71     |Fair Game (1995)                                           |Action|\n",
      "|204    |Under Siege 2: Dark Territory (1995)                       |Action|\n",
      "|251    |Hunted, The (1995)                                         |Action|\n",
      "|667    |Bloodsport 2 (a.k.a. Bloodsport II: The Next Kumite) (1996)|Action|\n",
      "+-------+-----------------------------------------------------------+------+\n",
      "only showing top 5 rows\n",
      "\n",
      "+-------+-----------------------------------------------------------+------+\n",
      "|movieId|title                                                      |genres|\n",
      "+-------+-----------------------------------------------------------+------+\n",
      "|9      |Sudden Death (1995)                                        |Action|\n",
      "|71     |Fair Game (1995)                                           |Action|\n",
      "|204    |Under Siege 2: Dark Territory (1995)                       |Action|\n",
      "|251    |Hunted, The (1995)                                         |Action|\n",
      "|667    |Bloodsport 2 (a.k.a. Bloodsport II: The Next Kumite) (1996)|Action|\n",
      "+-------+-----------------------------------------------------------+------+\n",
      "only showing top 5 rows\n",
      "\n"
     ]
    }
   ],
   "source": [
    "movies.where(f.col(\"genres\") == \"Action\").show(5, False)\n",
    "movies.where(\"genres == 'Action'\").show(5, False)\n",
    "\n",
    "movies.createOrReplaceTempView(\"movies\")\n",
    "spark.sql(\"select * from movies where genres == 'Action'\").show(5, False)"
   ]
  },
  {
   "cell_type": "code",
   "execution_count": 13,
   "metadata": {},
   "outputs": [],
   "source": [
    "movie_genre = (\n",
    "    movies.withColumn(\"genres_array\", f.split(\"genres\", \"\\|\"))\n",
    "    .withColumn(\"genre\", f.explode(\"genres_array\"))\n",
    "    .select(\"movieId\", \"title\", \"genre\")\n",
    ")"
   ]
  },
  {
   "cell_type": "code",
   "execution_count": 15,
   "metadata": {},
   "outputs": [
    {
     "name": "stdout",
     "output_type": "stream",
     "text": [
      "+-------+----------------------------------+---------+\n",
      "|movieId|title                             |genre    |\n",
      "+-------+----------------------------------+---------+\n",
      "|1      |Toy Story (1995)                  |Adventure|\n",
      "|1      |Toy Story (1995)                  |Animation|\n",
      "|1      |Toy Story (1995)                  |Children |\n",
      "|1      |Toy Story (1995)                  |Comedy   |\n",
      "|1      |Toy Story (1995)                  |Fantasy  |\n",
      "|2      |Jumanji (1995)                    |Adventure|\n",
      "|2      |Jumanji (1995)                    |Children |\n",
      "|2      |Jumanji (1995)                    |Fantasy  |\n",
      "|3      |Grumpier Old Men (1995)           |Comedy   |\n",
      "|3      |Grumpier Old Men (1995)           |Romance  |\n",
      "|4      |Waiting to Exhale (1995)          |Comedy   |\n",
      "|4      |Waiting to Exhale (1995)          |Drama    |\n",
      "|4      |Waiting to Exhale (1995)          |Romance  |\n",
      "|5      |Father of the Bride Part II (1995)|Comedy   |\n",
      "|6      |Heat (1995)                       |Action   |\n",
      "|6      |Heat (1995)                       |Crime    |\n",
      "|6      |Heat (1995)                       |Thriller |\n",
      "|7      |Sabrina (1995)                    |Comedy   |\n",
      "|7      |Sabrina (1995)                    |Romance  |\n",
      "|8      |Tom and Huck (1995)               |Adventure|\n",
      "+-------+----------------------------------+---------+\n",
      "only showing top 20 rows\n",
      "\n"
     ]
    }
   ],
   "source": [
    "movie_genre.show(20, False)"
   ]
  },
  {
   "cell_type": "code",
   "execution_count": 16,
   "metadata": {},
   "outputs": [],
   "source": [
    "available_genres = movie_genre.select(\"genre\").distinct()"
   ]
  },
  {
   "cell_type": "code",
   "execution_count": 17,
   "metadata": {},
   "outputs": [
    {
     "name": "stdout",
     "output_type": "stream",
     "text": [
      "+------------------+\n",
      "|             genre|\n",
      "+------------------+\n",
      "|         Animation|\n",
      "|          Children|\n",
      "|            Comedy|\n",
      "|           Fantasy|\n",
      "|           Romance|\n",
      "|             Crime|\n",
      "|          Thriller|\n",
      "|            Horror|\n",
      "|           Mystery|\n",
      "|               War|\n",
      "|(no genres listed)|\n",
      "|         Adventure|\n",
      "|             Drama|\n",
      "|            Action|\n",
      "|            Sci-Fi|\n",
      "|           Musical|\n",
      "|       Documentary|\n",
      "|              IMAX|\n",
      "|           Western|\n",
      "|         Film-Noir|\n",
      "+------------------+\n",
      "\n"
     ]
    }
   ],
   "source": [
    "available_genres.show()"
   ]
  },
  {
   "cell_type": "code",
   "execution_count": 19,
   "metadata": {},
   "outputs": [],
   "source": [
    "movies_without_genre = movies.where(f.col(\"genres\") == \"(no genres listed)\")"
   ]
  },
  {
   "cell_type": "code",
   "execution_count": 20,
   "metadata": {},
   "outputs": [
    {
     "name": "stdout",
     "output_type": "stream",
     "text": [
      "34\n",
      "+-------+--------------------+------------------+\n",
      "|movieId|               title|            genres|\n",
      "+-------+--------------------+------------------+\n",
      "| 114335|   La cravate (1957)|(no genres listed)|\n",
      "| 122888|      Ben-hur (2016)|(no genres listed)|\n",
      "| 122896|Pirates of the Ca...|(no genres listed)|\n",
      "| 129250|   Superfast! (2015)|(no genres listed)|\n",
      "| 132084| Let It Be Me (1995)|(no genres listed)|\n",
      "| 134861|Trevor Noah: Afri...|(no genres listed)|\n",
      "| 141131|    Guardians (2016)|(no genres listed)|\n",
      "| 141866|   Green Room (2015)|(no genres listed)|\n",
      "| 142456|The Brand New Tes...|(no genres listed)|\n",
      "| 143410|          Hyena Road|(no genres listed)|\n",
      "| 147250|The Adventures of...|(no genres listed)|\n",
      "| 149330|A Cosmic Christma...|(no genres listed)|\n",
      "| 152037|  Grease Live (2016)|(no genres listed)|\n",
      "| 155589|Noin 7 veljestä (...|(no genres listed)|\n",
      "| 156605|            Paterson|(no genres listed)|\n",
      "| 159161|Ali Wong: Baby Co...|(no genres listed)|\n",
      "| 159779|A Midsummer Night...|(no genres listed)|\n",
      "| 161008|The Forbidden Dan...|(no genres listed)|\n",
      "| 165489|Ethel & Ernest (2...|(no genres listed)|\n",
      "| 166024|     Whiplash (2013)|(no genres listed)|\n",
      "+-------+--------------------+------------------+\n",
      "only showing top 20 rows\n",
      "\n"
     ]
    }
   ],
   "source": [
    "print(movies_without_genre.count())\n",
    "movies_without_genre.show()"
   ]
  },
  {
   "cell_type": "code",
   "execution_count": null,
   "metadata": {},
   "outputs": [],
   "source": []
  }
 ],
 "metadata": {
  "kernelspec": {
   "display_name": "Python 3 (ipykernel)",
   "language": "python",
   "name": "python3"
  },
  "language_info": {
   "codemirror_mode": {
    "name": "ipython",
    "version": 3
   },
   "file_extension": ".py",
   "mimetype": "text/x-python",
   "name": "python",
   "nbconvert_exporter": "python",
   "pygments_lexer": "ipython3",
   "version": "3.8.10"
  }
 },
 "nbformat": 4,
 "nbformat_minor": 4
}
