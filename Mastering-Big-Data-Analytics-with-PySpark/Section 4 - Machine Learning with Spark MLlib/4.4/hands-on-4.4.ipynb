{
 "cells": [
  {
   "cell_type": "code",
   "execution_count": 7,
   "metadata": {},
   "outputs": [],
   "source": [
    "from pyspark.sql import SparkSession\n",
    "from pyspark.sql import functions as f\n",
    "\n",
    "spark = SparkSession.builder.appName(\"Chapter4-4\").getOrCreate()"
   ]
  },
  {
   "cell_type": "code",
   "execution_count": 8,
   "metadata": {},
   "outputs": [],
   "source": [
    "ratings = (\n",
    "    spark.read.csv(\n",
    "        path=\"ratings.csv\",\n",
    "        sep=\",\",\n",
    "        header=True,\n",
    "        quote='\"',\n",
    "        schema=\"userId INT, movieId INT, rating DOUBLE, timestamp INT\",\n",
    "    )\n",
    "    # .withColumn(\"timestamp\", f.to_timestamp(f.from_unixtime(\"timestamp\")))\n",
    "    .select(\"userId\", \"movieId\", \"rating\")\n",
    "    .cache()\n",
    ")"
   ]
  },
  {
   "cell_type": "markdown",
   "metadata": {},
   "source": [
    "The ALS class has this signature:\n",
    "\n",
    "```python\n",
    "class pyspark.ml.recommendation.ALS(\n",
    "    rank=10,\n",
    "    maxIter=10,\n",
    "    regParam=0.1,\n",
    "    numUserBlocks=10,\n",
    "    numItemBlocks=10,\n",
    "    implicitPrefs=False,\n",
    "    alpha=1.0,\n",
    "    userCol=\"user\",\n",
    "    itemCol=\"item\",\n",
    "    seed=None,\n",
    "    ratingCol=\"rating\",\n",
    "    nonnegative=False,\n",
    "    checkpointInterval=10,\n",
    "    intermediateStorageLevel=\"MEMORY_AND_DISK\",\n",
    "    finalStorageLevel=\"MEMORY_AND_DISK\",\n",
    "    coldStartStrategy=\"nan\",\n",
    ")\n",
    "```"
   ]
  },
  {
   "cell_type": "code",
   "execution_count": 3,
   "metadata": {},
   "outputs": [],
   "source": [
    "from pyspark.ml.recommendation import ALS\n",
    "from pyspark.ml.evaluation import RegressionEvaluator"
   ]
  },
  {
   "cell_type": "code",
   "execution_count": 17,
   "metadata": {},
   "outputs": [],
   "source": [
    "als = ALS(\n",
    "    userCol=\"userId\",\n",
    "    itemCol=\"movieId\",\n",
    "    ratingCol=\"rating\",\n",
    ")\n",
    "\n",
    "(training_data, validation_data) = ratings.randomSplit([8.0, 2.0])\n",
    "\n",
    "evaluator = RegressionEvaluator(\n",
    "    metricName=\"rmse\", labelCol=\"rating\", predictionCol=\"prediction\"\n",
    ")\n",
    "\n",
    "model = als.fit(training_data)\n",
    "predictions = model.transform(validation_data)"
   ]
  },
  {
   "cell_type": "code",
   "execution_count": 18,
   "metadata": {},
   "outputs": [
    {
     "name": "stdout",
     "output_type": "stream",
     "text": [
      "+------+-------+------+----------+\n",
      "|userId|movieId|rating|prediction|\n",
      "+------+-------+------+----------+\n",
      "|602   |471    |4.0   |3.557564  |\n",
      "|91    |471    |1.0   |2.5484085 |\n",
      "|217   |471    |2.0   |2.4393833 |\n",
      "|411   |471    |4.0   |3.2672832 |\n",
      "|608   |471    |1.5   |3.254493  |\n",
      "|307   |833    |1.0   |1.405929  |\n",
      "|132   |1088   |4.0   |2.9162722 |\n",
      "|555   |1088   |4.0   |3.5491993 |\n",
      "|391   |1088   |1.0   |3.2473285 |\n",
      "|188   |1088   |4.0   |4.0344357 |\n",
      "+------+-------+------+----------+\n",
      "only showing top 10 rows\n",
      "\n"
     ]
    }
   ],
   "source": [
    "predictions.show(10, False)"
   ]
  },
  {
   "cell_type": "code",
   "execution_count": 21,
   "metadata": {},
   "outputs": [],
   "source": [
    "rmse = evaluator.evaluate(predictions.na.drop())"
   ]
  },
  {
   "cell_type": "code",
   "execution_count": 22,
   "metadata": {},
   "outputs": [
    {
     "name": "stdout",
     "output_type": "stream",
     "text": [
      "0.8787766063190957\n"
     ]
    }
   ],
   "source": [
    "print(rmse)"
   ]
  },
  {
   "cell_type": "code",
   "execution_count": 29,
   "metadata": {},
   "outputs": [],
   "source": [
    "from pyspark.ml.tuning import CrossValidator, ParamGridBuilder\n",
    "\n",
    "parameter_grid = (\n",
    "    ParamGridBuilder()\n",
    "    .addGrid(als.rank, [1, 5, 10])\n",
    "    .addGrid(als.maxIter, [20])\n",
    "    .addGrid(als.regParam, [0.05, 0.1])\n",
    "    .build()\n",
    ")"
   ]
  },
  {
   "cell_type": "code",
   "execution_count": 24,
   "metadata": {},
   "outputs": [
    {
     "data": {
      "text/plain": [
       "list"
      ]
     },
     "execution_count": 24,
     "metadata": {},
     "output_type": "execute_result"
    }
   ],
   "source": [
    "type(parameter_grid)"
   ]
  },
  {
   "cell_type": "code",
   "execution_count": 30,
   "metadata": {},
   "outputs": [
    {
     "name": "stdout",
     "output_type": "stream",
     "text": [
      "[{Param(parent='ALS_85406dbaac00', name='regParam', doc='regularization parameter (>= 0).'): 0.05,\n",
      "  Param(parent='ALS_85406dbaac00', name='rank', doc='rank of the factorization'): 1,\n",
      "  Param(parent='ALS_85406dbaac00', name='maxIter', doc='max number of iterations (>= 0).'): 20},\n",
      " {Param(parent='ALS_85406dbaac00', name='regParam', doc='regularization parameter (>= 0).'): 0.1,\n",
      "  Param(parent='ALS_85406dbaac00', name='rank', doc='rank of the factorization'): 1,\n",
      "  Param(parent='ALS_85406dbaac00', name='maxIter', doc='max number of iterations (>= 0).'): 20},\n",
      " {Param(parent='ALS_85406dbaac00', name='regParam', doc='regularization parameter (>= 0).'): 0.05,\n",
      "  Param(parent='ALS_85406dbaac00', name='rank', doc='rank of the factorization'): 5,\n",
      "  Param(parent='ALS_85406dbaac00', name='maxIter', doc='max number of iterations (>= 0).'): 20},\n",
      " {Param(parent='ALS_85406dbaac00', name='regParam', doc='regularization parameter (>= 0).'): 0.1,\n",
      "  Param(parent='ALS_85406dbaac00', name='rank', doc='rank of the factorization'): 5,\n",
      "  Param(parent='ALS_85406dbaac00', name='maxIter', doc='max number of iterations (>= 0).'): 20},\n",
      " {Param(parent='ALS_85406dbaac00', name='regParam', doc='regularization parameter (>= 0).'): 0.05,\n",
      "  Param(parent='ALS_85406dbaac00', name='rank', doc='rank of the factorization'): 10,\n",
      "  Param(parent='ALS_85406dbaac00', name='maxIter', doc='max number of iterations (>= 0).'): 20},\n",
      " {Param(parent='ALS_85406dbaac00', name='regParam', doc='regularization parameter (>= 0).'): 0.1,\n",
      "  Param(parent='ALS_85406dbaac00', name='rank', doc='rank of the factorization'): 10,\n",
      "  Param(parent='ALS_85406dbaac00', name='maxIter', doc='max number of iterations (>= 0).'): 20}]\n"
     ]
    }
   ],
   "source": [
    "from pprint import pprint\n",
    "\n",
    "pprint(parameter_grid)"
   ]
  },
  {
   "cell_type": "code",
   "execution_count": 31,
   "metadata": {},
   "outputs": [],
   "source": [
    "crossvalidator = CrossValidator(\n",
    "    estimator=als,\n",
    "    estimatorParamMaps=parameter_grid,\n",
    "    evaluator=evaluator,\n",
    "    numFolds=2,\n",
    ")\n",
    "\n",
    "crossval_model = crossvalidator.fit(training_data)\n",
    "predictions = crossval_model.transform(validation_data)\n"
   ]
  },
  {
   "cell_type": "code",
   "execution_count": 32,
   "metadata": {},
   "outputs": [
    {
     "name": "stdout",
     "output_type": "stream",
     "text": [
      "0.8786277604574072\n"
     ]
    }
   ],
   "source": [
    "rmse = evaluator.evaluate(predictions.na.drop())\n",
    "print(rmse)"
   ]
  },
  {
   "cell_type": "code",
   "execution_count": 33,
   "metadata": {},
   "outputs": [],
   "source": [
    "model = crossval_model.bestModel"
   ]
  },
  {
   "cell_type": "code",
   "execution_count": null,
   "metadata": {},
   "outputs": [],
   "source": []
  }
 ],
 "metadata": {
  "kernelspec": {
   "display_name": "Python 3",
   "language": "python",
   "name": "python3"
  },
  "language_info": {
   "codemirror_mode": {
    "name": "ipython",
    "version": 3
   },
   "file_extension": ".py",
   "mimetype": "text/x-python",
   "name": "python",
   "nbconvert_exporter": "python",
   "pygments_lexer": "ipython3",
   "version": "3.7.3"
  }
 },
 "nbformat": 4,
 "nbformat_minor": 2
}
