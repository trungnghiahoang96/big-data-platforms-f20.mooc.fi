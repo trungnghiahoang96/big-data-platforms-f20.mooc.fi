{
 "cells": [
  {
   "cell_type": "code",
   "execution_count": 1,
   "id": "9c3d35fe-49d3-43e0-a99c-882199d9c1d5",
   "metadata": {},
   "outputs": [],
   "source": [
    "from pyspark.sql import SparkSession"
   ]
  },
  {
   "cell_type": "code",
   "execution_count": 2,
   "id": "fc91eabe-a483-4d6f-8113-e2a685b82d6e",
   "metadata": {},
   "outputs": [
    {
     "name": "stderr",
     "output_type": "stream",
     "text": [
      "Warning: Ignoring non-Spark config property: [SPARK_LOCAL_CONFIGS]\n",
      "Using Spark's default log4j profile: org/apache/spark/log4j-defaults.properties\n",
      "Setting default log level to \"WARN\".\n",
      "To adjust logging level use sc.setLogLevel(newLevel). For SparkR, use setLogLevel(newLevel).\n"
     ]
    }
   ],
   "source": [
    "spark = SparkSession.builder.appName(\"average_by_key_use_combinebykey\").getOrCreate()"
   ]
  },
  {
   "cell_type": "code",
   "execution_count": 3,
   "id": "f9bb7050-d780-4efd-9530-14973a0e3e76",
   "metadata": {},
   "outputs": [],
   "source": [
    "input = [\n",
    "    (\"k1\", 1),\n",
    "    (\"k1\", 2),\n",
    "    (\"k1\", 3),\n",
    "    (\"k1\", 4),\n",
    "    (\"k1\", 5),\n",
    "    (\"k2\", 6),\n",
    "    (\"k2\", 7),\n",
    "    (\"k2\", 8),\n",
    "    (\"k3\", 10),\n",
    "    (\"k3\", 12),\n",
    "]"
   ]
  },
  {
   "cell_type": "code",
   "execution_count": 4,
   "id": "e16ce431-76f3-452a-a6d4-a031ee637bd6",
   "metadata": {},
   "outputs": [],
   "source": [
    "rdd = spark.sparkContext.parallelize(input)"
   ]
  },
  {
   "cell_type": "code",
   "execution_count": 5,
   "id": "34da1296-9d64-409c-9d4a-abb75eb8eae3",
   "metadata": {},
   "outputs": [],
   "source": [
    "pairs = rdd.map(lambda kv: (kv[0], (kv[1], 1)))"
   ]
  },
  {
   "cell_type": "code",
   "execution_count": null,
   "id": "487bf170-80c0-4d58-ab61-ba584b660184",
   "metadata": {},
   "outputs": [],
   "source": []
  }
 ],
 "metadata": {
  "kernelspec": {
   "display_name": "Python 3 (ipykernel)",
   "language": "python",
   "name": "python3"
  },
  "language_info": {
   "codemirror_mode": {
    "name": "ipython",
    "version": 3
   },
   "file_extension": ".py",
   "mimetype": "text/x-python",
   "name": "python",
   "nbconvert_exporter": "python",
   "pygments_lexer": "ipython3",
   "version": "3.8.10"
  }
 },
 "nbformat": 4,
 "nbformat_minor": 5
}
