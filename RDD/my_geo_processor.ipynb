{
 "cells": [
  {
   "cell_type": "markdown",
   "id": "215559b4-77ee-455d-975b-6d327b6c714c",
   "metadata": {},
   "source": [
    "Before you turn this problem in, make sure everything runs as expected. First, **restart the kernel** (in the menubar, select Kernel$\\rightarrow$Restart) and then **run all cells** (in the menubar, select Cell$\\rightarrow$Run All).\n",
    "\n",
    "Make sure you fill in any place that says `YOUR CODE HERE` or \"YOUR ANSWER HERE\". You can run all the tests with the validate button. If the validate command takes too long, you can also confirm that you pass all the tests if you can run through the whole notebook without getting validation errors."
   ]
  },
  {
   "cell_type": "markdown",
   "id": "a9cf9fd0-f1dc-4fea-81c3-a992e587e1b5",
   "metadata": {},
   "source": [
    "For this problem set, we'll be using the Jupyter notebook"
   ]
  },
  {
   "cell_type": "markdown",
   "id": "ec01a504-d8d6-4bde-a589-f9eaffc5ee94",
   "metadata": {},
   "source": [
    "## RDD exercises\n",
    "\n",
    "In this notebook you will implement multiple small methods that process and analyze country, city and location data.\n",
    "\n",
    "We will use a sample data of \"allCountries.txt\" data from http://download.geonames.org/export/dump/allCountries.zip.  \n",
    "\n",
    "You can test your functions in the cell below them. The variable `testFile` contains the data.\n",
    "\n",
    "Read https://spark.apache.org/docs/latest/rdd-programming-guide.html for a guide about RDDs.\n",
    "\n",
    "### Data schema\n",
    "\n",
    "Name | Description\n",
    "------ | :-----\n",
    "geonameid         | integer id of record in geonames database  \n",
    "name              | name of geographical point (utf8) varchar(200)  \n",
    "asciiname         | name of geographical point in plain ascii characters, varchar(200)  \n",
    "alternatenames    | alternatenames, comma separated, ascii names automatically transliterated, convenience attribute from alternatename table, varchar(10000)  \n",
    "latitude          | latitude in decimal degrees (wgs84)  \n",
    "longitude         | longitude in decimal degrees (wgs84)  \n",
    "feature class     | see http://www.geonames.org/export/codes.html, char(1)  \n",
    "feature code      | see http://www.geonames.org/export/codes.html, varchar(10)  \n",
    "country code      | ISO-3166 2-letter country code, 2 characters  \n",
    "cc2               | alternate country codes, comma separated, ISO-3166 2-letter country code, 200 characters  \n",
    "admin1 code       | fipscode (subject to change to iso code), see exceptions below, see file admin1Codes.txt for display names of this code; varchar(20)  \n",
    "admin2 code       | code for the second administrative division, a county in the US, see file admin2Codes.txt; varchar(80)   \n",
    "admin3 code       | code for third level administrative division, varchar(20)  \n",
    "admin4 code       | code for fourth level administrative division, varchar(20)  \n",
    "population        | bigint (8 byte int)   \n",
    "elevation         | in meters, integer  \n",
    "dem               | digital elevation model, srtm3 or gtopo30, average elevation of 3''x3'' (ca 90mx90m) or   30''x30'' (ca 900mx900m) area in meters, integer. srtm processed by cgiar/ciat.  \n",
    "timezone          | the iana timezone id (see file timeZone.txt) varchar(40)  \n",
    "modification date | date of last modification in yyyy-MM-dd format  \n",
    "\n"
   ]
  },
  {
   "cell_type": "code",
   "execution_count": 2,
   "id": "ca704dfd-1fd2-4426-81a6-69cb20c48329",
   "metadata": {},
   "outputs": [
    {
     "name": "stderr",
     "output_type": "stream",
     "text": [
      "Warning: Ignoring non-Spark config property: [SPARK_LOCAL_CONFIGS]\n",
      "Using Spark's default log4j profile: org/apache/spark/log4j-defaults.properties\n",
      "Setting default log level to \"WARN\".\n",
      "To adjust logging level use sc.setLogLevel(newLevel). For SparkR, use setLogLevel(newLevel).\n"
     ]
    }
   ],
   "source": [
    "from pyspark import SparkConf, SparkContext\n",
    "\n",
    "sc = SparkContext(\"local\", \"GeoProcessor\")"
   ]
  },
  {
   "cell_type": "code",
   "execution_count": 67,
   "id": "f299fe83-6555-4bfe-88d3-96b83089ce97",
   "metadata": {},
   "outputs": [],
   "source": [
    "testFile = sc.textFile(\"allCountries_sample.txt\")"
   ]
  },
  {
   "cell_type": "markdown",
   "id": "a72907d0-f7b7-4357-bb22-07da0e0268bf",
   "metadata": {},
   "source": [
    "## Extract Data\n",
    "`extractData` removes unnecessary fields and splits the data so that the RDD looks like  RDD(Array(\"name\",\"countryCode\",\"dem\"),...)).\n",
    "\n",
    "Fields to include:  \n",
    "* name  \n",
    "* counryCode  \n",
    "* dem (digital elevation model)  \n",
    "\n",
    "\n",
    "param `data`: data set loaded into spark as RDD[String]  \n",
    "\n",
    "`return`: RDD containing filtered location data. There should be an Array for each location.\n",
    "\n",
    "\n",
    "Hint: you can first split each line into an array. Columns are separated by tab (\"\\t\") character. Finally you should take the appropriate fields. The fields will be numbered by the location they are ordered in the original data scheme. Despite the method's name, you might only need the `map` function.\n",
    "\n",
    "\n"
   ]
  },
  {
   "cell_type": "code",
   "execution_count": 68,
   "id": "8287e55e-c95e-4af3-90bc-e50a12675396",
   "metadata": {},
   "outputs": [],
   "source": [
    "def extractData(data):\n",
    "    return data.map(lambda line: line.split(\"\\t\")).map(\n",
    "        lambda record: [record[1], record[8], record[16]]\n",
    "    )\n",
    "\n",
    "    raise NotImplementedError()"
   ]
  },
  {
   "cell_type": "code",
   "execution_count": 69,
   "id": "4a03fff6-fdc6-46b7-9d58-bb247c7592d9",
   "metadata": {},
   "outputs": [
    {
     "data": {
      "text/plain": [
       "[['Tosa de la Llosada', 'AD', '2475'],\n",
       " ['Riu de la Llosada', 'AD', '1900'],\n",
       " ['Obaga de la Llosada', 'AD', '2300'],\n",
       " ['Emprius de la Llosada', 'AD', '2299'],\n",
       " ['Basers de la Llosada', 'AD', '2321']]"
      ]
     },
     "execution_count": 69,
     "metadata": {},
     "output_type": "execute_result"
    }
   ],
   "source": [
    "# Example print\n",
    "\n",
    "extractData(testFile).take(5)"
   ]
  },
  {
   "cell_type": "code",
   "execution_count": 70,
   "id": "2d2f9c3f-bcd8-4bfe-88af-ecf50435e400",
   "metadata": {},
   "outputs": [],
   "source": [
    "\"\"\"extractData tests\"\"\"\n",
    "filtered = extractData(testFile)\n",
    "testObject = filtered.collect()[1]\n",
    "assert testObject[0] == \"Riu de la Llosada\", (\n",
    "    \"the name value of the object was expected to be 'Riu de la Llosada' but it was %s\"\n",
    "    % testObject[0]\n",
    ")\n",
    "assert testObject[1] == \"AD\", (\n",
    "    \"the country code value of the object was expected to be 'AD' but it was %s\"\n",
    "    % testObject[1]\n",
    ")\n",
    "assert testObject[2] == \"1900\", (\n",
    "    \"the dem value of the object was expected to be 1900 but it was %s\" % testObject[2]\n",
    ")\n",
    "assert (\n",
    "    len(testObject) == 3\n",
    "), \"the length of the array was expected to be 3 but it was %s\" % len(testObject)\n",
    "assert (\n",
    "    type(testObject) is list\n",
    "), \"the type of the RDD element was expected to be list but it was %s\" % type(\n",
    "    testObject\n",
    ")"
   ]
  },
  {
   "cell_type": "markdown",
   "id": "8e0e6e11-f225-4da3-a586-091a20726aa0",
   "metadata": {},
   "source": [
    "## Filter Elevation\n",
    "\n",
    "`filterElevation` is used to filter an RDD to given country code and return an RDD containing only dem information. You will have to convert the dem information to `int` values.\n",
    "\n",
    "param `countryCode`: country code e.g \"AD\"  \n",
    "param `data`: an RDD containing multiple Array[\"name\", \"countryCode\", \"dem\"] (as in it was returned by the `extractData` function)   \n",
    "\n",
    "`return`: RDD[int] containing only dem information related to the country code  \n"
   ]
  },
  {
   "cell_type": "code",
   "execution_count": 71,
   "id": "effab681-50e5-468b-980d-96551d2fe6a0",
   "metadata": {},
   "outputs": [],
   "source": [
    "def filterElevation(countryCode, data):\n",
    "    return data.filter(lambda record, param=countryCode: record[1] == param).map(\n",
    "        lambda record: int(record[2])\n",
    "    )\n",
    "\n",
    "    raise NotImplementedError()"
   ]
  },
  {
   "cell_type": "code",
   "execution_count": 72,
   "id": "762629fd-f5d3-4e75-90e5-5dda0f691a12",
   "metadata": {},
   "outputs": [
    {
     "data": {
      "text/plain": [
       "[2475, 1900, 2300, 2299, 2321]"
      ]
     },
     "execution_count": 72,
     "metadata": {},
     "output_type": "execute_result"
    }
   ],
   "source": [
    "# Example print\n",
    "\n",
    "filterElevation(\"AD\", extractData(testFile)).take(5)"
   ]
  },
  {
   "cell_type": "code",
   "execution_count": 73,
   "id": "ca2dd24c-d046-4eb1-8cee-b39fb8aa42d0",
   "metadata": {},
   "outputs": [],
   "source": [
    "\"\"\"filterElevation tests\"\"\"\n",
    "filtered = extractData(testFile)\n",
    "first = filterElevation(\"SE\", filtered).first()\n",
    "assert (\n",
    "    type(first) is int\n",
    "), \"the type of the RDD element was expected to be int but it was %s\" % type(first)\n",
    "assert first == 56, (\n",
    "    \"the value of the RDD element was expected to be 56 but it was %s\" % first\n",
    ")\n",
    "object = filterElevation(\"AD\", filtered).collect()[4]\n",
    "assert object == 2321, (\n",
    "    \"the value of the RDD element was expected to be 2321 but it was %s\" % object\n",
    ")"
   ]
  },
  {
   "cell_type": "markdown",
   "id": "828139e8-7096-47cb-abee-34f9ad36e203",
   "metadata": {},
   "source": [
    "## Elevation Average\n",
    "\n",
    "`elevationAverage` calculates the dem average to specific dataset.  \n",
    "\n",
    "param `data`: RDD[int] containing only dem information  \n",
    "\n",
    "`return`: The average elevation  \n"
   ]
  },
  {
   "cell_type": "code",
   "execution_count": 74,
   "id": "a7629d1f-649b-4765-be9c-4dd7e5c68262",
   "metadata": {},
   "outputs": [],
   "source": [
    "def elevationAverage(data):\n",
    "    return (\n",
    "        data.map(lambda dem: (1, (dem, 1)))\n",
    "        .reduceByKey(lambda x, y: ((x[0] + y[0], x[1] + y[1])))\n",
    "        .mapValues(lambda total: total[0] / total[1])\n",
    "        .collectAsMap()\n",
    "        .get(1, float(0.0))\n",
    "    )\n",
    "\n",
    "    raise NotImplementedError()"
   ]
  },
  {
   "cell_type": "code",
   "execution_count": 75,
   "id": "216cd5f4-ac6d-4100-b2eb-3867efe0b7e3",
   "metadata": {},
   "outputs": [
    {
     "data": {
      "text/plain": [
       "2259.0"
      ]
     },
     "execution_count": 75,
     "metadata": {},
     "output_type": "execute_result"
    }
   ],
   "source": [
    "# Example print\n",
    "\n",
    "elevationAverage(sc.parallelize(filterElevation(\"AD\", extractData(testFile)).take(5)))"
   ]
  },
  {
   "cell_type": "code",
   "execution_count": 76,
   "id": "8ff64a87-5704-4c11-a8ca-44c50ef185f7",
   "metadata": {},
   "outputs": [],
   "source": [
    "\"\"\"elevationAverage tests\"\"\"\n",
    "avg = elevationAverage(sc.parallelize([1, 2, 3, 4]))\n",
    "assert abs(avg - 2.5) < 0.00001, (\n",
    "    \"the average was expected to be 2.5 but it was %s\" % avg\n",
    ")\n",
    "filtered = extractData(testFile)\n",
    "elevations = filterElevation(\"AD\", filtered)\n",
    "avg2 = elevationAverage(elevations)\n",
    "assert abs(avg2 - 1792.25) < 0.00001, (\n",
    "    \"the average was expected to be 1792.25 but it was %s\" % avg2\n",
    ")\n",
    "assert (\n",
    "    type(avg2) is float\n",
    "), \"the type of the RDD element was expected to be float but it was %s\" % type(avg2)"
   ]
  },
  {
   "cell_type": "markdown",
   "id": "1bb7bb52-d691-470b-951b-fd15ad7dad64",
   "metadata": {},
   "source": [
    "## Most Common Words\n",
    "\n",
    "`mostCommonWords` calculates what is the most common  word in place names and returns an RDD[(String,Int)]. You can assume that words are separated by a single space ' '.\n",
    "\n",
    "param `data`: an RDD containing multiple Array[\"name\", \"countryCode\", \"dem\"].  \n",
    "\n",
    "`return`: RDD[(String,Int)] where string is the word and Int number of occurances. RDD should be in descending order (sorted by number of occurances). e.g (\"hotel\", 234), (\"airport\", 120), (\"new\", 12). \n",
    "\n",
    "Example:  \n",
    "Assume that the place name is \"Andorra la Vella Heliport\". We split the name so that we have 4 seperate words \"Andorra\", \"la\", \"Vella\" and \"Heliport\".\n"
   ]
  },
  {
   "cell_type": "code",
   "execution_count": 77,
   "id": "dfe9a662-7a5e-4901-99fc-77eef40c3bf1",
   "metadata": {},
   "outputs": [],
   "source": [
    "def mostCommonWords(data):\n",
    "    return (\n",
    "        data.flatMap(lambda record: record[0].split(\" \"))\n",
    "        .map(lambda word: (word, 1))\n",
    "        .reduceByKey(lambda x, y: x + y)\n",
    "        .sortBy(lambda a: a[1], ascending=False)\n",
    "    )\n",
    "\n",
    "    raise NotImplementedError()"
   ]
  },
  {
   "cell_type": "code",
   "execution_count": 78,
   "id": "283468fd-befa-4516-8a86-ee8b1cc229c1",
   "metadata": {},
   "outputs": [
    {
     "data": {
      "text/plain": [
       "[('Hotel', 22), ('de', 15), ('la', 12), ('Hotell', 7), ('dels', 6)]"
      ]
     },
     "execution_count": 78,
     "metadata": {},
     "output_type": "execute_result"
    }
   ],
   "source": [
    "# Example print\n",
    "\n",
    "mostCommonWords(extractData(testFile)).take(5)"
   ]
  },
  {
   "cell_type": "code",
   "execution_count": 79,
   "id": "cb4905a1-ef53-4177-816b-9e894768a744",
   "metadata": {},
   "outputs": [],
   "source": [
    "\"\"\"mostCommonWords tests\"\"\"\n",
    "filtered = extractData(testFile)\n",
    "words = mostCommonWords(filtered).collect()\n",
    "first = words[0]\n",
    "second = words[1]\n",
    "third = words[2]\n",
    "assert (\n",
    "    type(first[0]) is str\n",
    "), \"the type of the first value in array was expected to be str but it was %s\" % type(\n",
    "    first[0]\n",
    ")\n",
    "assert (\n",
    "    type(first[1]) is int\n",
    "), \"the type of the second value in array was expected to be int but it was %s\" % type(\n",
    "    first[1]\n",
    ")\n",
    "assert (\n",
    "    first[1] >= second[1]\n",
    "), \"the first element in RDD was expected to have more occurances than the second\"\n",
    "assert first[0] == \"Hotel\", (\n",
    "    \"the first element was expected to be named Hotel but it was %s\" % first[0]\n",
    ")\n",
    "assert first[1] == 22, (\n",
    "    \"the count of the first element was expected to be 22 but it was %s\" % first[1]\n",
    ")\n",
    "assert third[0] == \"la\", (\n",
    "    \"the third element was expected to be named 'la' but it was %s\" % third[0]\n",
    ")"
   ]
  },
  {
   "cell_type": "code",
   "execution_count": 80,
   "id": "8fe2550f-019c-49d7-a8a0-77930aa0f5a3",
   "metadata": {},
   "outputs": [],
   "source": [
    "countryCodes = sc.textFile(\"countrycodes.csv\")\n",
    "\n",
    "\n",
    "def mostCommonCountry(data, codeData):\n",
    "    country_code = (\n",
    "        data.map(lambda record: (record[1], 1))\n",
    "        .reduceByKey(lambda x, y: x + y)\n",
    "        .sortBy(lambda key: key[1], ascending=False)\n",
    "        .take(1)[0][0]\n",
    "    )\n",
    "    pre_result = (\n",
    "        codeData.filter(lambda a, c=country_code: a[-2:] == c)\n",
    "        .map(lambda a: a[:-3])\n",
    "        .collect()\n",
    "    )\n",
    "    if len(pre_result):\n",
    "        return pre_result[0]\n",
    "    else:\n",
    "        return \"\"\n",
    "\n",
    "    raise NotImplementedError()"
   ]
  },
  {
   "cell_type": "code",
   "execution_count": 81,
   "id": "1ab83e77-6a40-417e-9a53-b5d623010d2c",
   "metadata": {},
   "outputs": [
    {
     "data": {
      "text/plain": [
       "'Sweden'"
      ]
     },
     "execution_count": 81,
     "metadata": {},
     "output_type": "execute_result"
    }
   ],
   "source": [
    "# Example print\n",
    "\n",
    "mostCommonCountry(extractData(testFile), countryCodes)"
   ]
  },
  {
   "cell_type": "code",
   "execution_count": 82,
   "id": "a0e1c25b-d588-489f-b5df-2ec7dad02604",
   "metadata": {},
   "outputs": [],
   "source": [
    "\"\"\"mostCommonCountry tests\"\"\"\n",
    "filtered = extractData(testFile)\n",
    "mostCommon = mostCommonCountry(filtered, countryCodes)\n",
    "assert (\n",
    "    type(mostCommon) is str\n",
    "), \"the type of the returned object was expected to be str but it was %s\" % type(\n",
    "    mostCommon\n",
    ")\n",
    "assert mostCommon == \"Sweden\", (\n",
    "    \"the most common was expected to be Sweden but it was %s\" % mostCommon\n",
    ")\n",
    "mostCommon2 = mostCommonCountry(sc.parallelize(filtered.take(40)), countryCodes)\n",
    "assert mostCommon2 == \"Andorra\", (\n",
    "    \"the most common was expected to be Andorra but it was %s\" % mostCommon2\n",
    ")\n",
    "false = sc.parallelize([[\"a\", \"AA\", 123], [\"b\", \"AA\", 1234]])\n",
    "assert (\n",
    "    mostCommonCountry(false, countryCodes) == \"\"\n",
    "), \"The method was expected to return empty when called with false data\""
   ]
  },
  {
   "cell_type": "markdown",
   "id": "97c751ee-8441-463d-a8f9-00e42b860598",
   "metadata": {},
   "source": [
    "## Hotels In Area\n",
    "\n",
    "`hotelsInArea` determines how many hotels there are within 10 km (<=10000.0) from given latitude and longitude.\n",
    "Use Haversine formula ( https://en.wikipedia.org/wiki/Haversine_formula ). Earth radius is 6371000 meters. \n",
    "\n",
    "In this exercise you should use the asciiname field instead of name. Start by reading the data and getting the correct fields (asciiname, latitude, longitude) similarly to the `extractData` function. After that you should use the Haversine formula to filter the places in 10 Km radius from the latitude and longitude. You will probably want to use a helper function, Python lets you create functions inside functions. Finally, you will want to filter the places that contain the word \"hotel\". Location is a hotel if the name contains the word \"hotel\" (can be \"Hotel\" or \"hOtel\" for instance). There can exist multiple hotels in the same location. You should not count the same hotel multiple times.\n",
    "\n",
    "Note that both latitude and longitude in the data are in decimal degree so you have to change them to radians ( https://en.wikipedia.org/wiki/Decimal_degrees ). They should also be converted to double values. E.g `math.radians(float(x))`\n",
    "\n",
    "param `lat`: latitude as Double  \n",
    "param `long`: longitude as Double  \n",
    "param `data`: the original data set loaded into spark as RDD[String].  \n",
    "\n",
    "`return`: number of hotels in area\n"
   ]
  },
  {
   "cell_type": "code",
   "execution_count": 108,
   "id": "b30b3e50-fcd5-40be-bfb0-0d5bf243e14a",
   "metadata": {},
   "outputs": [],
   "source": [
    "import math\n",
    "\n",
    "\n",
    "def hotelsInArea(lat, long, data):\n",
    "    def filter_distance(lat1, long1, lat2=lat, long2=long):\n",
    "        from math import asin, atan2, cos, radians, sin, sqrt\n",
    "\n",
    "        lat1, long1, lat2, long2 = map(\n",
    "            lambda x: radians(float(x)), [lat1, long1, lat2, long2]\n",
    "        )\n",
    "        dlong = long2 - long1\n",
    "        dlat = lat2 - lat1\n",
    "        a = sin(dlat / 2.0) ** 2 + cos(lat1) * cos(lat2) * sin(dlong / 2.0) ** 2\n",
    "        c = 2.0 * asin(sqrt(a))\n",
    "        m = 6371000 * c\n",
    "        if m <= 10000.0:\n",
    "            return True\n",
    "        else:\n",
    "            return False\n",
    "\n",
    "    return (\n",
    "        data.map(lambda line: line.split(\"\\t\"))\n",
    "        .map(lambda record: [record[2], float(record[4]), float(record[5])])\n",
    "        .filter(lambda record: filter_distance(record[1], record[2]))\n",
    "        .filter(lambda name: \"hotel\" in name[0].lower().split(\" \"))\n",
    "        .map(lambda record: record[0])\n",
    "        .distinct()\n",
    "        .count()\n",
    "    )\n",
    "\n",
    "    raise NotImplementedError()"
   ]
  },
  {
   "cell_type": "code",
   "execution_count": 112,
   "id": "2702e213-e1ee-4a34-b6c5-2735cb31062a",
   "metadata": {},
   "outputs": [
    {
     "data": {
      "text/plain": [
       "[['Hotel Terminus', 59.33076, 18.05971],\n",
       " ['ESPLANADE HOTEL - STOCKHOLM', 59.332, 18.0619],\n",
       " ['Scandic Hotel Foresta', 59.36, 18.1211],\n",
       " ['ibis Styles Stockholm Odenplan', 59.3424, 18.0467],\n",
       " ['Vasaparken', 59.34026, 18.04367],\n",
       " ['Odenplan', 59.34275, 18.04908],\n",
       " ['Roedabergen', 59.3442, 18.03539],\n",
       " ['Vanadisbadet', 59.34831, 18.05243]]"
      ]
     },
     "execution_count": 112,
     "metadata": {},
     "output_type": "execute_result"
    }
   ],
   "source": [
    "# Example print\n",
    "hotelsInArea(59.334591, 18.063240, testFile)"
   ]
  },
  {
   "cell_type": "code",
   "execution_count": 113,
   "id": "58e30b87-e3c6-4039-a4be-bd5a2f94f82b",
   "metadata": {},
   "outputs": [
    {
     "ename": "AssertionError",
     "evalue": "the number of hotels was expected to be 0 but it was [['Tosa de la Llosada', 42.55129, 1.64243], ['Riu de la Llosada', 42.53619, 1.61625], ['Obaga de la Llosada', 42.54673, 1.6326], ['Emprius de la Llosada', 42.5463, 1.6213], ['Basers de la Llosada', 42.55113, 1.63183], ['Grau de la Llosa', 42.62194, 1.55236], ['Collet de la Llosa', 42.57032, 1.50283], ['Clots de la Llosa', 42.61333, 1.6217], ['Canal de la Llosa', 42.56359, 1.49179], ['Llorts', 42.59625, 1.52658], ['Canal de les Llongues', 42.55579, 1.50617], ['Bosc de les Llongues', 42.55721, 1.51093], ['Pleta del Llomar', 42.6142, 1.56759], ['Clot del Llomar', 42.52741, 1.47854], ['Cami de la Llobatera', 42.54812, 1.50327], ['Canal Llisa', 42.57599, 1.51529], ['Canal Llisa', 42.53102, 1.58401], ['Bosc de Llevai', 42.5307, 1.5444], ['Basers de la Llessa', 42.48608, 1.50702], ['Planell de la Llentiga', 42.60461, 1.52266], ['Barranc del Llempo', 42.5514, 1.50873], ['Casa Llecsia', 42.57104, 1.60069], ['Borda del Llecsia', 42.58495, 1.60095]]",
     "output_type": "error",
     "traceback": [
      "\u001b[0;31m---------------------------------------------------------------------------\u001b[0m",
      "\u001b[0;31mAssertionError\u001b[0m                            Traceback (most recent call last)",
      "\u001b[0;32m/tmp/ipykernel_225418/1890704682.py\u001b[0m in \u001b[0;36m<module>\u001b[0;34m\u001b[0m\n\u001b[1;32m      3\u001b[0m \u001b[0ma2\u001b[0m \u001b[0;34m=\u001b[0m \u001b[0mhotelsInArea\u001b[0m\u001b[0;34m(\u001b[0m\u001b[0;36m59.334591\u001b[0m\u001b[0;34m,\u001b[0m \u001b[0;36m18.063240\u001b[0m\u001b[0;34m,\u001b[0m \u001b[0mtestFile\u001b[0m\u001b[0;34m)\u001b[0m\u001b[0;34m\u001b[0m\u001b[0;34m\u001b[0m\u001b[0m\n\u001b[1;32m      4\u001b[0m \u001b[0ma3\u001b[0m \u001b[0;34m=\u001b[0m \u001b[0mhotelsInArea\u001b[0m\u001b[0;34m(\u001b[0m\u001b[0;36m63.8532\u001b[0m\u001b[0;34m,\u001b[0m \u001b[0;36m15.5652\u001b[0m\u001b[0;34m,\u001b[0m \u001b[0mtestFile\u001b[0m\u001b[0;34m)\u001b[0m\u001b[0;34m\u001b[0m\u001b[0;34m\u001b[0m\u001b[0m\n\u001b[0;32m----> 5\u001b[0;31m \u001b[0;32massert\u001b[0m \u001b[0ma1\u001b[0m \u001b[0;34m==\u001b[0m \u001b[0;36m0\u001b[0m\u001b[0;34m,\u001b[0m \u001b[0;34m\"the number of hotels was expected to be 0 but it was %s\"\u001b[0m \u001b[0;34m%\u001b[0m \u001b[0ma1\u001b[0m\u001b[0;34m\u001b[0m\u001b[0;34m\u001b[0m\u001b[0m\n\u001b[0m\u001b[1;32m      6\u001b[0m \u001b[0;32massert\u001b[0m \u001b[0ma2\u001b[0m \u001b[0;34m==\u001b[0m \u001b[0;36m3\u001b[0m\u001b[0;34m,\u001b[0m \u001b[0;34m\"the number of hotels was expected to be 3 but it was %s\"\u001b[0m \u001b[0;34m%\u001b[0m \u001b[0ma2\u001b[0m\u001b[0;34m\u001b[0m\u001b[0;34m\u001b[0m\u001b[0m\n\u001b[1;32m      7\u001b[0m \u001b[0;32massert\u001b[0m \u001b[0ma3\u001b[0m \u001b[0;34m==\u001b[0m \u001b[0;36m1\u001b[0m\u001b[0;34m,\u001b[0m \u001b[0;34m\"the number of hotels was expected to be 1 but it was %s\"\u001b[0m \u001b[0;34m%\u001b[0m \u001b[0ma3\u001b[0m\u001b[0;34m\u001b[0m\u001b[0;34m\u001b[0m\u001b[0m\n",
      "\u001b[0;31mAssertionError\u001b[0m: the number of hotels was expected to be 0 but it was [['Tosa de la Llosada', 42.55129, 1.64243], ['Riu de la Llosada', 42.53619, 1.61625], ['Obaga de la Llosada', 42.54673, 1.6326], ['Emprius de la Llosada', 42.5463, 1.6213], ['Basers de la Llosada', 42.55113, 1.63183], ['Grau de la Llosa', 42.62194, 1.55236], ['Collet de la Llosa', 42.57032, 1.50283], ['Clots de la Llosa', 42.61333, 1.6217], ['Canal de la Llosa', 42.56359, 1.49179], ['Llorts', 42.59625, 1.52658], ['Canal de les Llongues', 42.55579, 1.50617], ['Bosc de les Llongues', 42.55721, 1.51093], ['Pleta del Llomar', 42.6142, 1.56759], ['Clot del Llomar', 42.52741, 1.47854], ['Cami de la Llobatera', 42.54812, 1.50327], ['Canal Llisa', 42.57599, 1.51529], ['Canal Llisa', 42.53102, 1.58401], ['Bosc de Llevai', 42.5307, 1.5444], ['Basers de la Llessa', 42.48608, 1.50702], ['Planell de la Llentiga', 42.60461, 1.52266], ['Barranc del Llempo', 42.5514, 1.50873], ['Casa Llecsia', 42.57104, 1.60069], ['Borda del Llecsia', 42.58495, 1.60095]]"
     ]
    }
   ],
   "source": [
    "\"\"\"hotelsInArea tests\"\"\"\n",
    "a1 = hotelsInArea(42.5423, 1.5977, testFile)\n",
    "a2 = hotelsInArea(59.334591, 18.063240, testFile)\n",
    "a3 = hotelsInArea(63.8532, 15.5652, testFile)\n",
    "assert a1 == 0, \"the number of hotels was expected to be 0 but it was %s\" % a1\n",
    "assert a2 == 3, \"the number of hotels was expected to be 3 but it was %s\" % a2\n",
    "assert a3 == 1, \"the number of hotels was expected to be 1 but it was %s\" % a3"
   ]
  },
  {
   "cell_type": "code",
   "execution_count": null,
   "id": "8b8f82d5-0a90-4125-99d2-d1fee609f7c4",
   "metadata": {},
   "outputs": [],
   "source": [
    "sc.stop()"
   ]
  }
 ],
 "metadata": {
  "kernelspec": {
   "display_name": "Python 3 (ipykernel)",
   "language": "python",
   "name": "python3"
  },
  "language_info": {
   "codemirror_mode": {
    "name": "ipython",
    "version": 3
   },
   "file_extension": ".py",
   "mimetype": "text/x-python",
   "name": "python",
   "nbconvert_exporter": "python",
   "pygments_lexer": "ipython3",
   "version": "3.8.10"
  }
 },
 "nbformat": 4,
 "nbformat_minor": 5
}
