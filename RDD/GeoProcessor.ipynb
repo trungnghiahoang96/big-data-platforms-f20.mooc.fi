{
 "cells": [
  {
   "cell_type": "markdown",
   "metadata": {},
   "source": [
    "Before you turn this problem in, make sure everything runs as expected. First, **restart the kernel** (in the menubar, select Kernel$\\rightarrow$Restart) and then **run all cells** (in the menubar, select Cell$\\rightarrow$Run All).\n",
    "\n",
    "Make sure you fill in any place that says `YOUR CODE HERE` or \"YOUR ANSWER HERE\". You can run all the tests with the validate button. If the validate command takes too long, you can also confirm that you pass all the tests if you can run through the whole notebook without getting validation errors."
   ]
  },
  {
   "cell_type": "markdown",
   "metadata": {
    "deletable": false,
    "editable": false,
    "nbgrader": {
     "cell_type": "markdown",
     "checksum": "57ad0738186ea0626c4fd4b92ce514a9",
     "grade": false,
     "grade_id": "cell-48610d55a376a686",
     "locked": true,
     "schema_version": 3,
     "solution": false,
     "task": false
    }
   },
   "source": [
    "For this problem set, we'll be using the Jupyter notebook:\n",
    "\n",
    "![](jupyter.png)"
   ]
  },
  {
   "cell_type": "markdown",
   "metadata": {
    "deletable": false,
    "editable": false,
    "nbgrader": {
     "cell_type": "markdown",
     "checksum": "19a3a33657e257621fe68f8eb2797914",
     "grade": false,
     "grade_id": "cell-2d783fb12da153ff",
     "locked": true,
     "schema_version": 3,
     "solution": false,
     "task": false
    }
   },
   "source": [
    "## RDD exercises\n",
    "\n",
    "In this notebook you will implement multiple small methods that process and analyze country, city and location data.\n",
    "\n",
    "We will use a sample data of \"allCountries.txt\" data from http://download.geonames.org/export/dump/allCountries.zip.  \n",
    "\n",
    "You can test your functions in the cell below them. The variable `testFile` contains the data.\n",
    "\n",
    "Read https://spark.apache.org/docs/latest/rdd-programming-guide.html for a guide about RDDs.\n",
    "\n",
    "### Data schema\n",
    "\n",
    "Name | Description\n",
    "------ | :-----\n",
    "geonameid         | integer id of record in geonames database  \n",
    "name              | name of geographical point (utf8) varchar(200)  \n",
    "asciiname         | name of geographical point in plain ascii characters, varchar(200)  \n",
    "alternatenames    | alternatenames, comma separated, ascii names automatically transliterated, convenience attribute from alternatename table, varchar(10000)  \n",
    "latitude          | latitude in decimal degrees (wgs84)  \n",
    "longitude         | longitude in decimal degrees (wgs84)  \n",
    "feature class     | see http://www.geonames.org/export/codes.html, char(1)  \n",
    "feature code      | see http://www.geonames.org/export/codes.html, varchar(10)  \n",
    "country code      | ISO-3166 2-letter country code, 2 characters  \n",
    "cc2               | alternate country codes, comma separated, ISO-3166 2-letter country code, 200 characters  \n",
    "admin1 code       | fipscode (subject to change to iso code), see exceptions below, see file admin1Codes.txt for display names of this code; varchar(20)  \n",
    "admin2 code       | code for the second administrative division, a county in the US, see file admin2Codes.txt; varchar(80)   \n",
    "admin3 code       | code for third level administrative division, varchar(20)  \n",
    "admin4 code       | code for fourth level administrative division, varchar(20)  \n",
    "population        | bigint (8 byte int)   \n",
    "elevation         | in meters, integer  \n",
    "dem               | digital elevation model, srtm3 or gtopo30, average elevation of 3''x3'' (ca 90mx90m) or   30''x30'' (ca 900mx900m) area in meters, integer. srtm processed by cgiar/ciat.  \n",
    "timezone          | the iana timezone id (see file timeZone.txt) varchar(40)  \n",
    "modification date | date of last modification in yyyy-MM-dd format  \n",
    "\n"
   ]
  },
  {
   "cell_type": "code",
   "execution_count": 1,
   "metadata": {
    "deletable": false,
    "editable": false,
    "nbgrader": {
     "cell_type": "code",
     "checksum": "01dac3c725e34aef207f3ad81017e047",
     "grade": false,
     "grade_id": "cell-9c0f982bcf421381",
     "locked": true,
     "schema_version": 3,
     "solution": false,
     "task": false
    }
   },
   "outputs": [
    {
     "name": "stderr",
     "output_type": "stream",
     "text": [
      "Warning: Ignoring non-Spark config property: [SPARK_LOCAL_CONFIGS]\n",
      "Using Spark's default log4j profile: org/apache/spark/log4j-defaults.properties\n",
      "Setting default log level to \"WARN\".\n",
      "To adjust logging level use sc.setLogLevel(newLevel). For SparkR, use setLogLevel(newLevel).\n",
      "21/10/02 18:11:34 WARN Utils: Service 'SparkUI' could not bind on port 4040. Attempting port 4041.\n"
     ]
    }
   ],
   "source": [
    "from pyspark import SparkContext, SparkConf\n",
    "sc = SparkContext(\"local\",\"GeoProcessor\")\n",
    "testFile = sc.textFile(\"allCountries_sample.txt\")"
   ]
  },
  {
   "cell_type": "markdown",
   "metadata": {
    "deletable": false,
    "editable": false,
    "nbgrader": {
     "cell_type": "markdown",
     "checksum": "bdbbf7eb919e2b87aa990229d82bb995",
     "grade": false,
     "grade_id": "cell-b6cf075c1a4b0de3",
     "locked": true,
     "schema_version": 3,
     "solution": false,
     "task": false
    }
   },
   "source": [
    "## Extract Data\n",
    "`extractData` removes unnecessary fields and splits the data so that the RDD looks like  RDD(Array(\"name\",\"countryCode\",\"dem\"),...)).\n",
    "\n",
    "Fields to include:  \n",
    "* name  \n",
    "* counryCode  \n",
    "* dem (digital elevation model)  \n",
    "\n",
    "\n",
    "param `data`: data set loaded into spark as RDD[String]  \n",
    "\n",
    "`return`: RDD containing filtered location data. There should be an Array for each location.\n",
    "\n",
    "\n",
    "Hint: you can first split each line into an array. Columns are separated by tab (\"\\t\") character. Finally you should take the appropriate fields. The fields will be numbered by the location they are ordered in the original data scheme. Despite the method's name, you might only need the `map` function.\n",
    "\n",
    "\n"
   ]
  },
  {
   "cell_type": "code",
   "execution_count": 2,
   "metadata": {
    "deletable": false,
    "nbgrader": {
     "cell_type": "code",
     "checksum": "81e282a90f6502457c4c49e504393561",
     "grade": false,
     "grade_id": "cell-2aad3cb19270b166",
     "locked": false,
     "schema_version": 3,
     "solution": true,
     "task": false
    }
   },
   "outputs": [],
   "source": [
    "def extractData(data):\n",
    "    return data  \\\n",
    "        .map(lambda line: line.split(\"\\t\"))  \\\n",
    "        .map(lambda record: [record[1], record[8], record[16]])\n",
    "\n",
    "    raise NotImplementedError()"
   ]
  },
  {
   "cell_type": "code",
   "execution_count": 3,
   "metadata": {},
   "outputs": [
    {
     "name": "stderr",
     "output_type": "stream",
     "text": [
      "                                                                                \r"
     ]
    },
    {
     "data": {
      "text/plain": [
       "[['Tosa de la Llosada', 'AD', '2475'],\n",
       " ['Riu de la Llosada', 'AD', '1900'],\n",
       " ['Obaga de la Llosada', 'AD', '2300'],\n",
       " ['Emprius de la Llosada', 'AD', '2299'],\n",
       " ['Basers de la Llosada', 'AD', '2321']]"
      ]
     },
     "execution_count": 3,
     "metadata": {},
     "output_type": "execute_result"
    }
   ],
   "source": [
    "#Example print\n",
    "\n",
    "extractData(testFile).take(5)"
   ]
  },
  {
   "cell_type": "code",
   "execution_count": 43,
   "metadata": {
    "deletable": false,
    "editable": false,
    "nbgrader": {
     "cell_type": "code",
     "checksum": "507de53415d81e081921e4060785df3d",
     "grade": true,
     "grade_id": "cell-830b55ca4fbd9b55",
     "locked": true,
     "points": 1,
     "schema_version": 3,
     "solution": false,
     "task": false
    }
   },
   "outputs": [],
   "source": [
    "'''extractData tests'''\n",
    "filtered = extractData(testFile)\n",
    "testObject = filtered.collect()[1]\n",
    "assert testObject[0] == \"Riu de la Llosada\", \"the name value of the object was expected to be 'Riu de la Llosada' but it was %s\" % testObject[0]\n",
    "assert testObject[1] == \"AD\", \"the country code value of the object was expected to be 'AD' but it was %s\" % testObject[1]\n",
    "assert testObject[2] == \"1900\", \"the dem value of the object was expected to be 1900 but it was %s\" % testObject[2]\n",
    "assert len(testObject) == 3, \"the length of the array was expected to be 3 but it was %s\" % len(testObject)\n",
    "assert type(testObject) is list, \"the type of the RDD element was expected to be list but it was %s\" % type(testObject)"
   ]
  },
  {
   "cell_type": "code",
   "execution_count": 4,
   "metadata": {},
   "outputs": [
    {
     "ename": "Py4JJavaError",
     "evalue": "An error occurred while calling z:org.apache.spark.api.python.PythonRDD.collectAndServe.\n: org.apache.hadoop.mapred.InvalidInputException: Input path does not exist: file:/home/nghiaht7/data-engineer/big-data-platforms-f20.mooc.fi/RDD/hotel_data.txt\n\tat org.apache.hadoop.mapred.FileInputFormat.singleThreadedListStatus(FileInputFormat.java:297)\n\tat org.apache.hadoop.mapred.FileInputFormat.listStatus(FileInputFormat.java:239)\n\tat org.apache.hadoop.mapred.FileInputFormat.getSplits(FileInputFormat.java:325)\n\tat org.apache.spark.rdd.HadoopRDD.getPartitions(HadoopRDD.scala:205)\n\tat org.apache.spark.rdd.RDD.$anonfun$partitions$2(RDD.scala:300)\n\tat scala.Option.getOrElse(Option.scala:189)\n\tat org.apache.spark.rdd.RDD.partitions(RDD.scala:296)\n\tat org.apache.spark.rdd.MapPartitionsRDD.getPartitions(MapPartitionsRDD.scala:49)\n\tat org.apache.spark.rdd.RDD.$anonfun$partitions$2(RDD.scala:300)\n\tat scala.Option.getOrElse(Option.scala:189)\n\tat org.apache.spark.rdd.RDD.partitions(RDD.scala:296)\n\tat org.apache.spark.api.python.PythonRDD.getPartitions(PythonRDD.scala:55)\n\tat org.apache.spark.rdd.RDD.$anonfun$partitions$2(RDD.scala:300)\n\tat scala.Option.getOrElse(Option.scala:189)\n\tat org.apache.spark.rdd.RDD.partitions(RDD.scala:296)\n\tat org.apache.spark.SparkContext.runJob(SparkContext.scala:2261)\n\tat org.apache.spark.rdd.RDD.$anonfun$collect$1(RDD.scala:1030)\n\tat org.apache.spark.rdd.RDDOperationScope$.withScope(RDDOperationScope.scala:151)\n\tat org.apache.spark.rdd.RDDOperationScope$.withScope(RDDOperationScope.scala:112)\n\tat org.apache.spark.rdd.RDD.withScope(RDD.scala:414)\n\tat org.apache.spark.rdd.RDD.collect(RDD.scala:1029)\n\tat org.apache.spark.api.python.PythonRDD$.collectAndServe(PythonRDD.scala:180)\n\tat org.apache.spark.api.python.PythonRDD.collectAndServe(PythonRDD.scala)\n\tat sun.reflect.NativeMethodAccessorImpl.invoke0(Native Method)\n\tat sun.reflect.NativeMethodAccessorImpl.invoke(NativeMethodAccessorImpl.java:62)\n\tat sun.reflect.DelegatingMethodAccessorImpl.invoke(DelegatingMethodAccessorImpl.java:43)\n\tat java.lang.reflect.Method.invoke(Method.java:498)\n\tat py4j.reflection.MethodInvoker.invoke(MethodInvoker.java:244)\n\tat py4j.reflection.ReflectionEngine.invoke(ReflectionEngine.java:357)\n\tat py4j.Gateway.invoke(Gateway.java:282)\n\tat py4j.commands.AbstractCommand.invokeMethod(AbstractCommand.java:132)\n\tat py4j.commands.CallCommand.execute(CallCommand.java:79)\n\tat py4j.GatewayConnection.run(GatewayConnection.java:238)\n\tat java.lang.Thread.run(Thread.java:748)\n",
     "output_type": "error",
     "traceback": [
      "\u001b[0;31m---------------------------------------------------------------------------\u001b[0m",
      "\u001b[0;31mPy4JJavaError\u001b[0m                             Traceback (most recent call last)",
      "\u001b[0;32m/tmp/ipykernel_193220/695311053.py\u001b[0m in \u001b[0;36m<module>\u001b[0;34m\u001b[0m\n\u001b[1;32m     11\u001b[0m \u001b[0;32mimport\u001b[0m \u001b[0mrandom\u001b[0m\u001b[0;34m\u001b[0m\u001b[0;34m\u001b[0m\u001b[0m\n\u001b[1;32m     12\u001b[0m \u001b[0;34m\u001b[0m\u001b[0m\n\u001b[0;32m---> 13\u001b[0;31m \u001b[0mrandom\u001b[0m\u001b[0;34m.\u001b[0m\u001b[0mseed\u001b[0m\u001b[0;34m(\u001b[0m\u001b[0mtestFile2\u001b[0m\u001b[0;34m.\u001b[0m\u001b[0mcount\u001b[0m\u001b[0;34m(\u001b[0m\u001b[0;34m)\u001b[0m\u001b[0;34m)\u001b[0m\u001b[0;34m\u001b[0m\u001b[0;34m\u001b[0m\u001b[0m\n\u001b[0m\u001b[1;32m     14\u001b[0m \u001b[0mdata\u001b[0m \u001b[0;34m=\u001b[0m \u001b[0mtestFile2\u001b[0m\u001b[0;34m.\u001b[0m\u001b[0msample\u001b[0m\u001b[0;34m(\u001b[0m\u001b[0;32mFalse\u001b[0m\u001b[0;34m,\u001b[0m \u001b[0;36m0.5\u001b[0m\u001b[0;34m,\u001b[0m \u001b[0mrandom\u001b[0m\u001b[0;34m.\u001b[0m\u001b[0mrandint\u001b[0m\u001b[0;34m(\u001b[0m\u001b[0;36m0\u001b[0m\u001b[0;34m,\u001b[0m \u001b[0;36m10000\u001b[0m\u001b[0;34m)\u001b[0m\u001b[0;34m)\u001b[0m\u001b[0;34m\u001b[0m\u001b[0;34m\u001b[0m\u001b[0m\n\u001b[1;32m     15\u001b[0m \u001b[0mr\u001b[0m \u001b[0;34m=\u001b[0m \u001b[0mrandom\u001b[0m\u001b[0;34m.\u001b[0m\u001b[0mrandint\u001b[0m\u001b[0;34m(\u001b[0m\u001b[0;36m0\u001b[0m\u001b[0;34m,\u001b[0m \u001b[0mdata\u001b[0m\u001b[0;34m.\u001b[0m\u001b[0mcount\u001b[0m\u001b[0;34m(\u001b[0m\u001b[0;34m)\u001b[0m \u001b[0;34m-\u001b[0m \u001b[0;36m1\u001b[0m\u001b[0;34m)\u001b[0m\u001b[0;34m\u001b[0m\u001b[0;34m\u001b[0m\u001b[0m\n",
      "\u001b[0;32m~/data-engineer/.venv/lib/python3.8/site-packages/pyspark/rdd.py\u001b[0m in \u001b[0;36mcount\u001b[0;34m(self)\u001b[0m\n\u001b[1;32m   1233\u001b[0m         \u001b[0;36m3\u001b[0m\u001b[0;34m\u001b[0m\u001b[0;34m\u001b[0m\u001b[0m\n\u001b[1;32m   1234\u001b[0m         \"\"\"\n\u001b[0;32m-> 1235\u001b[0;31m         \u001b[0;32mreturn\u001b[0m \u001b[0mself\u001b[0m\u001b[0;34m.\u001b[0m\u001b[0mmapPartitions\u001b[0m\u001b[0;34m(\u001b[0m\u001b[0;32mlambda\u001b[0m \u001b[0mi\u001b[0m\u001b[0;34m:\u001b[0m \u001b[0;34m[\u001b[0m\u001b[0msum\u001b[0m\u001b[0;34m(\u001b[0m\u001b[0;36m1\u001b[0m \u001b[0;32mfor\u001b[0m \u001b[0m_\u001b[0m \u001b[0;32min\u001b[0m \u001b[0mi\u001b[0m\u001b[0;34m)\u001b[0m\u001b[0;34m]\u001b[0m\u001b[0;34m)\u001b[0m\u001b[0;34m.\u001b[0m\u001b[0msum\u001b[0m\u001b[0;34m(\u001b[0m\u001b[0;34m)\u001b[0m\u001b[0;34m\u001b[0m\u001b[0;34m\u001b[0m\u001b[0m\n\u001b[0m\u001b[1;32m   1236\u001b[0m \u001b[0;34m\u001b[0m\u001b[0m\n\u001b[1;32m   1237\u001b[0m     \u001b[0;32mdef\u001b[0m \u001b[0mstats\u001b[0m\u001b[0;34m(\u001b[0m\u001b[0mself\u001b[0m\u001b[0;34m)\u001b[0m\u001b[0;34m:\u001b[0m\u001b[0;34m\u001b[0m\u001b[0;34m\u001b[0m\u001b[0m\n",
      "\u001b[0;32m~/data-engineer/.venv/lib/python3.8/site-packages/pyspark/rdd.py\u001b[0m in \u001b[0;36msum\u001b[0;34m(self)\u001b[0m\n\u001b[1;32m   1222\u001b[0m         \u001b[0;36m6.0\u001b[0m\u001b[0;34m\u001b[0m\u001b[0;34m\u001b[0m\u001b[0m\n\u001b[1;32m   1223\u001b[0m         \"\"\"\n\u001b[0;32m-> 1224\u001b[0;31m         \u001b[0;32mreturn\u001b[0m \u001b[0mself\u001b[0m\u001b[0;34m.\u001b[0m\u001b[0mmapPartitions\u001b[0m\u001b[0;34m(\u001b[0m\u001b[0;32mlambda\u001b[0m \u001b[0mx\u001b[0m\u001b[0;34m:\u001b[0m \u001b[0;34m[\u001b[0m\u001b[0msum\u001b[0m\u001b[0;34m(\u001b[0m\u001b[0mx\u001b[0m\u001b[0;34m)\u001b[0m\u001b[0;34m]\u001b[0m\u001b[0;34m)\u001b[0m\u001b[0;34m.\u001b[0m\u001b[0mfold\u001b[0m\u001b[0;34m(\u001b[0m\u001b[0;36m0\u001b[0m\u001b[0;34m,\u001b[0m \u001b[0moperator\u001b[0m\u001b[0;34m.\u001b[0m\u001b[0madd\u001b[0m\u001b[0;34m)\u001b[0m\u001b[0;34m\u001b[0m\u001b[0;34m\u001b[0m\u001b[0m\n\u001b[0m\u001b[1;32m   1225\u001b[0m \u001b[0;34m\u001b[0m\u001b[0m\n\u001b[1;32m   1226\u001b[0m     \u001b[0;32mdef\u001b[0m \u001b[0mcount\u001b[0m\u001b[0;34m(\u001b[0m\u001b[0mself\u001b[0m\u001b[0;34m)\u001b[0m\u001b[0;34m:\u001b[0m\u001b[0;34m\u001b[0m\u001b[0;34m\u001b[0m\u001b[0m\n",
      "\u001b[0;32m~/data-engineer/.venv/lib/python3.8/site-packages/pyspark/rdd.py\u001b[0m in \u001b[0;36mfold\u001b[0;34m(self, zeroValue, op)\u001b[0m\n\u001b[1;32m   1076\u001b[0m         \u001b[0;31m# zeroValue provided to each partition is unique from the one provided\u001b[0m\u001b[0;34m\u001b[0m\u001b[0;34m\u001b[0m\u001b[0;34m\u001b[0m\u001b[0m\n\u001b[1;32m   1077\u001b[0m         \u001b[0;31m# to the final reduce call\u001b[0m\u001b[0;34m\u001b[0m\u001b[0;34m\u001b[0m\u001b[0;34m\u001b[0m\u001b[0m\n\u001b[0;32m-> 1078\u001b[0;31m         \u001b[0mvals\u001b[0m \u001b[0;34m=\u001b[0m \u001b[0mself\u001b[0m\u001b[0;34m.\u001b[0m\u001b[0mmapPartitions\u001b[0m\u001b[0;34m(\u001b[0m\u001b[0mfunc\u001b[0m\u001b[0;34m)\u001b[0m\u001b[0;34m.\u001b[0m\u001b[0mcollect\u001b[0m\u001b[0;34m(\u001b[0m\u001b[0;34m)\u001b[0m\u001b[0;34m\u001b[0m\u001b[0;34m\u001b[0m\u001b[0m\n\u001b[0m\u001b[1;32m   1079\u001b[0m         \u001b[0;32mreturn\u001b[0m \u001b[0mreduce\u001b[0m\u001b[0;34m(\u001b[0m\u001b[0mop\u001b[0m\u001b[0;34m,\u001b[0m \u001b[0mvals\u001b[0m\u001b[0;34m,\u001b[0m \u001b[0mzeroValue\u001b[0m\u001b[0;34m)\u001b[0m\u001b[0;34m\u001b[0m\u001b[0;34m\u001b[0m\u001b[0m\n\u001b[1;32m   1080\u001b[0m \u001b[0;34m\u001b[0m\u001b[0m\n",
      "\u001b[0;32m~/data-engineer/.venv/lib/python3.8/site-packages/pyspark/rdd.py\u001b[0m in \u001b[0;36mcollect\u001b[0;34m(self)\u001b[0m\n\u001b[1;32m    947\u001b[0m         \"\"\"\n\u001b[1;32m    948\u001b[0m         \u001b[0;32mwith\u001b[0m \u001b[0mSCCallSiteSync\u001b[0m\u001b[0;34m(\u001b[0m\u001b[0mself\u001b[0m\u001b[0;34m.\u001b[0m\u001b[0mcontext\u001b[0m\u001b[0;34m)\u001b[0m \u001b[0;32mas\u001b[0m \u001b[0mcss\u001b[0m\u001b[0;34m:\u001b[0m\u001b[0;34m\u001b[0m\u001b[0;34m\u001b[0m\u001b[0m\n\u001b[0;32m--> 949\u001b[0;31m             \u001b[0msock_info\u001b[0m \u001b[0;34m=\u001b[0m \u001b[0mself\u001b[0m\u001b[0;34m.\u001b[0m\u001b[0mctx\u001b[0m\u001b[0;34m.\u001b[0m\u001b[0m_jvm\u001b[0m\u001b[0;34m.\u001b[0m\u001b[0mPythonRDD\u001b[0m\u001b[0;34m.\u001b[0m\u001b[0mcollectAndServe\u001b[0m\u001b[0;34m(\u001b[0m\u001b[0mself\u001b[0m\u001b[0;34m.\u001b[0m\u001b[0m_jrdd\u001b[0m\u001b[0;34m.\u001b[0m\u001b[0mrdd\u001b[0m\u001b[0;34m(\u001b[0m\u001b[0;34m)\u001b[0m\u001b[0;34m)\u001b[0m\u001b[0;34m\u001b[0m\u001b[0;34m\u001b[0m\u001b[0m\n\u001b[0m\u001b[1;32m    950\u001b[0m         \u001b[0;32mreturn\u001b[0m \u001b[0mlist\u001b[0m\u001b[0;34m(\u001b[0m\u001b[0m_load_from_socket\u001b[0m\u001b[0;34m(\u001b[0m\u001b[0msock_info\u001b[0m\u001b[0;34m,\u001b[0m \u001b[0mself\u001b[0m\u001b[0;34m.\u001b[0m\u001b[0m_jrdd_deserializer\u001b[0m\u001b[0;34m)\u001b[0m\u001b[0;34m)\u001b[0m\u001b[0;34m\u001b[0m\u001b[0;34m\u001b[0m\u001b[0m\n\u001b[1;32m    951\u001b[0m \u001b[0;34m\u001b[0m\u001b[0m\n",
      "\u001b[0;32m~/data-engineer/.venv/lib/python3.8/site-packages/py4j/java_gateway.py\u001b[0m in \u001b[0;36m__call__\u001b[0;34m(self, *args)\u001b[0m\n\u001b[1;32m   1302\u001b[0m \u001b[0;34m\u001b[0m\u001b[0m\n\u001b[1;32m   1303\u001b[0m         \u001b[0manswer\u001b[0m \u001b[0;34m=\u001b[0m \u001b[0mself\u001b[0m\u001b[0;34m.\u001b[0m\u001b[0mgateway_client\u001b[0m\u001b[0;34m.\u001b[0m\u001b[0msend_command\u001b[0m\u001b[0;34m(\u001b[0m\u001b[0mcommand\u001b[0m\u001b[0;34m)\u001b[0m\u001b[0;34m\u001b[0m\u001b[0;34m\u001b[0m\u001b[0m\n\u001b[0;32m-> 1304\u001b[0;31m         return_value = get_return_value(\n\u001b[0m\u001b[1;32m   1305\u001b[0m             answer, self.gateway_client, self.target_id, self.name)\n\u001b[1;32m   1306\u001b[0m \u001b[0;34m\u001b[0m\u001b[0m\n",
      "\u001b[0;32m~/data-engineer/.venv/lib/python3.8/site-packages/py4j/protocol.py\u001b[0m in \u001b[0;36mget_return_value\u001b[0;34m(answer, gateway_client, target_id, name)\u001b[0m\n\u001b[1;32m    324\u001b[0m             \u001b[0mvalue\u001b[0m \u001b[0;34m=\u001b[0m \u001b[0mOUTPUT_CONVERTER\u001b[0m\u001b[0;34m[\u001b[0m\u001b[0mtype\u001b[0m\u001b[0;34m]\u001b[0m\u001b[0;34m(\u001b[0m\u001b[0manswer\u001b[0m\u001b[0;34m[\u001b[0m\u001b[0;36m2\u001b[0m\u001b[0;34m:\u001b[0m\u001b[0;34m]\u001b[0m\u001b[0;34m,\u001b[0m \u001b[0mgateway_client\u001b[0m\u001b[0;34m)\u001b[0m\u001b[0;34m\u001b[0m\u001b[0;34m\u001b[0m\u001b[0m\n\u001b[1;32m    325\u001b[0m             \u001b[0;32mif\u001b[0m \u001b[0manswer\u001b[0m\u001b[0;34m[\u001b[0m\u001b[0;36m1\u001b[0m\u001b[0;34m]\u001b[0m \u001b[0;34m==\u001b[0m \u001b[0mREFERENCE_TYPE\u001b[0m\u001b[0;34m:\u001b[0m\u001b[0;34m\u001b[0m\u001b[0;34m\u001b[0m\u001b[0m\n\u001b[0;32m--> 326\u001b[0;31m                 raise Py4JJavaError(\n\u001b[0m\u001b[1;32m    327\u001b[0m                     \u001b[0;34m\"An error occurred while calling {0}{1}{2}.\\n\"\u001b[0m\u001b[0;34m.\u001b[0m\u001b[0;34m\u001b[0m\u001b[0;34m\u001b[0m\u001b[0m\n\u001b[1;32m    328\u001b[0m                     format(target_id, \".\", name), value)\n",
      "\u001b[0;31mPy4JJavaError\u001b[0m: An error occurred while calling z:org.apache.spark.api.python.PythonRDD.collectAndServe.\n: org.apache.hadoop.mapred.InvalidInputException: Input path does not exist: file:/home/nghiaht7/data-engineer/big-data-platforms-f20.mooc.fi/RDD/hotel_data.txt\n\tat org.apache.hadoop.mapred.FileInputFormat.singleThreadedListStatus(FileInputFormat.java:297)\n\tat org.apache.hadoop.mapred.FileInputFormat.listStatus(FileInputFormat.java:239)\n\tat org.apache.hadoop.mapred.FileInputFormat.getSplits(FileInputFormat.java:325)\n\tat org.apache.spark.rdd.HadoopRDD.getPartitions(HadoopRDD.scala:205)\n\tat org.apache.spark.rdd.RDD.$anonfun$partitions$2(RDD.scala:300)\n\tat scala.Option.getOrElse(Option.scala:189)\n\tat org.apache.spark.rdd.RDD.partitions(RDD.scala:296)\n\tat org.apache.spark.rdd.MapPartitionsRDD.getPartitions(MapPartitionsRDD.scala:49)\n\tat org.apache.spark.rdd.RDD.$anonfun$partitions$2(RDD.scala:300)\n\tat scala.Option.getOrElse(Option.scala:189)\n\tat org.apache.spark.rdd.RDD.partitions(RDD.scala:296)\n\tat org.apache.spark.api.python.PythonRDD.getPartitions(PythonRDD.scala:55)\n\tat org.apache.spark.rdd.RDD.$anonfun$partitions$2(RDD.scala:300)\n\tat scala.Option.getOrElse(Option.scala:189)\n\tat org.apache.spark.rdd.RDD.partitions(RDD.scala:296)\n\tat org.apache.spark.SparkContext.runJob(SparkContext.scala:2261)\n\tat org.apache.spark.rdd.RDD.$anonfun$collect$1(RDD.scala:1030)\n\tat org.apache.spark.rdd.RDDOperationScope$.withScope(RDDOperationScope.scala:151)\n\tat org.apache.spark.rdd.RDDOperationScope$.withScope(RDDOperationScope.scala:112)\n\tat org.apache.spark.rdd.RDD.withScope(RDD.scala:414)\n\tat org.apache.spark.rdd.RDD.collect(RDD.scala:1029)\n\tat org.apache.spark.api.python.PythonRDD$.collectAndServe(PythonRDD.scala:180)\n\tat org.apache.spark.api.python.PythonRDD.collectAndServe(PythonRDD.scala)\n\tat sun.reflect.NativeMethodAccessorImpl.invoke0(Native Method)\n\tat sun.reflect.NativeMethodAccessorImpl.invoke(NativeMethodAccessorImpl.java:62)\n\tat sun.reflect.DelegatingMethodAccessorImpl.invoke(DelegatingMethodAccessorImpl.java:43)\n\tat java.lang.reflect.Method.invoke(Method.java:498)\n\tat py4j.reflection.MethodInvoker.invoke(MethodInvoker.java:244)\n\tat py4j.reflection.ReflectionEngine.invoke(ReflectionEngine.java:357)\n\tat py4j.Gateway.invoke(Gateway.java:282)\n\tat py4j.commands.AbstractCommand.invokeMethod(AbstractCommand.java:132)\n\tat py4j.commands.CallCommand.execute(CallCommand.java:79)\n\tat py4j.GatewayConnection.run(GatewayConnection.java:238)\n\tat java.lang.Thread.run(Thread.java:748)\n"
     ]
    }
   ],
   "source": [
    "'''extractData tests'''\n",
    "filtered = extractData(testFile)\n",
    "testObject = filtered.collect()[1]\n",
    "assert testObject[0] == \"Riu de la Llosada\", \"the name value of the object was expected to be 'Riu de la Llosada' but it was %s\" % testObject[0]\n",
    "assert testObject[1] == \"AD\", \"the country code value of the object was expected to be 'AD' but it was %s\" % testObject[1]\n",
    "assert testObject[2] == \"1900\", \"the dem value of the object was expected to be 1900 but it was %s\" % testObject[2]\n",
    "assert len(testObject) == 3, \"the length of the array was expected to be 3 but it was %s\" % len(testObject)\n",
    "assert type(testObject) is list, \"the type of the RDD element was expected to be list but it was %s\" % type(testObject)\n",
    "### BEGIN HIDDEN TESTS\n",
    "testFile2 = sc.textFile(\"hotel_data.txt\")\n",
    "import random\n",
    "\n",
    "random.seed(testFile2.count())\n",
    "data = testFile2.sample(False, 0.5, random.randint(0, 10000))\n",
    "r = random.randint(0, data.count() - 1)\n",
    "r2 = random.randint(100, data.count() - 100)\n",
    "\n",
    "test = extractData(data).collect()[r]\n",
    "test2 = extractData(data).collect()[r2]\n",
    "correct = ['Khalidanda', 'NP', '1604']\n",
    "correct2 = ['Bezirk Spandau', 'DE', '31']\n",
    "assert test[0] == correct[0], \"the name value of the object was expected to be %s but it was %s\" % (correct[0], test[0])\n",
    "assert test[1] == correct[1], \"the AD value of the object was expected to be %s but it was %s\" % (correct[1], test[1])\n",
    "assert test[2] == correct[2], \"the dem value of the object was expected to be %s but it was %s\" % (correct[2], test[2])\n",
    "assert test2[0] == correct2[0], \"the name value of the object was expected to be %s but it was %s\" % (correct2[0], test2[0])\n",
    "assert test2[1] == correct2[1], \"the AD value of the object was expected to be %s but it was %s\" % (correct2[1], test2[1])\n",
    "assert test2[2] == correct2[2], \"the dem value of the object was expected to be %s but it was %s\" % (correct2[2], test2[2])\n",
    "### END HIDDEN TESTS"
   ]
  },
  {
   "cell_type": "markdown",
   "metadata": {
    "deletable": false,
    "editable": false,
    "nbgrader": {
     "cell_type": "markdown",
     "checksum": "09ee229730882754dd6ca3550f2c8831",
     "grade": false,
     "grade_id": "cell-1180cc67a70d4727",
     "locked": true,
     "schema_version": 3,
     "solution": false,
     "task": false
    }
   },
   "source": [
    "## Filter Elevation\n",
    "\n",
    "`filterElevation` is used to filter an RDD to given country code and return an RDD containing only dem information. You will have to convert the dem information to `int` values.\n",
    "\n",
    "param `countryCode`: country code e.g \"AD\"  \n",
    "param `data`: an RDD containing multiple Array[\"name\", \"countryCode\", \"dem\"] (as in it was returned by the `extractData` function)   \n",
    "\n",
    "`return`: RDD[int] containing only dem information related to the country code  \n"
   ]
  },
  {
   "cell_type": "code",
   "execution_count": 46,
   "metadata": {
    "deletable": false,
    "nbgrader": {
     "cell_type": "code",
     "checksum": "ab2475ae4cc74d22e6f28f033b5e5b02",
     "grade": false,
     "grade_id": "cell-689e31df45bea124",
     "locked": false,
     "schema_version": 3,
     "solution": true,
     "task": false
    }
   },
   "outputs": [],
   "source": [
    "def filterElevation(countryCode, data):\n",
    "    return data \\\n",
    "            .filter(lambda record, param=countryCode: record[1] == param) \\\n",
    "            .map(lambda record: int(record[2]))\n",
    "\n",
    "    raise NotImplementedError()"
   ]
  },
  {
   "cell_type": "code",
   "execution_count": 47,
   "metadata": {},
   "outputs": [
    {
     "data": {
      "text/plain": [
       "[2475, 1900, 2300, 2299, 2321]"
      ]
     },
     "execution_count": 47,
     "metadata": {},
     "output_type": "execute_result"
    }
   ],
   "source": [
    "#Example print\n",
    "\n",
    "filterElevation(\"AD\", extractData(testFile)).take(5)"
   ]
  },
  {
   "cell_type": "code",
   "execution_count": 48,
   "metadata": {
    "deletable": false,
    "editable": false,
    "nbgrader": {
     "cell_type": "code",
     "checksum": "64b5d9fd88a4982217bc4342568b3022",
     "grade": true,
     "grade_id": "cell-983c241898825a0d",
     "locked": true,
     "points": 1,
     "schema_version": 3,
     "solution": false,
     "task": false
    }
   },
   "outputs": [],
   "source": [
    "'''filterElevation tests'''\n",
    "filtered = extractData(testFile)\n",
    "first = filterElevation(\"SE\", filtered).first()\n",
    "assert type(first) is int, \"the type of the RDD element was expected to be int but it was %s\" % type(first)\n",
    "assert first == 56, \"the value of the RDD element was expected to be 56 but it was %s\" % first\n",
    "object = filterElevation(\"AD\", filtered).collect()[4]\n",
    "assert object == 2321, \"the value of the RDD element was expected to be 2321 but it was %s\" % object"
   ]
  },
  {
   "cell_type": "markdown",
   "metadata": {
    "deletable": false,
    "editable": false,
    "nbgrader": {
     "cell_type": "markdown",
     "checksum": "3729c1df195a34011278fa736fb32cc6",
     "grade": false,
     "grade_id": "cell-02f6170a7fa92f53",
     "locked": true,
     "schema_version": 3,
     "solution": false,
     "task": false
    }
   },
   "source": [
    "## Elevation Average\n",
    "\n",
    "`elevationAverage` calculates the dem average to specific dataset.  \n",
    "\n",
    "param `data`: RDD[int] containing only dem information  \n",
    "\n",
    "`return`: The average elevation  \n"
   ]
  },
  {
   "cell_type": "code",
   "execution_count": 65,
   "metadata": {
    "deletable": false,
    "nbgrader": {
     "cell_type": "code",
     "checksum": "add7cf98afaea0c31a1eec26bbf686be",
     "grade": false,
     "grade_id": "cell-280da82e1c59ee6f",
     "locked": false,
     "schema_version": 3,
     "solution": true,
     "task": false
    }
   },
   "outputs": [],
   "source": [
    "def elevationAverage(data):\n",
    "    return data \\\n",
    "        .map(lambda dem: (1, (dem, 1))) \\\n",
    "        .reduceByKey(lambda x, y: ((x[0] + y[0], x[1] + y[1]))) \\\n",
    "        .mapValues(lambda total: total[0]/total[1]) \\\n",
    "        .collectAsMap().get(1, float(0.0))\n",
    "\n",
    "    raise NotImplementedError()"
   ]
  },
  {
   "cell_type": "code",
   "execution_count": 66,
   "metadata": {},
   "outputs": [
    {
     "data": {
      "text/plain": [
       "2259.0"
      ]
     },
     "execution_count": 66,
     "metadata": {},
     "output_type": "execute_result"
    }
   ],
   "source": [
    "#Example print\n",
    "\n",
    "elevationAverage(sc.parallelize(filterElevation(\"AD\", extractData(testFile)).take(5)))"
   ]
  },
  {
   "cell_type": "code",
   "execution_count": 67,
   "metadata": {
    "deletable": false,
    "editable": false,
    "nbgrader": {
     "cell_type": "code",
     "checksum": "e0ea30bf26cf97c82b9ef0265fbfcf44",
     "grade": true,
     "grade_id": "cell-2026bf6db2faf409",
     "locked": true,
     "points": 1,
     "schema_version": 3,
     "solution": false,
     "task": false
    }
   },
   "outputs": [],
   "source": [
    "'''elevationAverage tests'''\n",
    "avg = elevationAverage(sc.parallelize([1, 2, 3 ,4])) \n",
    "assert abs(avg - 2.5) < 0.00001, \"the average was expected to be 2.5 but it was %s\" % avg\n",
    "filtered = extractData(testFile)\n",
    "elevations = filterElevation(\"AD\", filtered)\n",
    "avg2 = elevationAverage(elevations)\n",
    "assert abs(avg2 - 1792.25) < 0.00001, \"the average was expected to be 1792.25 but it was %s\" % avg2\n",
    "assert type(avg2) is float, \"the type of the RDD element was expected to be float but it was %s\" % type(avg2)"
   ]
  },
  {
   "cell_type": "markdown",
   "metadata": {
    "deletable": false,
    "editable": false,
    "nbgrader": {
     "cell_type": "markdown",
     "checksum": "3a046f427069e2d0ec4797797b869656",
     "grade": false,
     "grade_id": "cell-e12d8c47f4c7d0cd",
     "locked": true,
     "schema_version": 3,
     "solution": false,
     "task": false
    }
   },
   "source": [
    "## Most Common Words\n",
    "\n",
    "`mostCommonWords` calculates what is the most common  word in place names and returns an RDD[(String,Int)]. You can assume that words are separated by a single space ' '.\n",
    "\n",
    "param `data`: an RDD containing multiple Array[\"name\", \"countryCode\", \"dem\"].  \n",
    "\n",
    "`return`: RDD[(String,Int)] where string is the word and Int number of occurances. RDD should be in descending order (sorted by number of occurances). e.g (\"hotel\", 234), (\"airport\", 120), (\"new\", 12). \n",
    "\n",
    "Example:  \n",
    "Assume that the place name is \"Andorra la Vella Heliport\". We split the name so that we have 4 seperate words \"Andorra\", \"la\", \"Vella\" and \"Heliport\".\n"
   ]
  },
  {
   "cell_type": "code",
   "execution_count": 68,
   "metadata": {
    "deletable": false,
    "nbgrader": {
     "cell_type": "code",
     "checksum": "4febd89d6d1863e0dcf5db4854273fa8",
     "grade": false,
     "grade_id": "cell-5917116696350d94",
     "locked": false,
     "schema_version": 3,
     "solution": true,
     "task": false
    }
   },
   "outputs": [],
   "source": [
    "def mostCommonWords(data):\n",
    "    return data \\\n",
    "        .flatMap(lambda record: record[0].split(\" \")) \\\n",
    "        .map(lambda word: (word, 1)) \\\n",
    "        .reduceByKey(lambda x, y: x + y).sortBy(lambda a: a[1], ascending=False)\n",
    "\n",
    "    raise NotImplementedError()"
   ]
  },
  {
   "cell_type": "code",
   "execution_count": 69,
   "metadata": {},
   "outputs": [
    {
     "data": {
      "text/plain": [
       "[('Hotel', 22), ('de', 15), ('la', 12), ('Hotell', 7), ('dels', 6)]"
      ]
     },
     "execution_count": 69,
     "metadata": {},
     "output_type": "execute_result"
    }
   ],
   "source": [
    "#Example print\n",
    "\n",
    "mostCommonWords(extractData(testFile)).take(5)"
   ]
  },
  {
   "cell_type": "code",
   "execution_count": 70,
   "metadata": {
    "deletable": false,
    "editable": false,
    "nbgrader": {
     "cell_type": "code",
     "checksum": "1bba62b53c0007633487e6bb31a2cc79",
     "grade": true,
     "grade_id": "cell-d968b42e1d3db721",
     "locked": true,
     "points": 1,
     "schema_version": 3,
     "solution": false,
     "task": false
    }
   },
   "outputs": [],
   "source": [
    "'''mostCommonWords tests'''\n",
    "filtered = extractData(testFile)\n",
    "words = mostCommonWords(filtered).collect()\n",
    "first = words[0]\n",
    "second = words[1]\n",
    "third = words[2]\n",
    "assert type(first[0]) is str, \"the type of the first value in array was expected to be str but it was %s\" % type(first[0])\n",
    "assert type(first[1]) is int, \"the type of the second value in array was expected to be int but it was %s\" % type(first[1])\n",
    "assert first[1] >= second[1], \"the first element in RDD was expected to have more occurances than the second\"\n",
    "assert first[0] == \"Hotel\", \"the first element was expected to be named Hotel but it was %s\" % first[0]\n",
    "assert first[1] == 22, \"the count of the first element was expected to be 22 but it was %s\" % first[1]\n",
    "assert third[0] == \"la\", \"the third element was expected to be named 'la' but it was %s\" % third[0]"
   ]
  },
  {
   "cell_type": "markdown",
   "metadata": {
    "deletable": false,
    "editable": false,
    "nbgrader": {
     "cell_type": "markdown",
     "checksum": "ace5a0bbde707885490bc4f6b81a1d63",
     "grade": false,
     "grade_id": "cell-54fe24add3747304",
     "locked": true,
     "schema_version": 3,
     "solution": false,
     "task": false
    }
   },
   "source": [
    "## Most Common Country\n",
    "\n",
    "`mostCommonCountry` tells which country has the most entries in geolocation data. The correct name for specific countrycode can be found from countrycodes.csv. The columns in countrycodes.csv are seperated by \",\". More specifially, the file is structured like this:\n",
    "\n",
    "Fiji,FJ  \n",
    "Finland,FI  \n",
    "France,FR  \n",
    "\n",
    "param `data`: an RDD containing multiple Array[\"name\", \"countryCode\", \"dem\"].  \n",
    "param `codeData`: data from countrycodes.csv file  \n",
    "\n",
    "`return`: most common country as String e.g Finland or empty string \"\" if countrycodes.csv doesn't have that entry.\n"
   ]
  },
  {
   "cell_type": "code",
   "execution_count": 81,
   "metadata": {
    "deletable": false,
    "nbgrader": {
     "cell_type": "code",
     "checksum": "8d36bdc7bce53a0dcae8fb79cf4d7714",
     "grade": false,
     "grade_id": "cell-1db3f9f8edc21911",
     "locked": false,
     "schema_version": 3,
     "solution": true,
     "task": false
    }
   },
   "outputs": [],
   "source": [
    "countryCodes = sc.textFile(\"countrycodes.csv\")\n",
    "\n",
    "def mostCommonCountry(data, codeData):\n",
    "    country_code = data \\\n",
    "                .map(lambda record: (record[1], 1)) \\\n",
    "                .reduceByKey(lambda x, y: x + y) \\\n",
    "                .sortBy(lambda key: key[1], ascending=False) \\\n",
    "                .take(1)[0][0]\n",
    "    pre_result = codeData.filter(lambda a, c=country_code: a[-2:] == c).map(lambda a: a[:-3]).collect()\n",
    "    if len(pre_result):\n",
    "        return pre_result[0]\n",
    "    else:\n",
    "        return \"\"\n",
    "    \n",
    "    raise NotImplementedError()"
   ]
  },
  {
   "cell_type": "code",
   "execution_count": 82,
   "metadata": {},
   "outputs": [
    {
     "data": {
      "text/plain": [
       "'Sweden'"
      ]
     },
     "execution_count": 82,
     "metadata": {},
     "output_type": "execute_result"
    }
   ],
   "source": [
    "#Example print\n",
    "\n",
    "mostCommonCountry(extractData(testFile), countryCodes)"
   ]
  },
  {
   "cell_type": "code",
   "execution_count": 83,
   "metadata": {
    "deletable": false,
    "editable": false,
    "nbgrader": {
     "cell_type": "code",
     "checksum": "52e583721ced67db8953cf4b75b57a72",
     "grade": true,
     "grade_id": "cell-c56eeaa92283d707",
     "locked": true,
     "points": 1,
     "schema_version": 3,
     "solution": false,
     "task": false
    }
   },
   "outputs": [],
   "source": [
    "'''mostCommonCountry tests'''\n",
    "filtered = extractData(testFile)\n",
    "mostCommon = mostCommonCountry(filtered, countryCodes)\n",
    "assert type(mostCommon) is str, \"the type of the returned object was expected to be str but it was %s\" % type(mostCommon)\n",
    "assert mostCommon == \"Sweden\", \"the most common was expected to be Sweden but it was %s\" % mostCommon\n",
    "mostCommon2 = mostCommonCountry(sc.parallelize(filtered.take(40)), countryCodes)\n",
    "assert mostCommon2 == \"Andorra\", \"the most common was expected to be Andorra but it was %s\" % mostCommon2\n",
    "false = sc.parallelize([[\"a\", \"AA\", 123], [\"b\", \"AA\", 1234]])\n",
    "assert mostCommonCountry(false, countryCodes) == \"\", \"The method was expected to return empty when called with false data\""
   ]
  },
  {
   "cell_type": "markdown",
   "metadata": {
    "deletable": false,
    "editable": false,
    "nbgrader": {
     "cell_type": "markdown",
     "checksum": "73e04f62adb711dd90208800107b24b2",
     "grade": false,
     "grade_id": "cell-54cc831e422cd87d",
     "locked": true,
     "schema_version": 3,
     "solution": false,
     "task": false
    }
   },
   "source": [
    "## Hotels In Area\n",
    "\n",
    "`hotelsInArea` determines how many hotels there are within 10 km (<=10000.0) from given latitude and longitude.\n",
    "Use Haversine formula ( https://en.wikipedia.org/wiki/Haversine_formula ). Earth radius is 6371000 meters. \n",
    "\n",
    "In this exercise you should use the asciiname field instead of name. Start by reading the data and getting the correct fields (asciiname, latitude, longitude) similarly to the `extractData` function. After that you should use the Haversine formula to filter the places in 10 Km radius from the latitude and longitude. You will probably want to use a helper function, Python lets you create functions inside functions. Finally, you will want to filter the places that contain the word \"hotel\". Location is a hotel if the name contains the word \"hotel\" (can be \"Hotel\" or \"hOtel\" for instance). There can exist multiple hotels in the same location. You should not count the same hotel multiple times.\n",
    "\n",
    "Note that both latitude and longitude in the data are in decimal degree so you have to change them to radians ( https://en.wikipedia.org/wiki/Decimal_degrees ). They should also be converted to double values. E.g `math.radians(float(x))`\n",
    "\n",
    "param `lat`: latitude as Double  \n",
    "param `long`: longitude as Double  \n",
    "param `data`: the original data set loaded into spark as RDD[String].  \n",
    "\n",
    "`return`: number of hotels in area\n"
   ]
  },
  {
   "cell_type": "code",
   "execution_count": 84,
   "metadata": {
    "deletable": false,
    "nbgrader": {
     "cell_type": "code",
     "checksum": "2ffea745937f6a0499f3df474c32d1e6",
     "grade": false,
     "grade_id": "cell-fe6bc32b1edd450b",
     "locked": false,
     "schema_version": 3,
     "solution": true,
     "task": false
    }
   },
   "outputs": [],
   "source": [
    "import math\n",
    "\n",
    "def hotelsInArea(lat, long, data):\n",
    "    \n",
    "    def filter_distance(lat1, long1, lat2=lat, long2=long):\n",
    "        from math import radians, cos, sin, asin, sqrt\n",
    "        lat1, long1, lat2, long2 = map(lambda x: radians(float(x)), [lat1, long1, lat2, long2])\n",
    "        dlong = long2 - long1 \n",
    "        dlat = lat2 - lat1 \n",
    "        a = sin(dlat/2)**2 + cos(lat1) * cos(lat2) * sin(dlong/2)**2\n",
    "        c = 2 * asin(sqrt(a)) \n",
    "        m = 6371000 * c\n",
    "        if m <=10000.0:\n",
    "            return True\n",
    "        else:\n",
    "            return False\n",
    "        \n",
    "    \n",
    "    return data.map(lambda line: line.split(\"\\t\"))  \\\n",
    "        .map(lambda record: [record[2], float(record[4]), float(record[5])])  \\\n",
    "        .filter(lambda record: filter_distance(record[1], record[2])) \\\n",
    "        .filter(lambda name: \"hotel\" in name[0].lower().split(\" \")) \\\n",
    "        .map(lambda record: record[0]) \\\n",
    "        .distinct() \\\n",
    "        .count()\n",
    "    \n",
    "    raise NotImplementedError()"
   ]
  },
  {
   "cell_type": "code",
   "execution_count": 85,
   "metadata": {},
   "outputs": [
    {
     "data": {
      "text/plain": [
       "3"
      ]
     },
     "execution_count": 85,
     "metadata": {},
     "output_type": "execute_result"
    }
   ],
   "source": [
    "#Example print\n",
    "hotelsInArea(59.334591, 18.063240, testFile)"
   ]
  },
  {
   "cell_type": "code",
   "execution_count": 86,
   "metadata": {
    "deletable": false,
    "editable": false,
    "nbgrader": {
     "cell_type": "code",
     "checksum": "a8e2121b67fd912077a449c2ce41eba7",
     "grade": true,
     "grade_id": "cell-f684ffd6b09007fa",
     "locked": true,
     "points": 1,
     "schema_version": 3,
     "solution": false,
     "task": false
    }
   },
   "outputs": [],
   "source": [
    "'''hotelsInArea tests'''\n",
    "a1 = hotelsInArea(42.5423, 1.5977, testFile)\n",
    "a2 = hotelsInArea(59.334591, 18.063240, testFile)\n",
    "a3 = hotelsInArea(63.8532, 15.5652, testFile)\n",
    "assert a1 == 0, \"the number of hotels was expected to be 0 but it was %s\" % a1\n",
    "assert a2 == 3, \"the number of hotels was expected to be 3 but it was %s\" % a2\n",
    "assert a3 == 1, \"the number of hotels was expected to be 1 but it was %s\" % a3"
   ]
  },
  {
   "cell_type": "code",
   "execution_count": 87,
   "metadata": {
    "deletable": false,
    "editable": false,
    "nbgrader": {
     "cell_type": "code",
     "checksum": "75a09be76411fb4ecb6b9a4ca04b50be",
     "grade": false,
     "grade_id": "cell-7a535b3f8fc9f1f5",
     "locked": true,
     "schema_version": 3,
     "solution": false,
     "task": false
    }
   },
   "outputs": [],
   "source": [
    "sc.stop()"
   ]
  },
  {
   "cell_type": "code",
   "execution_count": null,
   "metadata": {},
   "outputs": [],
   "source": []
  }
 ],
 "metadata": {
  "kernelspec": {
   "display_name": "Python 3 (ipykernel)",
   "language": "python",
   "name": "python3"
  },
  "language_info": {
   "codemirror_mode": {
    "name": "ipython",
    "version": 3
   },
   "file_extension": ".py",
   "mimetype": "text/x-python",
   "name": "python",
   "nbconvert_exporter": "python",
   "pygments_lexer": "ipython3",
   "version": "3.8.10"
  }
 },
 "nbformat": 4,
 "nbformat_minor": 4
}
