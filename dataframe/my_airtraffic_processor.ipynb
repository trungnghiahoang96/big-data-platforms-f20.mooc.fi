{
 "cells": [
  {
   "cell_type": "markdown",
   "id": "4699f760-5bc2-4cdc-bd04-59446764fce5",
   "metadata": {},
   "source": [
    "## DataFrame Exercises\n",
    "In this notebook your job is to implement multiple small methods that process and analyze airtraffic data with DataFrames. DataFrames can be queried with SQL language and through SparkSQL API. Both of them can be used to implement methods in these exercises. The links below may be helpful:\n",
    "\n",
    "- http://spark.apache.org/docs/latest/sql-programming-guide.html\n",
    "- https://spark.apache.org/docs/latest/api/python/pyspark.sql.html\n",
    "\n",
    "We will use a sample of \"2008.csv.bz2\" which contains airtraffic data from https://dataverse.harvard.edu/api/access/datafile/1374917?gbrecs=true.\n",
    "\n",
    "There are already two Spark SQL tables available from the start:\n",
    "\n",
    "- table \"carriers\" inlcudes information of airlines\n",
    "- table \"airports\" includes information of airports"
   ]
  },
  {
   "cell_type": "code",
   "execution_count": 1,
   "id": "3def2f33-99d8-45ef-9e53-c809c53da26b",
   "metadata": {},
   "outputs": [
    {
     "name": "stderr",
     "output_type": "stream",
     "text": [
      "Warning: Ignoring non-Spark config property: [SPARK_LOCAL_CONFIGS]\n",
      "Using Spark's default log4j profile: org/apache/spark/log4j-defaults.properties\n",
      "Setting default log level to \"WARN\".\n",
      "To adjust logging level use sc.setLogLevel(newLevel). For SparkR, use setLogLevel(newLevel).\n"
     ]
    }
   ],
   "source": [
    "import matplotlib\n",
    "import matplotlib.dates as mdates\n",
    "import matplotlib.pyplot as plt\n",
    "import numpy as np\n",
    "import pandas as pd\n",
    "import pyspark.sql.functions as f\n",
    "from pyspark.sql import Row, SparkSession\n",
    "\n",
    "%matplotlib inline\n",
    "\n",
    "spark = (\n",
    "    SparkSession.builder.master(\"local[*]\")\n",
    "    .appName(\"main\")\n",
    "    .config(\"spark.dynamicAllocation.enabled\", \"true\")\n",
    "    .config(\"spark.shuffle.service.enabled\", \"true\")\n",
    "    .getOrCreate()\n",
    ")"
   ]
  },
  {
   "cell_type": "code",
   "execution_count": 2,
   "id": "a953e57f-9e68-4a83-8732-d942fd056265",
   "metadata": {},
   "outputs": [
    {
     "name": "stderr",
     "output_type": "stream",
     "text": [
      "                                                                                \r"
     ]
    }
   ],
   "source": [
    "# names of tables\n",
    "airTraffic = \"airtraffic\"\n",
    "carriers = \"carriers\"\n",
    "airports = \"airports\"\n",
    "\n",
    "carriersTable = spark.read.csv(\"carriers.csv\", inferSchema=\"true\", header=\"true\")\n",
    "carriersTable.createOrReplaceTempView(carriers)\n",
    "\n",
    "airportsTable = spark.read.csv(\"airports.csv\", inferSchema=\"true\", header=\"true\")\n",
    "airportsTable.createOrReplaceTempView(airports)"
   ]
  },
  {
   "cell_type": "code",
   "execution_count": 3,
   "id": "5bb564f8-974a-4e13-9424-4d1b80cd6965",
   "metadata": {},
   "outputs": [],
   "source": [
    "# Methods and variables that will be used in more than one tests\n",
    "\n",
    "# Test if arrays that contain Row are equal\n",
    "def correctRows(testArray, correctArray):\n",
    "    for i in range(0, len(correctArray)):\n",
    "        assert (\n",
    "            testArray[i].asDict() == correctArray[i].asDict()\n",
    "        ), \"the row was expected to be %s but it was %s\" % (\n",
    "            correctArray[i].asDict(),\n",
    "            testArray[i].asDict(),\n",
    "        )\n",
    "\n",
    "\n",
    "# Path of smaller airtraffic data set\n",
    "sampleFile = \"2008_sample.csv\"\n",
    "testFile = \"2008_testsample.csv\""
   ]
  },
  {
   "cell_type": "markdown",
   "id": "f46e1feb-c3ad-4026-ac71-694ce7ad577b",
   "metadata": {},
   "source": [
    "## Load Data and Register \n",
    "`loadDataAndRegister` loads airtraffic data and registers it as a table so that we can use it later for Spark SQL. \n",
    "\n",
    "param `path`: path of file that should be loaded and registered.\n",
    "\n",
    "`return`: DataFrame containing airtraffic information.\n",
    "\n",
    "The schema of returned DataFrame should be:\n",
    "\n",
    "Name | Type\n",
    "------| :-----\n",
    "Year  | integer (nullable = true)\n",
    "Month | integer (nullable = true)\n",
    "DayofMonth | integer (nullable = true)\n",
    "DayOfWeek | integer (nullable = true)\n",
    "DepTime | integer (nullable = true)\n",
    "CRSDepTime | integer (nullable = true)\n",
    "ArrTime | integer (nullable = true)\n",
    "CRSArrTime | integer (nullable = true)\n",
    "UniqueCarrier | string (nullable = true)\n",
    "FlightNum | integer (nullable = true)\n",
    "TailNum | string (nullable = true)\n",
    "ActualElapsedTime | integer (nullable = true)\n",
    "CRSElapsedTime | integer (nullable = true)\n",
    "AirTime | integer (nullable = true)\n",
    "ArrDelay | integer (nullable = true)\n",
    "DepDelay | integer (nullable = true)\n",
    "Origin | string (nullable = true)\n",
    "Dest | string (nullable = true)\n",
    "Distance | integer (nullable = true)\n",
    "TaxiIn | integer (nullable = true)\n",
    "TaxiOut | integer (nullable = true)\n",
    "Cancelled | integer (nullable = true)\n",
    "CancellationCode | string (nullable = true)\n",
    "Diverted | integer (nullable = true)\n",
    "CarrierDelay | integer (nullable = true)\n",
    "WeatherDelay | integer (nullable = true)\n",
    "NASDelay | integer (nullable = true)\n",
    "SecurityDelay | integer (nullable = true)\n",
    "LateAircraftDelay | integer (nullable = true)\n",
    "\n",
    "Hints:\n",
    "- How to load csv data: https://spark.apache.org/docs/latest/api/python/pyspark.sql.html#pyspark.sql.DataFrameReader\n",
    "- If you just load data using `inferSchema=\"true\"`, some of the fields which shoud be Integers are casted to Strings because null values are represented as \"NA\" strings in the data. E.g. 2008,7,2,3,733,735,858,852,DL,1551,N957DL,85,77,42,6,-2,CAE, ATL,191,15,28,0,,0,NA,NA,NA,NA,NA. Therefore you need to replace all \"NA\" strings with null. Option \"nullValue\" is helpful.\n",
    "- Please use the variable `airTraffic` as table name."
   ]
  },
  {
   "cell_type": "code",
   "execution_count": 4,
   "id": "e4d2dccc-1063-438c-b14d-844ed1c6bdb8",
   "metadata": {},
   "outputs": [],
   "source": [
    "def loadDataAndRegister(path):\n",
    "\n",
    "    spark.read.csv(\n",
    "        path, inferSchema=\"true\", header=\"true\", nullValue=\"NA\"\n",
    "    ).createOrReplaceTempView(airTraffic)\n",
    "\n",
    "    return spark.sql(\"select * from airtraffic\")\n",
    "    raise NotImplementedError()"
   ]
  },
  {
   "cell_type": "code",
   "execution_count": 5,
   "id": "07f50e81-3e43-4498-8568-a8cb5beac18b",
   "metadata": {},
   "outputs": [
    {
     "name": "stderr",
     "output_type": "stream",
     "text": [
      "21/10/03 10:23:38 WARN package: Truncated the string representation of a plan since it was too large. This behavior can be adjusted by setting 'spark.sql.debug.maxToStringFields'.\n"
     ]
    },
    {
     "name": "stdout",
     "output_type": "stream",
     "text": [
      "   Year  Month  DayofMonth  DayOfWeek  DepTime  CRSDepTime  ArrTime  \\\n",
      "0  2008      1           4          7      632         615      756   \n",
      "1  2008      5           5          1      630         615      741   \n",
      "2  2008      5           6          2      611         615      729   \n",
      "3  2008      5           7          3      611         615      725   \n",
      "4  2008      3           8          4      613         615      742   \n",
      "\n",
      "   CRSArrTime UniqueCarrier  FlightNum  ... TaxiIn  TaxiOut  Cancelled  \\\n",
      "0         735           02Q       4794  ...      8       14          1   \n",
      "1         735            EV       4794  ...      8        7          1   \n",
      "2         735            EV       4794  ...      9       11          0   \n",
      "3         735            EV       4794  ...      6        7          0   \n",
      "4         735            EV       4794  ...      6       25          0   \n",
      "\n",
      "   CancellationCode  Diverted  CarrierDelay WeatherDelay NASDelay  \\\n",
      "0                 D         0          17.0          0.0      4.0   \n",
      "1                 D         0           NaN        112.0      NaN   \n",
      "2              None         0           NaN          NaN      NaN   \n",
      "3              None         0           NaN          NaN      NaN   \n",
      "4              None         0           NaN          7.0      NaN   \n",
      "\n",
      "   SecurityDelay  LateAircraftDelay  \n",
      "0            0.0                0.0  \n",
      "1            NaN                NaN  \n",
      "2            NaN                NaN  \n",
      "3            NaN                NaN  \n",
      "4            NaN                NaN  \n",
      "\n",
      "[5 rows x 29 columns]\n"
     ]
    },
    {
     "data": {
      "text/plain": [
       "StructType(List(StructField(Year,IntegerType,true),StructField(Month,IntegerType,true),StructField(DayofMonth,IntegerType,true),StructField(DayOfWeek,IntegerType,true),StructField(DepTime,IntegerType,true),StructField(CRSDepTime,IntegerType,true),StructField(ArrTime,IntegerType,true),StructField(CRSArrTime,IntegerType,true),StructField(UniqueCarrier,StringType,true),StructField(FlightNum,IntegerType,true),StructField(TailNum,StringType,true),StructField(ActualElapsedTime,IntegerType,true),StructField(CRSElapsedTime,IntegerType,true),StructField(AirTime,IntegerType,true),StructField(ArrDelay,IntegerType,true),StructField(DepDelay,IntegerType,true),StructField(Origin,StringType,true),StructField(Dest,StringType,true),StructField(Distance,IntegerType,true),StructField(TaxiIn,IntegerType,true),StructField(TaxiOut,IntegerType,true),StructField(Cancelled,IntegerType,true),StructField(CancellationCode,StringType,true),StructField(Diverted,IntegerType,true),StructField(CarrierDelay,IntegerType,true),StructField(WeatherDelay,IntegerType,true),StructField(NASDelay,IntegerType,true),StructField(SecurityDelay,IntegerType,true),StructField(LateAircraftDelay,IntegerType,true)))"
      ]
     },
     "execution_count": 5,
     "metadata": {},
     "output_type": "execute_result"
    }
   ],
   "source": [
    "# example print\n",
    "\n",
    "data = loadDataAndRegister(testFile)\n",
    "print(data.toPandas().head(5))\n",
    "data.schema"
   ]
  },
  {
   "cell_type": "code",
   "execution_count": 6,
   "id": "91dfb373-2ba0-4024-829a-4008ce0dab65",
   "metadata": {},
   "outputs": [],
   "source": [
    "\"\"\"loadDataAndRegister tests\"\"\"\n",
    "\n",
    "df = loadDataAndRegister(testFile)\n",
    "\n",
    "# Table \"airtraffic\" should exists\n",
    "assert (\n",
    "    spark.sql(\"SHOW TABLES Like 'airtraffic'\").count() == 1\n",
    "), \"there was expected to be a table called 'airtraffic'\"\n",
    "\n",
    "# Columns should have correct values\n",
    "third = df.collect()[2]\n",
    "correctRow = Row(\n",
    "    Year=2008,\n",
    "    Month=5,\n",
    "    DayofMonth=6,\n",
    "    DayOfWeek=2,\n",
    "    DepTime=611,\n",
    "    CRSDepTime=615,\n",
    "    ArrTime=729,\n",
    "    CRSArrTime=735,\n",
    "    UniqueCarrier=\"EV\",\n",
    "    FlightNum=4794,\n",
    "    TailNum=\"N916EV\",\n",
    "    ActualElapsedTime=78,\n",
    "    CRSElapsedTime=80,\n",
    "    AirTime=58,\n",
    "    ArrDelay=-6,\n",
    "    DepDelay=-4,\n",
    "    Origin=\"ROA\",\n",
    "    Dest=\"ATL\",\n",
    "    Distance=357,\n",
    "    TaxiIn=9,\n",
    "    TaxiOut=11,\n",
    "    Cancelled=0,\n",
    "    CancellationCode=None,\n",
    "    Diverted=0,\n",
    "    CarrierDelay=None,\n",
    "    WeatherDelay=None,\n",
    "    NASDelay=None,\n",
    "    SecurityDelay=None,\n",
    "    LateAircraftDelay=None,\n",
    ").asDict()\n",
    "\n",
    "assert third.asDict() == correctRow, \"the row was expected to be %s but it was %s\" % (\n",
    "    correctRow,\n",
    "    third.asDict(),\n",
    ")"
   ]
  },
  {
   "cell_type": "markdown",
   "id": "c36c5a9e-0a5d-4bbe-a2f9-820b4756e9a8",
   "metadata": {},
   "source": [
    "## Flight Count\n",
    "`flightCount` gets the number of flights for each airplane. The \"TailNum\" column is unique for each airplane so it can be used.\n",
    "\n",
    "param `df`: Airtraffic DataFrame created using `loadDataAndRegister`.\n",
    "\n",
    "`return`: DataFrame containing number of flights per TailNum. DataFrame should include columns \"TailNum\" and \"count\" (the number of flights for an airplane) . Airplanes whose TailNum is null should not be included in the returned DataFrame. **The returned DataFrame should be sorted by count in descending order.** \n",
    "\n",
    "Example output:\n",
    "\n",
    "TailNum|count\n",
    "-------:|-----\n",
    "N693BR| 1526|\n",
    "N646BR| 1505|\n",
    "N476HA| 1490|\n",
    "N485HA| 1441|\n",
    "N486HA| 1439|\n"
   ]
  },
  {
   "cell_type": "code",
   "execution_count": 7,
   "id": "6fb0531f-bd44-4f59-95b0-5e6c42e8531a",
   "metadata": {},
   "outputs": [],
   "source": [
    "def flightCount(df):\n",
    "    return (\n",
    "        df.filter(df.TailNum.isNotNull())\n",
    "        .groupBy(\"TailNum\")\n",
    "        .count()\n",
    "        .orderBy(\"count\", ascending=False)\n",
    "    )\n",
    "    raise NotImplementedError()"
   ]
  },
  {
   "cell_type": "code",
   "execution_count": 8,
   "id": "65013cc6-d16c-4189-ba97-ae02baa18526",
   "metadata": {},
   "outputs": [
    {
     "name": "stdout",
     "output_type": "stream",
     "text": [
      "+-------+-----+\n",
      "|TailNum|count|\n",
      "+-------+-----+\n",
      "| N317AE|    2|\n",
      "| N515MJ|    2|\n",
      "| N625CA|    1|\n",
      "| N27213|    1|\n",
      "| N932AE|    1|\n",
      "+-------+-----+\n",
      "only showing top 5 rows\n",
      "\n"
     ]
    }
   ],
   "source": [
    "# example print\n",
    "data = loadDataAndRegister(sampleFile)\n",
    "flightCount(data).show(5)"
   ]
  },
  {
   "cell_type": "code",
   "execution_count": 9,
   "id": "04376ac5-a32a-406d-88ff-e72a13a03d29",
   "metadata": {},
   "outputs": [
    {
     "ename": "AssertionError",
     "evalue": "the row was expected to be {'TailNum': 'N856AS', 'count': 1} but it was {'TailNum': 'N873AS', 'count': 1}",
     "output_type": "error",
     "traceback": [
      "\u001b[0;31m---------------------------------------------------------------------------\u001b[0m",
      "\u001b[0;31mAssertionError\u001b[0m                            Traceback (most recent call last)",
      "\u001b[0;32m/tmp/ipykernel_368925/1943836616.py\u001b[0m in \u001b[0;36m<module>\u001b[0;34m\u001b[0m\n\u001b[1;32m     12\u001b[0m ]\n\u001b[1;32m     13\u001b[0m \u001b[0;34m\u001b[0m\u001b[0m\n\u001b[0;32m---> 14\u001b[0;31m \u001b[0mcorrectRows\u001b[0m\u001b[0;34m(\u001b[0m\u001b[0mflightCount\u001b[0m\u001b[0;34m(\u001b[0m\u001b[0mdata\u001b[0m\u001b[0;34m)\u001b[0m\u001b[0;34m.\u001b[0m\u001b[0mcollect\u001b[0m\u001b[0;34m(\u001b[0m\u001b[0;34m)\u001b[0m\u001b[0;34m,\u001b[0m \u001b[0mcorrect\u001b[0m\u001b[0;34m)\u001b[0m\u001b[0;34m\u001b[0m\u001b[0;34m\u001b[0m\u001b[0m\n\u001b[0m",
      "\u001b[0;32m/tmp/ipykernel_368925/300246960.py\u001b[0m in \u001b[0;36mcorrectRows\u001b[0;34m(testArray, correctArray)\u001b[0m\n\u001b[1;32m      4\u001b[0m \u001b[0;32mdef\u001b[0m \u001b[0mcorrectRows\u001b[0m\u001b[0;34m(\u001b[0m\u001b[0mtestArray\u001b[0m\u001b[0;34m,\u001b[0m \u001b[0mcorrectArray\u001b[0m\u001b[0;34m)\u001b[0m\u001b[0;34m:\u001b[0m\u001b[0;34m\u001b[0m\u001b[0;34m\u001b[0m\u001b[0m\n\u001b[1;32m      5\u001b[0m     \u001b[0;32mfor\u001b[0m \u001b[0mi\u001b[0m \u001b[0;32min\u001b[0m \u001b[0mrange\u001b[0m\u001b[0;34m(\u001b[0m\u001b[0;36m0\u001b[0m\u001b[0;34m,\u001b[0m \u001b[0mlen\u001b[0m\u001b[0;34m(\u001b[0m\u001b[0mcorrectArray\u001b[0m\u001b[0;34m)\u001b[0m\u001b[0;34m)\u001b[0m\u001b[0;34m:\u001b[0m\u001b[0;34m\u001b[0m\u001b[0;34m\u001b[0m\u001b[0m\n\u001b[0;32m----> 6\u001b[0;31m         assert (\n\u001b[0m\u001b[1;32m      7\u001b[0m             \u001b[0mtestArray\u001b[0m\u001b[0;34m[\u001b[0m\u001b[0mi\u001b[0m\u001b[0;34m]\u001b[0m\u001b[0;34m.\u001b[0m\u001b[0masDict\u001b[0m\u001b[0;34m(\u001b[0m\u001b[0;34m)\u001b[0m \u001b[0;34m==\u001b[0m \u001b[0mcorrectArray\u001b[0m\u001b[0;34m[\u001b[0m\u001b[0mi\u001b[0m\u001b[0;34m]\u001b[0m\u001b[0;34m.\u001b[0m\u001b[0masDict\u001b[0m\u001b[0;34m(\u001b[0m\u001b[0;34m)\u001b[0m\u001b[0;34m\u001b[0m\u001b[0;34m\u001b[0m\u001b[0m\n\u001b[1;32m      8\u001b[0m         \u001b[0;34m)\u001b[0m\u001b[0;34m,\u001b[0m \u001b[0;34m\"the row was expected to be %s but it was %s\"\u001b[0m \u001b[0;34m%\u001b[0m \u001b[0;34m(\u001b[0m\u001b[0;34m\u001b[0m\u001b[0;34m\u001b[0m\u001b[0m\n",
      "\u001b[0;31mAssertionError\u001b[0m: the row was expected to be {'TailNum': 'N856AS', 'count': 1} but it was {'TailNum': 'N873AS', 'count': 1}"
     ]
    }
   ],
   "source": [
    "\"\"\"flightCount tests\"\"\"\n",
    "\n",
    "data = loadDataAndRegister(testFile)\n",
    "\n",
    "correct = [\n",
    "    Row(TailNum=\"N824AS\", count=2),\n",
    "    Row(TailNum=\"N856AS\", count=1),\n",
    "    Row(TailNum=\"N886AS\", count=1),\n",
    "    Row(TailNum=\"N916EV\", count=1),\n",
    "    Row(TailNum=\"N873AS\", count=1),\n",
    "    Row(TailNum=\"N881AS\", count=1),\n",
    "]\n",
    "\n",
    "correctRows(flightCount(data).collect(), correct)"
   ]
  },
  {
   "cell_type": "markdown",
   "id": "882390b8-87d7-402e-a42f-3111e31d83bb",
   "metadata": {},
   "source": [
    "### You can either use Spark SQL or normal DataFrame (given as parameter) transformations to implement the methods below.\n",
    "\n",
    "## Cancelled Due to Security\n",
    "`cancelledDueToSecurity` finds which flights were cancelled due to security reasons. \n",
    "\n",
    "`return`: DataFrame containing flights which were cancelled due to security reasons (CancellationCode = \"D\"). Columns \"FlightNum\" and \"Dest\" should be included.\n",
    "\n",
    "Example output:\n",
    "\n",
    "FlightNum|Dest|\n",
    "----:|-------\n",
    "4285| DHN|\n",
    "4790| ATL|\n",
    "3631| LEX|\n",
    "3632| DFW|"
   ]
  },
  {
   "cell_type": "code",
   "execution_count": null,
   "id": "5666d2e0-9f8c-4bbd-9fe7-07f00cdfa50d",
   "metadata": {},
   "outputs": [],
   "source": [
    "def cancelledDueToSecurity(df):\n",
    "    return df.filter(df.CancellationCode == \"D\").select([\"FlightNum\", \"Dest\"])\n",
    "    raise NotImplementedError()"
   ]
  },
  {
   "cell_type": "code",
   "execution_count": null,
   "id": "c96d6355-95dd-4c5e-a7ed-4cdd389909b9",
   "metadata": {},
   "outputs": [],
   "source": [
    "# example print\n",
    "\n",
    "data = loadDataAndRegister(sampleFile)\n",
    "cancelledDueToSecurity(data).show(5)"
   ]
  },
  {
   "cell_type": "code",
   "execution_count": null,
   "id": "63db17e8-31ba-4929-ba4d-691d594f2754",
   "metadata": {},
   "outputs": [],
   "source": [
    "\"\"\"cancelledDueToSecurity tests\"\"\"\n",
    "\n",
    "data = loadDataAndRegister(testFile)\n",
    "correct = [Row(FlightNum=4794, Dest=\"JFK\"), Row(FlightNum=4794, Dest=\"ATL\")]\n",
    "correctRows(cancelledDueToSecurity(data).collect(), correct)"
   ]
  },
  {
   "cell_type": "markdown",
   "id": "92b1de57-eb65-4d5d-9638-52073aab145e",
   "metadata": {},
   "source": [
    "## Longest Weather Delay\n",
    "`longestWeatherDelay` finds the longest weather delay between January and March (1.1-31.3).\n",
    "\n",
    "`return`: DataFrame containing the longest weather delay.\n",
    "\n",
    "Example output:\n",
    "\n",
    "|_c0|\n",
    "|-------:|\n",
    "|1148|"
   ]
  },
  {
   "cell_type": "code",
   "execution_count": null,
   "id": "6562c4b6-e464-4d54-a685-b8735787f0cd",
   "metadata": {},
   "outputs": [],
   "source": [
    "def longestWeatherDelay(df):\n",
    "    return (\n",
    "        df.filter((df.Month >= 1) & (df.Month <= 3))\n",
    "        .select(\"WeatherDelay\")\n",
    "        .agg({\"WeatherDelay\": \"max\"})\n",
    "    )\n",
    "    raise NotImplementedError()"
   ]
  },
  {
   "cell_type": "code",
   "execution_count": null,
   "id": "7e450bdb-e01e-4e4c-bc52-b00c0e83bee3",
   "metadata": {},
   "outputs": [],
   "source": [
    "# example print\n",
    "\n",
    "data = loadDataAndRegister(sampleFile)\n",
    "longestWeatherDelay(data).show()"
   ]
  },
  {
   "cell_type": "code",
   "execution_count": null,
   "id": "235a6384-09c6-4066-ae4d-46aa1379c685",
   "metadata": {},
   "outputs": [],
   "source": [
    "\"\"\"longestWeatherDelay tests\"\"\"\n",
    "\n",
    "data = loadDataAndRegister(testFile)\n",
    "test = longestWeatherDelay(data).first()[0]\n",
    "\n",
    "assert test == 7, \"the longest weather delay was expected to be 7 but it was %s\" % test"
   ]
  },
  {
   "cell_type": "markdown",
   "id": "170e88aa-2f2f-4beb-a09e-5123c4be83f0",
   "metadata": {},
   "source": [
    "## Did Not Fly\n",
    "`didNotFly` finds which airlines didn't have flights. \n",
    "\n",
    "`return`: DataFrame containig descriptions (names) of airlines that didn't have flights.\n",
    "\n",
    "Example output:\n",
    "\n",
    "|         Description|\n",
    "|--------------------|\n",
    "|Aero Transcolombiana|\n",
    "|Transmeridian Air...|\n",
    "|Luftransport-Unte...|\n",
    "|Euro Atlantic Air...|\n",
    "|    Pearson Aircraft|\n",
    "\n",
    "\n",
    "Hints:\n",
    "- Schema \"UniqueCarrier\" (the code of airline) of table \"airtraffic\" can be used when implementing this method.\n",
    "- Table \"carriers\" containing airlines' names is already loaded to \"carriersTable\" object at the beginning."
   ]
  },
  {
   "cell_type": "code",
   "execution_count": null,
   "id": "5fb67374-0181-4624-93c1-14bbb385c48f",
   "metadata": {},
   "outputs": [],
   "source": [
    "def didNotFly(df):\n",
    "    # YOUR CODE HERE\n",
    "    raise NotImplementedError()"
   ]
  },
  {
   "cell_type": "code",
   "execution_count": null,
   "id": "b18c44b9-284e-4b30-90b7-33613943c0f1",
   "metadata": {},
   "outputs": [],
   "source": [
    "# example print\n",
    "\n",
    "data = loadDataAndRegister(sampleFile)\n",
    "didNotFly(data).show(5)"
   ]
  },
  {
   "cell_type": "code",
   "execution_count": null,
   "id": "ab9e9403-1fc5-4134-8e00-df7eb51eea63",
   "metadata": {},
   "outputs": [],
   "source": [
    "\"\"\"didNotFly tests\"\"\"\n",
    "\n",
    "data = loadDataAndRegister(testFile)\n",
    "test = didNotFly(data).count()\n",
    "\n",
    "assert test == 1489, (\n",
    "    \"the amount of airlines that didn't fly was expected to be 1489 but it was %s\"\n",
    "    % test\n",
    ")"
   ]
  },
  {
   "cell_type": "markdown",
   "id": "933dcbd6-e435-41b3-9f72-a5139266947d",
   "metadata": {},
   "source": [
    "## Flights from Vegas to JFK\n",
    "`flightsFromVegasToJFK` finds airlines that fly from Vegas to JFK.\n",
    "\n",
    "`return`: DataFrame containing columns \"Descriptions\" (names of airlines) and \"Num\" (number of flights). **The DataFrame should be sorted by Num in descending order.**\n",
    "\n",
    "Example output:\n",
    "\n",
    "|         Description|Num|\n",
    "|--------------------|---|\n",
    "|     JetBlue Airways|566|\n",
    "|Delta Air Lines Inc.|441|\n",
    "|US Airways Inc. (...|344|\n",
    "|American Airlines...|121|\n",
    "\n",
    "Hints:\n",
    "- Vegas iasa code: LAS. JFK iasa code: JFK"
   ]
  },
  {
   "cell_type": "code",
   "execution_count": null,
   "id": "e2208977-8dd7-463e-8164-a46ff30fcb4b",
   "metadata": {},
   "outputs": [],
   "source": [
    "def flightsFromVegasToJFK(df):\n",
    "    # YOUR CODE HERE\n",
    "    raise NotImplementedError()"
   ]
  },
  {
   "cell_type": "code",
   "execution_count": null,
   "id": "daa42d0b-cc22-4e37-bfb4-5ed84a9d7a91",
   "metadata": {},
   "outputs": [],
   "source": [
    "# example print\n",
    "\n",
    "data = loadDataAndRegister(sampleFile)\n",
    "flightsFromVegasToJFK(data).show(5)"
   ]
  },
  {
   "cell_type": "code",
   "execution_count": null,
   "id": "6128f074-6bf5-467d-bcfa-3ea767426ddd",
   "metadata": {},
   "outputs": [],
   "source": [
    "\"\"\"flightsFromVegasToJFK tests\"\"\"\n",
    "\n",
    "data = loadDataAndRegister(testFile)\n",
    "correct = [\n",
    "    Row(Description=\"Titan Airways\", Num=1),\n",
    "    Row(Description=\"Atlantic Southeast Airlines\", Num=1),\n",
    "]\n",
    "correctRows(flightsFromVegasToJFK(data).collect(), correct)"
   ]
  },
  {
   "cell_type": "markdown",
   "id": "0ac23e4c-2885-4b89-809c-377200859113",
   "metadata": {},
   "source": [
    "## Time Spent in Taxiing\n",
    "`timeSpentTaxiing` finds how much time airplanes spent in moving from gate to the runway and vise versa at an airport on average. \n",
    "\n",
    "`return`: DataFrame contains the average time spent in taxiing per airport. The DataFrame should contain columns \"airport\" (iata codes of airports) and \"taxi\" (the average time spent in taxiing). **The DataFrame should be sorted by \"taxi\" in ascending order.**\n",
    "\n",
    "Example output:\n",
    "\n",
    "|airport|             taxi|\n",
    "|-------|-----------------|\n",
    "|    DLG|              4.0|\n",
    "|    BRW|5.051010191310567|\n",
    "|    OME|6.034800675790983|\n",
    "|    AKN|             6.75|\n",
    "|    SCC|6.842553191489362|\n",
    "\n",
    "Hints:\n",
    "- Columns \"TaxiIn\" and \"TaxiOut\" tells time spend in taxiing. \"TaxiIn\" means time spent in taxiing in departure (\"Origin\") airport and \"TaxiOut\" spent in taxiing in arrival (\"Dest\") airport. The wanted average is (average taxiing at origin for a given destination + average taxiing at destination for a given matching origin) / 2."
   ]
  },
  {
   "cell_type": "code",
   "execution_count": null,
   "id": "b46f11b9-bbe7-46e0-8ce0-d582c711e76c",
   "metadata": {},
   "outputs": [],
   "source": [
    "def timeSpentTaxiing(df):\n",
    "\n",
    "    # YOUR CODE HERE\n",
    "    raise NotImplementedError()"
   ]
  },
  {
   "cell_type": "code",
   "execution_count": null,
   "id": "02c7477a-e692-4b6b-8631-6594e3b253df",
   "metadata": {},
   "outputs": [],
   "source": [
    "# example print\n",
    "\n",
    "data = loadDataAndRegister(sampleFile)\n",
    "timeSpentTaxiing(data).show(5)"
   ]
  },
  {
   "cell_type": "code",
   "execution_count": null,
   "id": "b7869bd5-7972-4678-80dd-5a3ad3cb20d9",
   "metadata": {},
   "outputs": [],
   "source": [
    "\"\"\"timeSpentTaxiing tests\"\"\"\n",
    "\n",
    "data = loadDataAndRegister(testFile)\n",
    "correct = [Row(airport=\"LAS\", taxi=11.0), Row(airport=\"JFK\", taxi=13.25)]\n",
    "correctRows(timeSpentTaxiing(data).collect(), correct)"
   ]
  },
  {
   "cell_type": "markdown",
   "id": "d9e8530c-a76b-4b1a-a8b0-c3c433cd3eb4",
   "metadata": {},
   "source": [
    "## Distance Median\n",
    "`distanceMedian` finds the median travel distance.\n",
    "\n",
    "`return`: DataFrame containing the median travel distance.\n",
    "\n",
    "Example output:\n",
    "\n",
    "|_ c0|\n",
    "|---|\n",
    "|583.0|\n",
    "\n",
    "Hints:\n",
    "- Schema \"Distance\" of table \"airtraffic\" contains distance information.\n",
    "- You should use exact percentile functions like Spark SQL build-in [percentile function](https://spark.apache.org/docs/latest/api/sql/index.html#percentile).  \n",
    "- What does percentile mean? Please check: https://en.wikipedia.org/wiki/Percentile#Third_variant and http://onlinestatbook.com/2/introduction/percentiles.html"
   ]
  },
  {
   "cell_type": "code",
   "execution_count": null,
   "id": "7ce05659-4258-4607-adb0-622ff6b3bb8b",
   "metadata": {},
   "outputs": [],
   "source": [
    "def distanceMedian(df):\n",
    "\n",
    "    # YOUR CODE HERE\n",
    "    raise NotImplementedError()"
   ]
  },
  {
   "cell_type": "code",
   "execution_count": null,
   "id": "e97b74c5-6c15-48f8-915d-8f3cc6958ca7",
   "metadata": {},
   "outputs": [],
   "source": [
    "# example print\n",
    "\n",
    "data = loadDataAndRegister(sampleFile)\n",
    "distanceMedian(data).show()"
   ]
  },
  {
   "cell_type": "code",
   "execution_count": null,
   "id": "1a94a019-f5a6-41ae-977e-1c6b146c4220",
   "metadata": {},
   "outputs": [],
   "source": [
    "\"\"\"distanceMedian tests\"\"\"\n",
    "\n",
    "data = loadDataAndRegister(testFile)\n",
    "test = distanceMedian(data).first()[0]\n",
    "assert test == 357.0, (\n",
    "    \"the distance median was expected to be 357.0 but it was %s\" % test\n",
    ")"
   ]
  },
  {
   "cell_type": "markdown",
   "id": "f7dce254-a90a-42b4-bccb-407444b19322",
   "metadata": {},
   "source": [
    "## Score95\n",
    "`score95` finds the percentile, below which 95% of the delay (CarrierDelay) observations may be found. \n",
    "\n",
    "return: DataFrame containing the 95th percentile of carrier delay. \n",
    "\n",
    "Example output:\n",
    "\n",
    "|_ c0|\n",
    "|----|\n",
    "|77.0|\n",
    "\n",
    "Hints:\n",
    "- You should use exact percentile functions like Spark SQL build-in [percentile function](https://spark.apache.org/docs/latest/api/sql/index.html#percentile). "
   ]
  },
  {
   "cell_type": "code",
   "execution_count": null,
   "id": "550b09a8-e7cb-4152-b256-c6b929aa61dc",
   "metadata": {},
   "outputs": [],
   "source": [
    "def score95(df):\n",
    "\n",
    "    # YOUR CODE HERE\n",
    "    raise NotImplementedError()"
   ]
  },
  {
   "cell_type": "code",
   "execution_count": null,
   "id": "5c73b08d-f3f6-44bd-84c8-de672fd347ca",
   "metadata": {},
   "outputs": [],
   "source": [
    "def score95(df):\n",
    "\n",
    "    # YOUR CODE HERE\n",
    "    raise NotImplementedError()"
   ]
  },
  {
   "cell_type": "code",
   "execution_count": null,
   "id": "e4679571-b830-43d2-bd9f-c3da23d8dc23",
   "metadata": {},
   "outputs": [],
   "source": [
    "\"\"\"score95 tests\"\"\"\n",
    "\n",
    "data = loadDataAndRegister(testFile)\n",
    "test = score95(data).first()[0]\n",
    "assert test == 17.0, \"the score95 was expected to be 17.0 but it was %s\" % test"
   ]
  },
  {
   "cell_type": "markdown",
   "id": "33e6cbcf-43c6-4042-aef9-76aae2312986",
   "metadata": {},
   "source": [
    "## Cancelled Flights\n",
    "`cancelledFlights` finds airports where flights were cancelled. \n",
    "\n",
    "return: DataFrame containing columns \"airport\", \"city\" and \"percentage\". \n",
    "- Columns \"airport\" and \"city\" can be found from table \"airports\". Column \"percentage\" is the cancellation percentage of each airport (number of cancelled flights/total of flights).\n",
    "- **The returned DataFrame should be sorted by \"percentage\" and secondly by \"airport\" both in descending order.**\n",
    "\n",
    "Example output:\n",
    "\n",
    "|             airport|       city|         percentage|\n",
    "|--------------------|-----------|-------------------|\n",
    "|Pellston Regional...|   Pellston| 0.3157894736842105|\n",
    "|  Waterloo Municipal|   Waterloo|               0.25|\n",
    "|  Telluride Regional|  Telluride|0.21084337349397592|\n",
    "|Houghton County M...|    Hancock|0.19834710743801653|\n",
    "|Rhinelander-Oneid...|Rhinelander|            0.15625|"
   ]
  },
  {
   "cell_type": "code",
   "execution_count": null,
   "id": "fd9e6498-3b63-43a8-9850-9d9a0753371f",
   "metadata": {},
   "outputs": [],
   "source": [
    "def cancelledFlights(df):\n",
    "\n",
    "    # YOUR CODE HERE\n",
    "    raise NotImplementedError()"
   ]
  },
  {
   "cell_type": "code",
   "execution_count": null,
   "id": "3ff6390c-5b2a-42d0-aca8-e673ae18c7e7",
   "metadata": {},
   "outputs": [],
   "source": [
    "# example print\n",
    "\n",
    "data = loadDataAndRegister(sampleFile)\n",
    "cancelledFlights(data).show(5)"
   ]
  },
  {
   "cell_type": "code",
   "execution_count": null,
   "id": "71a4eca2-6d12-4ad1-9d10-dc460e1d1745",
   "metadata": {},
   "outputs": [],
   "source": [
    "\"\"\"cancelledFlights tests\"\"\"\n",
    "\n",
    "data = loadDataAndRegister(testFile)\n",
    "correct = [\n",
    "    Row(airport=\"McCarran International\", city=\"Las Vegas\", percentage=0.5),\n",
    "    Row(airport=\"Roanoke Regional/ Woodrum \", city=\"Roanoke\", percentage=0.25),\n",
    "]\n",
    "correctRows(cancelledFlights(data).collect(), correct)"
   ]
  },
  {
   "cell_type": "markdown",
   "id": "a8ca697d-bc54-4838-b08f-43e1544a44ce",
   "metadata": {},
   "source": [
    "## Least Squares\n",
    "`leastSquares` calculates the [linear least squares](https://en.wikipedia.org/wiki/Linear_least_squares) approximation for relationship between DepDelay and WeatherDelay (y=bx+c, where x represents DepDelay and y WeatherDelay, b is the slope and c constant term). We want to predict WeatherDelay.\n",
    "\n",
    "`return`: tuple that has the constant term first and the slope second. If least squares can not be calculated, return 0.0 as terms.\n",
    "\n",
    "Hints:\n",
    "- Filter out entries where DepDelay<0 before calculating the linear least squares.\n",
    "- There are definitely multiple datapoints for a single DepDelay value so calculate the average WeatherDelay per DepDelay.\n",
    "- These links may be helpful:\n",
    "    - https://en.wikipedia.org/wiki/Simple_linear_regression#Fitting_the_regression_line\n",
    "    - http://www.neoprogrammics.com/linear_least_squares_regression\n",
    "    - https://www.youtube.com/watch?v=JvS2triCgOY"
   ]
  },
  {
   "cell_type": "code",
   "execution_count": null,
   "id": "4f34af2c-cc3e-465d-a0c4-4a49afee5e25",
   "metadata": {},
   "outputs": [],
   "source": [
    "def leastSquares(df):\n",
    "\n",
    "    # YOUR CODE HERE\n",
    "    raise NotImplementedError()"
   ]
  },
  {
   "cell_type": "code",
   "execution_count": null,
   "id": "c0643882-64d0-476f-af7f-a6d8bc72c135",
   "metadata": {},
   "outputs": [],
   "source": [
    "# example print\n",
    "\n",
    "data = loadDataAndRegister(sampleFile)\n",
    "leastSquares(data)"
   ]
  },
  {
   "cell_type": "code",
   "execution_count": null,
   "id": "0fa8561e-26e4-4baf-8020-27cb681ce71a",
   "metadata": {},
   "outputs": [],
   "source": [
    "data = loadDataAndRegister(testFile)\n",
    "test = leastSquares(data)\n",
    "assert test == (952.0, -56.0), (\n",
    "    \"the answer was expected to be (952.0, -56.0) but it was %s\" % test\n",
    ")"
   ]
  },
  {
   "cell_type": "code",
   "execution_count": null,
   "id": "ba90cb08-4aae-4473-8a12-36da5102e65d",
   "metadata": {},
   "outputs": [],
   "source": []
  },
  {
   "cell_type": "code",
   "execution_count": null,
   "id": "e07e0372-7433-480c-affa-9c7bfc3895cb",
   "metadata": {},
   "outputs": [],
   "source": [
    "spark.stop()"
   ]
  }
 ],
 "metadata": {
  "kernelspec": {
   "display_name": "Python 3 (ipykernel)",
   "language": "python",
   "name": "python3"
  },
  "language_info": {
   "codemirror_mode": {
    "name": "ipython",
    "version": 3
   },
   "file_extension": ".py",
   "mimetype": "text/x-python",
   "name": "python",
   "nbconvert_exporter": "python",
   "pygments_lexer": "ipython3",
   "version": "3.8.10"
  }
 },
 "nbformat": 4,
 "nbformat_minor": 5
}
